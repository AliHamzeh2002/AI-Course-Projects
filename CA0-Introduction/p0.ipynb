{
 "cells": [
  {
   "attachments": {},
   "cell_type": "markdown",
   "metadata": {},
   "source": [
    "# Computer Assignment #0\n",
    "## Ali Hamzehpour 810100129\n",
    "### Working with a dataset and make predictions with statistics analysis\n",
    "We are given a dataset which includes some attributes about each individual and we want to predict if their salary is more than 50K$ or not. At first we should manipulate the dataset and make it better for statistics analysis. Also we are asked to find some individuals with specific attributes in order to have a better understanding of the dataset.<br>\n",
    "The dataset contains these information for each person:\n",
    "* age\n",
    "* workclass\n",
    "* fnlwgt: This is simply a weight \n",
    "* education-num\n",
    "* marital-status\n",
    "* occupation\n",
    "* relationship\n",
    "* race\n",
    "* sex\n",
    "* capital-gain\n",
    "* capital-loss\n",
    "* hours-per-week\n",
    "* native-country\n",
    "* salary: indicates if salary is more than 50K$ or not and this is what we want to predict\n",
    "    "
   ]
  },
  {
   "cell_type": "code",
   "execution_count": 611,
   "metadata": {},
   "outputs": [
    {
     "name": "stdout",
     "output_type": "stream",
     "text": [
      "Requirement already satisfied: numpy in c:\\users\\ali\\appdata\\local\\programs\\python\\python39\\lib\\site-packages (1.19.5)\n",
      "Requirement already satisfied: pandas in c:\\users\\ali\\appdata\\local\\programs\\python\\python39\\lib\\site-packages (1.3.1)\n",
      "Requirement already satisfied: pytz>=2017.3 in c:\\users\\ali\\appdata\\local\\programs\\python\\python39\\lib\\site-packages (from pandas) (2021.1)\n",
      "Requirement already satisfied: python-dateutil>=2.7.3 in c:\\users\\ali\\appdata\\local\\programs\\python\\python39\\lib\\site-packages (from pandas) (2.8.2)\n",
      "Requirement already satisfied: numpy>=1.17.3 in c:\\users\\ali\\appdata\\local\\programs\\python\\python39\\lib\\site-packages (from pandas) (1.19.5)\n",
      "Requirement already satisfied: six>=1.5 in c:\\users\\ali\\appdata\\local\\programs\\python\\python39\\lib\\site-packages (from python-dateutil>=2.7.3->pandas) (1.15.0)\n",
      "Requirement already satisfied: matplotlib in c:\\users\\ali\\appdata\\local\\programs\\python\\python39\\lib\\site-packages (3.4.2)\n",
      "Requirement already satisfied: numpy>=1.16 in c:\\users\\ali\\appdata\\local\\programs\\python\\python39\\lib\\site-packages (from matplotlib) (1.19.5)\n",
      "Requirement already satisfied: python-dateutil>=2.7 in c:\\users\\ali\\appdata\\local\\programs\\python\\python39\\lib\\site-packages (from matplotlib) (2.8.2)\n",
      "Requirement already satisfied: kiwisolver>=1.0.1 in c:\\users\\ali\\appdata\\local\\programs\\python\\python39\\lib\\site-packages (from matplotlib) (1.3.1)\n",
      "Requirement already satisfied: pyparsing>=2.2.1 in c:\\users\\ali\\appdata\\local\\programs\\python\\python39\\lib\\site-packages (from matplotlib) (2.4.7)\n",
      "Requirement already satisfied: pillow>=6.2.0 in c:\\users\\ali\\appdata\\local\\programs\\python\\python39\\lib\\site-packages (from matplotlib) (8.3.1)\n",
      "Requirement already satisfied: cycler>=0.10 in c:\\users\\ali\\appdata\\local\\programs\\python\\python39\\lib\\site-packages (from matplotlib) (0.10.0)\n",
      "Requirement already satisfied: six in c:\\users\\ali\\appdata\\local\\programs\\python\\python39\\lib\\site-packages (from cycler>=0.10->matplotlib) (1.15.0)\n",
      "Requirement already satisfied: scipy in c:\\users\\ali\\appdata\\local\\programs\\python\\python39\\lib\\site-packages (1.7.1)\n",
      "Requirement already satisfied: numpy<1.23.0,>=1.16.5 in c:\\users\\ali\\appdata\\local\\programs\\python\\python39\\lib\\site-packages (from scipy) (1.19.5)\n"
     ]
    }
   ],
   "source": [
    "!pip install numpy\n",
    "!pip install pandas\n",
    "!pip install matplotlib\n",
    "!pip install scipy"
   ]
  },
  {
   "cell_type": "markdown",
   "metadata": {},
   "source": [
    "First we load the train dataset which we want to develop our prediction model using it."
   ]
  },
  {
   "cell_type": "code",
   "execution_count": 612,
   "metadata": {},
   "outputs": [],
   "source": [
    "import pandas as pd\n",
    "\n",
    "TRAIN_DATA_SET_DIR = \"train.csv\"\n",
    "train_df = pd.read_csv(TRAIN_DATA_SET_DIR)"
   ]
  },
  {
   "attachments": {},
   "cell_type": "markdown",
   "metadata": {},
   "source": [
    "Now, In order to get a general understanding of our dataset we can call some functions from pandas library.<br>\n",
    "First we call ```.describe()``` which gives us some useful information for each <i>numeric</i> column of the data frame:\n",
    "* count -> number of values in that column\n",
    "* mean \n",
    "* std -> standard deviation\n",
    "* min\n",
    "* 25%, 50% and 75% percentiles\n",
    "* max"
   ]
  },
  {
   "cell_type": "code",
   "execution_count": 613,
   "metadata": {},
   "outputs": [
    {
     "data": {
      "text/html": [
       "<div>\n",
       "<style scoped>\n",
       "    .dataframe tbody tr th:only-of-type {\n",
       "        vertical-align: middle;\n",
       "    }\n",
       "\n",
       "    .dataframe tbody tr th {\n",
       "        vertical-align: top;\n",
       "    }\n",
       "\n",
       "    .dataframe thead th {\n",
       "        text-align: right;\n",
       "    }\n",
       "</style>\n",
       "<table border=\"1\" class=\"dataframe\">\n",
       "  <thead>\n",
       "    <tr style=\"text-align: right;\">\n",
       "      <th></th>\n",
       "      <th>age</th>\n",
       "      <th>fnlwgt</th>\n",
       "      <th>education-num</th>\n",
       "      <th>capital-gain</th>\n",
       "      <th>capital-loss</th>\n",
       "      <th>hours-per-week</th>\n",
       "    </tr>\n",
       "  </thead>\n",
       "  <tbody>\n",
       "    <tr>\n",
       "      <th>count</th>\n",
       "      <td>29825.000000</td>\n",
       "      <td>2.982500e+04</td>\n",
       "      <td>29825.000000</td>\n",
       "      <td>29825.000000</td>\n",
       "      <td>29825.000000</td>\n",
       "      <td>29825.000000</td>\n",
       "    </tr>\n",
       "    <tr>\n",
       "      <th>mean</th>\n",
       "      <td>38.581425</td>\n",
       "      <td>1.897389e+05</td>\n",
       "      <td>10.079229</td>\n",
       "      <td>1094.586052</td>\n",
       "      <td>86.476513</td>\n",
       "      <td>40.434334</td>\n",
       "    </tr>\n",
       "    <tr>\n",
       "      <th>std</th>\n",
       "      <td>13.652005</td>\n",
       "      <td>1.053738e+05</td>\n",
       "      <td>2.571678</td>\n",
       "      <td>7485.908646</td>\n",
       "      <td>401.195078</td>\n",
       "      <td>12.308174</td>\n",
       "    </tr>\n",
       "    <tr>\n",
       "      <th>min</th>\n",
       "      <td>17.000000</td>\n",
       "      <td>1.228500e+04</td>\n",
       "      <td>1.000000</td>\n",
       "      <td>0.000000</td>\n",
       "      <td>0.000000</td>\n",
       "      <td>1.000000</td>\n",
       "    </tr>\n",
       "    <tr>\n",
       "      <th>25%</th>\n",
       "      <td>28.000000</td>\n",
       "      <td>1.178490e+05</td>\n",
       "      <td>9.000000</td>\n",
       "      <td>0.000000</td>\n",
       "      <td>0.000000</td>\n",
       "      <td>40.000000</td>\n",
       "    </tr>\n",
       "    <tr>\n",
       "      <th>50%</th>\n",
       "      <td>37.000000</td>\n",
       "      <td>1.785170e+05</td>\n",
       "      <td>10.000000</td>\n",
       "      <td>0.000000</td>\n",
       "      <td>0.000000</td>\n",
       "      <td>40.000000</td>\n",
       "    </tr>\n",
       "    <tr>\n",
       "      <th>75%</th>\n",
       "      <td>48.000000</td>\n",
       "      <td>2.368790e+05</td>\n",
       "      <td>12.000000</td>\n",
       "      <td>0.000000</td>\n",
       "      <td>0.000000</td>\n",
       "      <td>45.000000</td>\n",
       "    </tr>\n",
       "    <tr>\n",
       "      <th>max</th>\n",
       "      <td>90.000000</td>\n",
       "      <td>1.484705e+06</td>\n",
       "      <td>16.000000</td>\n",
       "      <td>99999.000000</td>\n",
       "      <td>4356.000000</td>\n",
       "      <td>99.000000</td>\n",
       "    </tr>\n",
       "  </tbody>\n",
       "</table>\n",
       "</div>"
      ],
      "text/plain": [
       "                age        fnlwgt  education-num  capital-gain  capital-loss  \\\n",
       "count  29825.000000  2.982500e+04   29825.000000  29825.000000  29825.000000   \n",
       "mean      38.581425  1.897389e+05      10.079229   1094.586052     86.476513   \n",
       "std       13.652005  1.053738e+05       2.571678   7485.908646    401.195078   \n",
       "min       17.000000  1.228500e+04       1.000000      0.000000      0.000000   \n",
       "25%       28.000000  1.178490e+05       9.000000      0.000000      0.000000   \n",
       "50%       37.000000  1.785170e+05      10.000000      0.000000      0.000000   \n",
       "75%       48.000000  2.368790e+05      12.000000      0.000000      0.000000   \n",
       "max       90.000000  1.484705e+06      16.000000  99999.000000   4356.000000   \n",
       "\n",
       "       hours-per-week  \n",
       "count    29825.000000  \n",
       "mean        40.434334  \n",
       "std         12.308174  \n",
       "min          1.000000  \n",
       "25%         40.000000  \n",
       "50%         40.000000  \n",
       "75%         45.000000  \n",
       "max         99.000000  "
      ]
     },
     "execution_count": 613,
     "metadata": {},
     "output_type": "execute_result"
    }
   ],
   "source": [
    "train_df.describe()"
   ]
  },
  {
   "attachments": {},
   "cell_type": "markdown",
   "metadata": {},
   "source": [
    "We can call ```.tail()``` and ```.head()``` functions to get the last 5 and first 5 rows in the data frame:"
   ]
  },
  {
   "cell_type": "code",
   "execution_count": 614,
   "metadata": {},
   "outputs": [
    {
     "data": {
      "text/html": [
       "<div>\n",
       "<style scoped>\n",
       "    .dataframe tbody tr th:only-of-type {\n",
       "        vertical-align: middle;\n",
       "    }\n",
       "\n",
       "    .dataframe tbody tr th {\n",
       "        vertical-align: top;\n",
       "    }\n",
       "\n",
       "    .dataframe thead th {\n",
       "        text-align: right;\n",
       "    }\n",
       "</style>\n",
       "<table border=\"1\" class=\"dataframe\">\n",
       "  <thead>\n",
       "    <tr style=\"text-align: right;\">\n",
       "      <th></th>\n",
       "      <th>age</th>\n",
       "      <th>workclass</th>\n",
       "      <th>fnlwgt</th>\n",
       "      <th>education</th>\n",
       "      <th>education-num</th>\n",
       "      <th>marital-status</th>\n",
       "      <th>occupation</th>\n",
       "      <th>relationship</th>\n",
       "      <th>race</th>\n",
       "      <th>sex</th>\n",
       "      <th>capital-gain</th>\n",
       "      <th>capital-loss</th>\n",
       "      <th>hours-per-week</th>\n",
       "      <th>native-country</th>\n",
       "      <th>salary</th>\n",
       "    </tr>\n",
       "  </thead>\n",
       "  <tbody>\n",
       "    <tr>\n",
       "      <th>29820</th>\n",
       "      <td>48</td>\n",
       "      <td>Local-gov</td>\n",
       "      <td>127921</td>\n",
       "      <td>Bachelors</td>\n",
       "      <td>13</td>\n",
       "      <td>Married-civ-spouse</td>\n",
       "      <td>Prof-specialty</td>\n",
       "      <td>Husband</td>\n",
       "      <td>White</td>\n",
       "      <td>Male</td>\n",
       "      <td>0</td>\n",
       "      <td>0</td>\n",
       "      <td>40</td>\n",
       "      <td>United-States</td>\n",
       "      <td>&lt;=50K</td>\n",
       "    </tr>\n",
       "    <tr>\n",
       "      <th>29821</th>\n",
       "      <td>32</td>\n",
       "      <td>Private</td>\n",
       "      <td>42617</td>\n",
       "      <td>Some-college</td>\n",
       "      <td>10</td>\n",
       "      <td>Divorced</td>\n",
       "      <td>Prof-specialty</td>\n",
       "      <td>Not-in-family</td>\n",
       "      <td>White</td>\n",
       "      <td>Female</td>\n",
       "      <td>0</td>\n",
       "      <td>0</td>\n",
       "      <td>30</td>\n",
       "      <td>United-States</td>\n",
       "      <td>&lt;=50K</td>\n",
       "    </tr>\n",
       "    <tr>\n",
       "      <th>29822</th>\n",
       "      <td>47</td>\n",
       "      <td>Local-gov</td>\n",
       "      <td>191389</td>\n",
       "      <td>HS-grad</td>\n",
       "      <td>9</td>\n",
       "      <td>Divorced</td>\n",
       "      <td>Adm-clerical</td>\n",
       "      <td>Unmarried</td>\n",
       "      <td>White</td>\n",
       "      <td>Female</td>\n",
       "      <td>0</td>\n",
       "      <td>0</td>\n",
       "      <td>35</td>\n",
       "      <td>United-States</td>\n",
       "      <td>&lt;=50K</td>\n",
       "    </tr>\n",
       "    <tr>\n",
       "      <th>29823</th>\n",
       "      <td>38</td>\n",
       "      <td>Private</td>\n",
       "      <td>187983</td>\n",
       "      <td>Prof-school</td>\n",
       "      <td>15</td>\n",
       "      <td>Married-civ-spouse</td>\n",
       "      <td>Sales</td>\n",
       "      <td>Wife</td>\n",
       "      <td>White</td>\n",
       "      <td>Female</td>\n",
       "      <td>0</td>\n",
       "      <td>0</td>\n",
       "      <td>40</td>\n",
       "      <td>United-States</td>\n",
       "      <td>&lt;=50K</td>\n",
       "    </tr>\n",
       "    <tr>\n",
       "      <th>29824</th>\n",
       "      <td>18</td>\n",
       "      <td>Private</td>\n",
       "      <td>215110</td>\n",
       "      <td>HS-grad</td>\n",
       "      <td>9</td>\n",
       "      <td>Never-married</td>\n",
       "      <td>Handlers-cleaners</td>\n",
       "      <td>Own-child</td>\n",
       "      <td>Black</td>\n",
       "      <td>Male</td>\n",
       "      <td>0</td>\n",
       "      <td>0</td>\n",
       "      <td>40</td>\n",
       "      <td>United-States</td>\n",
       "      <td>&lt;=50K</td>\n",
       "    </tr>\n",
       "  </tbody>\n",
       "</table>\n",
       "</div>"
      ],
      "text/plain": [
       "       age  workclass  fnlwgt     education  education-num  \\\n",
       "29820   48  Local-gov  127921     Bachelors             13   \n",
       "29821   32    Private   42617  Some-college             10   \n",
       "29822   47  Local-gov  191389       HS-grad              9   \n",
       "29823   38    Private  187983   Prof-school             15   \n",
       "29824   18    Private  215110       HS-grad              9   \n",
       "\n",
       "           marital-status         occupation   relationship   race     sex  \\\n",
       "29820  Married-civ-spouse     Prof-specialty        Husband  White    Male   \n",
       "29821            Divorced     Prof-specialty  Not-in-family  White  Female   \n",
       "29822            Divorced       Adm-clerical      Unmarried  White  Female   \n",
       "29823  Married-civ-spouse              Sales           Wife  White  Female   \n",
       "29824       Never-married  Handlers-cleaners      Own-child  Black    Male   \n",
       "\n",
       "       capital-gain  capital-loss  hours-per-week native-country salary  \n",
       "29820             0             0              40  United-States  <=50K  \n",
       "29821             0             0              30  United-States  <=50K  \n",
       "29822             0             0              35  United-States  <=50K  \n",
       "29823             0             0              40  United-States  <=50K  \n",
       "29824             0             0              40  United-States  <=50K  "
      ]
     },
     "execution_count": 614,
     "metadata": {},
     "output_type": "execute_result"
    }
   ],
   "source": [
    "train_df.tail()"
   ]
  },
  {
   "cell_type": "code",
   "execution_count": 615,
   "metadata": {},
   "outputs": [
    {
     "data": {
      "text/html": [
       "<div>\n",
       "<style scoped>\n",
       "    .dataframe tbody tr th:only-of-type {\n",
       "        vertical-align: middle;\n",
       "    }\n",
       "\n",
       "    .dataframe tbody tr th {\n",
       "        vertical-align: top;\n",
       "    }\n",
       "\n",
       "    .dataframe thead th {\n",
       "        text-align: right;\n",
       "    }\n",
       "</style>\n",
       "<table border=\"1\" class=\"dataframe\">\n",
       "  <thead>\n",
       "    <tr style=\"text-align: right;\">\n",
       "      <th></th>\n",
       "      <th>age</th>\n",
       "      <th>workclass</th>\n",
       "      <th>fnlwgt</th>\n",
       "      <th>education</th>\n",
       "      <th>education-num</th>\n",
       "      <th>marital-status</th>\n",
       "      <th>occupation</th>\n",
       "      <th>relationship</th>\n",
       "      <th>race</th>\n",
       "      <th>sex</th>\n",
       "      <th>capital-gain</th>\n",
       "      <th>capital-loss</th>\n",
       "      <th>hours-per-week</th>\n",
       "      <th>native-country</th>\n",
       "      <th>salary</th>\n",
       "    </tr>\n",
       "  </thead>\n",
       "  <tbody>\n",
       "    <tr>\n",
       "      <th>0</th>\n",
       "      <td>39</td>\n",
       "      <td>State-gov</td>\n",
       "      <td>77516</td>\n",
       "      <td>Bachelors</td>\n",
       "      <td>13</td>\n",
       "      <td>Never-married</td>\n",
       "      <td>Adm-clerical</td>\n",
       "      <td>Not-in-family</td>\n",
       "      <td>White</td>\n",
       "      <td>Male</td>\n",
       "      <td>2174</td>\n",
       "      <td>0</td>\n",
       "      <td>40</td>\n",
       "      <td>United-States</td>\n",
       "      <td>&lt;=50K</td>\n",
       "    </tr>\n",
       "    <tr>\n",
       "      <th>1</th>\n",
       "      <td>50</td>\n",
       "      <td>Self-emp-not-inc</td>\n",
       "      <td>83311</td>\n",
       "      <td>Bachelors</td>\n",
       "      <td>13</td>\n",
       "      <td>Married-civ-spouse</td>\n",
       "      <td>Exec-managerial</td>\n",
       "      <td>Husband</td>\n",
       "      <td>White</td>\n",
       "      <td>Male</td>\n",
       "      <td>0</td>\n",
       "      <td>0</td>\n",
       "      <td>13</td>\n",
       "      <td>United-States</td>\n",
       "      <td>&lt;=50K</td>\n",
       "    </tr>\n",
       "    <tr>\n",
       "      <th>2</th>\n",
       "      <td>38</td>\n",
       "      <td>Private</td>\n",
       "      <td>215646</td>\n",
       "      <td>HS-grad</td>\n",
       "      <td>9</td>\n",
       "      <td>Divorced</td>\n",
       "      <td>Handlers-cleaners</td>\n",
       "      <td>Not-in-family</td>\n",
       "      <td>White</td>\n",
       "      <td>Male</td>\n",
       "      <td>0</td>\n",
       "      <td>0</td>\n",
       "      <td>40</td>\n",
       "      <td>United-States</td>\n",
       "      <td>&lt;=50K</td>\n",
       "    </tr>\n",
       "    <tr>\n",
       "      <th>3</th>\n",
       "      <td>53</td>\n",
       "      <td>Private</td>\n",
       "      <td>234721</td>\n",
       "      <td>11th</td>\n",
       "      <td>7</td>\n",
       "      <td>Married-civ-spouse</td>\n",
       "      <td>Handlers-cleaners</td>\n",
       "      <td>Husband</td>\n",
       "      <td>Black</td>\n",
       "      <td>Male</td>\n",
       "      <td>0</td>\n",
       "      <td>0</td>\n",
       "      <td>40</td>\n",
       "      <td>United-States</td>\n",
       "      <td>&lt;=50K</td>\n",
       "    </tr>\n",
       "    <tr>\n",
       "      <th>4</th>\n",
       "      <td>28</td>\n",
       "      <td>Private</td>\n",
       "      <td>338409</td>\n",
       "      <td>Bachelors</td>\n",
       "      <td>13</td>\n",
       "      <td>Married-civ-spouse</td>\n",
       "      <td>Prof-specialty</td>\n",
       "      <td>Wife</td>\n",
       "      <td>Black</td>\n",
       "      <td>Female</td>\n",
       "      <td>0</td>\n",
       "      <td>0</td>\n",
       "      <td>40</td>\n",
       "      <td>Cuba</td>\n",
       "      <td>&lt;=50K</td>\n",
       "    </tr>\n",
       "  </tbody>\n",
       "</table>\n",
       "</div>"
      ],
      "text/plain": [
       "   age         workclass  fnlwgt  education  education-num  \\\n",
       "0   39         State-gov   77516  Bachelors             13   \n",
       "1   50  Self-emp-not-inc   83311  Bachelors             13   \n",
       "2   38           Private  215646    HS-grad              9   \n",
       "3   53           Private  234721       11th              7   \n",
       "4   28           Private  338409  Bachelors             13   \n",
       "\n",
       "       marital-status         occupation   relationship   race     sex  \\\n",
       "0       Never-married       Adm-clerical  Not-in-family  White    Male   \n",
       "1  Married-civ-spouse    Exec-managerial        Husband  White    Male   \n",
       "2            Divorced  Handlers-cleaners  Not-in-family  White    Male   \n",
       "3  Married-civ-spouse  Handlers-cleaners        Husband  Black    Male   \n",
       "4  Married-civ-spouse     Prof-specialty           Wife  Black  Female   \n",
       "\n",
       "   capital-gain  capital-loss  hours-per-week native-country salary  \n",
       "0          2174             0              40  United-States  <=50K  \n",
       "1             0             0              13  United-States  <=50K  \n",
       "2             0             0              40  United-States  <=50K  \n",
       "3             0             0              40  United-States  <=50K  \n",
       "4             0             0              40           Cuba  <=50K  "
      ]
     },
     "execution_count": 615,
     "metadata": {},
     "output_type": "execute_result"
    }
   ],
   "source": [
    "train_df.head()"
   ]
  },
  {
   "attachments": {},
   "cell_type": "markdown",
   "metadata": {},
   "source": [
    "The last function we call is ```.info()``` which gives us all columns' names, number of their Non-Null values and their Dtypes. It also gives the memory usage of the data frame"
   ]
  },
  {
   "cell_type": "code",
   "execution_count": 616,
   "metadata": {},
   "outputs": [
    {
     "name": "stdout",
     "output_type": "stream",
     "text": [
      "<class 'pandas.core.frame.DataFrame'>\n",
      "RangeIndex: 29825 entries, 0 to 29824\n",
      "Data columns (total 15 columns):\n",
      " #   Column          Non-Null Count  Dtype \n",
      "---  ------          --------------  ----- \n",
      " 0   age             29825 non-null  int64 \n",
      " 1   workclass       28154 non-null  object\n",
      " 2   fnlwgt          29825 non-null  int64 \n",
      " 3   education       29825 non-null  object\n",
      " 4   education-num   29825 non-null  int64 \n",
      " 5   marital-status  29825 non-null  object\n",
      " 6   occupation      28149 non-null  object\n",
      " 7   relationship    29825 non-null  object\n",
      " 8   race            29825 non-null  object\n",
      " 9   sex             29825 non-null  object\n",
      " 10  capital-gain    29825 non-null  int64 \n",
      " 11  capital-loss    29825 non-null  int64 \n",
      " 12  hours-per-week  29825 non-null  int64 \n",
      " 13  native-country  29288 non-null  object\n",
      " 14  salary          29825 non-null  object\n",
      "dtypes: int64(6), object(9)\n",
      "memory usage: 3.4+ MB\n"
     ]
    }
   ],
   "source": [
    "train_df.info()"
   ]
  },
  {
   "attachments": {},
   "cell_type": "markdown",
   "metadata": {},
   "source": [
    "One of the problems of our data frame is that some of its columns are non-numeric so in order to work with them we have to convert them into numeric. I used a simple method for that: I gave each unique category a number. I used ```.cat.codes``` but because this method is for ```category``` dtype, I had to convert the column dtype into category first.<br>\n",
    "I also kept a dictionary which tells us for each category in a column what number is given to that specific category.\n"
   ]
  },
  {
   "cell_type": "code",
   "execution_count": 617,
   "metadata": {},
   "outputs": [
    {
     "name": "stdout",
     "output_type": "stream",
     "text": [
      "<class 'pandas.core.frame.DataFrame'>\n",
      "RangeIndex: 29825 entries, 0 to 29824\n",
      "Data columns (total 15 columns):\n",
      " #   Column          Non-Null Count  Dtype  \n",
      "---  ------          --------------  -----  \n",
      " 0   age             29825 non-null  int64  \n",
      " 1   workclass       28154 non-null  float64\n",
      " 2   fnlwgt          29825 non-null  int64  \n",
      " 3   education       29825 non-null  int8   \n",
      " 4   education-num   29825 non-null  int64  \n",
      " 5   marital-status  29825 non-null  int8   \n",
      " 6   occupation      28149 non-null  float64\n",
      " 7   relationship    29825 non-null  int8   \n",
      " 8   race            29825 non-null  int8   \n",
      " 9   sex             29825 non-null  int8   \n",
      " 10  capital-gain    29825 non-null  int64  \n",
      " 11  capital-loss    29825 non-null  int64  \n",
      " 12  hours-per-week  29825 non-null  int64  \n",
      " 13  native-country  29288 non-null  float64\n",
      " 14  salary          29825 non-null  int8   \n",
      "dtypes: float64(3), int64(6), int8(6)\n",
      "memory usage: 2.2 MB\n"
     ]
    }
   ],
   "source": [
    "cols_categories = {}\n",
    "for col in train_df.select_dtypes(include = object):\n",
    "    col_categories = train_df[col].astype(\"category\").cat.categories\n",
    "    cols_categories[col] = dict(zip(col_categories, range(len(col_categories))))\n",
    "    train_df[col] = train_df[col].astype(\"category\").dropna().cat.codes\n",
    "train_df.info()"
   ]
  },
  {
   "attachments": {},
   "cell_type": "markdown",
   "metadata": {},
   "source": [
    "I checked one of the rows that contained a NaN value to make sure if NaN values didn't get lost."
   ]
  },
  {
   "cell_type": "code",
   "execution_count": 618,
   "metadata": {},
   "outputs": [
    {
     "data": {
      "text/plain": [
       "age                   54.0\n",
       "workclass              NaN\n",
       "fnlwgt            180211.0\n",
       "education             15.0\n",
       "education-num         10.0\n",
       "marital-status         2.0\n",
       "occupation             NaN\n",
       "relationship           0.0\n",
       "race                   1.0\n",
       "sex                    1.0\n",
       "capital-gain           0.0\n",
       "capital-loss           0.0\n",
       "hours-per-week        60.0\n",
       "native-country        34.0\n",
       "salary                 1.0\n",
       "Name: 27, dtype: float64"
      ]
     },
     "execution_count": 618,
     "metadata": {},
     "output_type": "execute_result"
    }
   ],
   "source": [
    "train_df.iloc[27]"
   ]
  },
  {
   "attachments": {},
   "cell_type": "markdown",
   "metadata": {},
   "source": [
    "our data frame has another problem: some parts of the data is missing and we have to fill them with a good method:<br>\n",
    "* We can replace NaN values with the mean of that column. This method is fast and also easy to implement But there are some disadvantages for this method:\n",
    "    * It doesn't make sense if we apply it to our non-numeric columns which we turned them to numeric, because it can get non-integer values.\n",
    "    * Also for our discrete numeric values, It doesn't make sense to use this method.\n",
    "    * It will change the standard deviation of the data.\n",
    "    * It ignores the correlation between features. \n",
    "* We can use median of the column which doesn't have some of the problems mentioned about mean.\n",
    "* We can use the mode of the column to fill Nan values. \n",
    "* We can drop the rows that include NaN values or drop the column that has too many Nan values.\n",
    "* We can make a model to predict the missing values using other features.<br><br>\n",
    "The most logical way is the last one in my idea but I chose mode method because it was faster and easier and also didn't have some of the problems which mean and median method had. I also didn't drop any columns although ```occupation``` and ``work-class`` has many NaN values. The reason is I needed ```work-class``` for other parts of the project and it doesn't make sense to drop ```occupation``` when we want to predict salary!"
   ]
  },
  {
   "cell_type": "code",
   "execution_count": 619,
   "metadata": {},
   "outputs": [
    {
     "name": "stdout",
     "output_type": "stream",
     "text": [
      "<class 'pandas.core.frame.DataFrame'>\n",
      "RangeIndex: 29825 entries, 0 to 29824\n",
      "Data columns (total 15 columns):\n",
      " #   Column          Non-Null Count  Dtype  \n",
      "---  ------          --------------  -----  \n",
      " 0   age             29825 non-null  int64  \n",
      " 1   workclass       29825 non-null  float64\n",
      " 2   fnlwgt          29825 non-null  int64  \n",
      " 3   education       29825 non-null  int8   \n",
      " 4   education-num   29825 non-null  int64  \n",
      " 5   marital-status  29825 non-null  int8   \n",
      " 6   occupation      29825 non-null  float64\n",
      " 7   relationship    29825 non-null  int8   \n",
      " 8   race            29825 non-null  int8   \n",
      " 9   sex             29825 non-null  int8   \n",
      " 10  capital-gain    29825 non-null  int64  \n",
      " 11  capital-loss    29825 non-null  int64  \n",
      " 12  hours-per-week  29825 non-null  int64  \n",
      " 13  native-country  29825 non-null  float64\n",
      " 14  salary          29825 non-null  int8   \n",
      "dtypes: float64(3), int64(6), int8(6)\n",
      "memory usage: 2.2 MB\n"
     ]
    }
   ],
   "source": [
    "modes = {}\n",
    "for col in train_df.columns:\n",
    "    modes[col] = train_df[col].mode()[0]\n",
    "    train_df[col] = train_df[col].fillna(modes[col])\n",
    "train_df.info()"
   ]
  },
  {
   "attachments": {},
   "cell_type": "markdown",
   "metadata": {},
   "source": [
    "Again I checked the 27th row to make sure that my job was ok."
   ]
  },
  {
   "cell_type": "code",
   "execution_count": 620,
   "metadata": {},
   "outputs": [
    {
     "data": {
      "text/plain": [
       "age                   54.0\n",
       "workclass              3.0\n",
       "fnlwgt            180211.0\n",
       "education             15.0\n",
       "education-num         10.0\n",
       "marital-status         2.0\n",
       "occupation             9.0\n",
       "relationship           0.0\n",
       "race                   1.0\n",
       "sex                    1.0\n",
       "capital-gain           0.0\n",
       "capital-loss           0.0\n",
       "hours-per-week        60.0\n",
       "native-country        34.0\n",
       "salary                 1.0\n",
       "Name: 27, dtype: float64"
      ]
     },
     "execution_count": 620,
     "metadata": {},
     "output_type": "execute_result"
    }
   ],
   "source": [
    "train_df.iloc[27]"
   ]
  },
  {
   "attachments": {},
   "cell_type": "markdown",
   "metadata": {},
   "source": [
    "If a column in the data frame has too many unique values it can't help us in our prediction(in this way that we're going to predict), and we can drop it. So I checked how many unique values each column has and decided to drop ```fnlwgt``` column."
   ]
  },
  {
   "cell_type": "code",
   "execution_count": 621,
   "metadata": {},
   "outputs": [
    {
     "name": "stdout",
     "output_type": "stream",
     "text": [
      "age 72\n",
      "workclass 8\n",
      "fnlwgt 20337\n",
      "education 16\n",
      "education-num 16\n",
      "marital-status 7\n",
      "occupation 14\n",
      "relationship 6\n",
      "race 5\n",
      "sex 2\n",
      "capital-gain 118\n",
      "capital-loss 91\n",
      "hours-per-week 94\n",
      "native-country 41\n",
      "salary 2\n"
     ]
    }
   ],
   "source": [
    "for col in train_df.columns:\n",
    "    print(col, len(train_df[col].unique()))\n"
   ]
  },
  {
   "cell_type": "code",
   "execution_count": 622,
   "metadata": {},
   "outputs": [
    {
     "data": {
      "text/html": [
       "<div>\n",
       "<style scoped>\n",
       "    .dataframe tbody tr th:only-of-type {\n",
       "        vertical-align: middle;\n",
       "    }\n",
       "\n",
       "    .dataframe tbody tr th {\n",
       "        vertical-align: top;\n",
       "    }\n",
       "\n",
       "    .dataframe thead th {\n",
       "        text-align: right;\n",
       "    }\n",
       "</style>\n",
       "<table border=\"1\" class=\"dataframe\">\n",
       "  <thead>\n",
       "    <tr style=\"text-align: right;\">\n",
       "      <th></th>\n",
       "      <th>age</th>\n",
       "      <th>workclass</th>\n",
       "      <th>education</th>\n",
       "      <th>education-num</th>\n",
       "      <th>marital-status</th>\n",
       "      <th>occupation</th>\n",
       "      <th>relationship</th>\n",
       "      <th>race</th>\n",
       "      <th>sex</th>\n",
       "      <th>capital-gain</th>\n",
       "      <th>capital-loss</th>\n",
       "      <th>hours-per-week</th>\n",
       "      <th>native-country</th>\n",
       "      <th>salary</th>\n",
       "    </tr>\n",
       "  </thead>\n",
       "  <tbody>\n",
       "    <tr>\n",
       "      <th>0</th>\n",
       "      <td>39</td>\n",
       "      <td>6.0</td>\n",
       "      <td>9</td>\n",
       "      <td>13</td>\n",
       "      <td>4</td>\n",
       "      <td>0.0</td>\n",
       "      <td>1</td>\n",
       "      <td>4</td>\n",
       "      <td>1</td>\n",
       "      <td>2174</td>\n",
       "      <td>0</td>\n",
       "      <td>40</td>\n",
       "      <td>38.0</td>\n",
       "      <td>0</td>\n",
       "    </tr>\n",
       "    <tr>\n",
       "      <th>1</th>\n",
       "      <td>50</td>\n",
       "      <td>5.0</td>\n",
       "      <td>9</td>\n",
       "      <td>13</td>\n",
       "      <td>2</td>\n",
       "      <td>3.0</td>\n",
       "      <td>0</td>\n",
       "      <td>4</td>\n",
       "      <td>1</td>\n",
       "      <td>0</td>\n",
       "      <td>0</td>\n",
       "      <td>13</td>\n",
       "      <td>38.0</td>\n",
       "      <td>0</td>\n",
       "    </tr>\n",
       "    <tr>\n",
       "      <th>2</th>\n",
       "      <td>38</td>\n",
       "      <td>3.0</td>\n",
       "      <td>11</td>\n",
       "      <td>9</td>\n",
       "      <td>0</td>\n",
       "      <td>5.0</td>\n",
       "      <td>1</td>\n",
       "      <td>4</td>\n",
       "      <td>1</td>\n",
       "      <td>0</td>\n",
       "      <td>0</td>\n",
       "      <td>40</td>\n",
       "      <td>38.0</td>\n",
       "      <td>0</td>\n",
       "    </tr>\n",
       "    <tr>\n",
       "      <th>3</th>\n",
       "      <td>53</td>\n",
       "      <td>3.0</td>\n",
       "      <td>1</td>\n",
       "      <td>7</td>\n",
       "      <td>2</td>\n",
       "      <td>5.0</td>\n",
       "      <td>0</td>\n",
       "      <td>2</td>\n",
       "      <td>1</td>\n",
       "      <td>0</td>\n",
       "      <td>0</td>\n",
       "      <td>40</td>\n",
       "      <td>38.0</td>\n",
       "      <td>0</td>\n",
       "    </tr>\n",
       "    <tr>\n",
       "      <th>4</th>\n",
       "      <td>28</td>\n",
       "      <td>3.0</td>\n",
       "      <td>9</td>\n",
       "      <td>13</td>\n",
       "      <td>2</td>\n",
       "      <td>9.0</td>\n",
       "      <td>5</td>\n",
       "      <td>2</td>\n",
       "      <td>0</td>\n",
       "      <td>0</td>\n",
       "      <td>0</td>\n",
       "      <td>40</td>\n",
       "      <td>4.0</td>\n",
       "      <td>0</td>\n",
       "    </tr>\n",
       "  </tbody>\n",
       "</table>\n",
       "</div>"
      ],
      "text/plain": [
       "   age  workclass  education  education-num  marital-status  occupation  \\\n",
       "0   39        6.0          9             13               4         0.0   \n",
       "1   50        5.0          9             13               2         3.0   \n",
       "2   38        3.0         11              9               0         5.0   \n",
       "3   53        3.0          1              7               2         5.0   \n",
       "4   28        3.0          9             13               2         9.0   \n",
       "\n",
       "   relationship  race  sex  capital-gain  capital-loss  hours-per-week  \\\n",
       "0             1     4    1          2174             0              40   \n",
       "1             0     4    1             0             0              13   \n",
       "2             1     4    1             0             0              40   \n",
       "3             0     2    1             0             0              40   \n",
       "4             5     2    0             0             0              40   \n",
       "\n",
       "   native-country  salary  \n",
       "0            38.0       0  \n",
       "1            38.0       0  \n",
       "2            38.0       0  \n",
       "3            38.0       0  \n",
       "4             4.0       0  "
      ]
     },
     "execution_count": 622,
     "metadata": {},
     "output_type": "execute_result"
    }
   ],
   "source": [
    "train_df = train_df.drop([\"fnlwgt\"], axis = 1)\n",
    "train_df.head()"
   ]
  },
  {
   "attachments": {},
   "cell_type": "markdown",
   "metadata": {},
   "source": [
    "We were asked to find the number of male and female individuals in our dataset so I used <i>boolean masking</i> method. I also calculated the percentages of male and female individuals in our dataset."
   ]
  },
  {
   "cell_type": "code",
   "execution_count": 623,
   "metadata": {},
   "outputs": [
    {
     "name": "stdout",
     "output_type": "stream",
     "text": [
      "19956\n"
     ]
    },
    {
     "data": {
      "text/plain": [
       "0.6691031014249791"
      ]
     },
     "execution_count": 623,
     "metadata": {},
     "output_type": "execute_result"
    }
   ],
   "source": [
    "is_male = train_df[\"sex\"] == 1\n",
    "print(len(train_df[is_male]))\n",
    "len(train_df[is_male]) / len(train_df)"
   ]
  },
  {
   "cell_type": "code",
   "execution_count": 624,
   "metadata": {},
   "outputs": [
    {
     "name": "stdout",
     "output_type": "stream",
     "text": [
      "9869\n"
     ]
    },
    {
     "data": {
      "text/plain": [
       "0.33089689857502097"
      ]
     },
     "execution_count": 624,
     "metadata": {},
     "output_type": "execute_result"
    }
   ],
   "source": [
    "is_female = train_df[\"sex\"] == 0\n",
    "print(len(train_df[is_female]))\n",
    "len(train_df[is_female]) / len(train_df)"
   ]
  },
  {
   "attachments": {},
   "cell_type": "markdown",
   "metadata": {},
   "source": [
    "In order to find married and male individuals I used a more complicated mask."
   ]
  },
  {
   "cell_type": "code",
   "execution_count": 625,
   "metadata": {},
   "outputs": [
    {
     "data": {
      "text/plain": [
       "{'Divorced': 0,\n",
       " 'Married-AF-spouse': 1,\n",
       " 'Married-civ-spouse': 2,\n",
       " 'Married-spouse-absent': 3,\n",
       " 'Never-married': 4,\n",
       " 'Separated': 5,\n",
       " 'Widowed': 6}"
      ]
     },
     "execution_count": 625,
     "metadata": {},
     "output_type": "execute_result"
    }
   ],
   "source": [
    "cols_categories[\"marital-status\"]"
   ]
  },
  {
   "cell_type": "code",
   "execution_count": 626,
   "metadata": {},
   "outputs": [
    {
     "name": "stdout",
     "output_type": "stream",
     "text": [
      "12373\n"
     ]
    },
    {
     "data": {
      "text/plain": [
       "0.6200140308679094"
      ]
     },
     "execution_count": 626,
     "metadata": {},
     "output_type": "execute_result"
    }
   ],
   "source": [
    "is_married_male = (train_df[\"sex\"] == 1) & ((train_df[\"marital-status\"] == 1) | (train_df[\"marital-status\"] == 2) | (train_df[\"marital-status\"] == 3))\n",
    "print(len(train_df[is_married_male]))\n",
    "len(train_df[is_married_male]) / len(train_df[is_male])\n"
   ]
  },
  {
   "attachments": {},
   "cell_type": "markdown",
   "metadata": {},
   "source": [
    "Now We should find the black people whose workclass is private and are older than 30."
   ]
  },
  {
   "cell_type": "code",
   "execution_count": 627,
   "metadata": {},
   "outputs": [
    {
     "name": "stdout",
     "output_type": "stream",
     "text": [
      "{'Amer-Indian-Eskimo': 0, 'Asian-Pac-Islander': 1, 'Black': 2, 'Other': 3, 'White': 4}\n"
     ]
    },
    {
     "data": {
      "text/plain": [
       "{'Federal-gov': 0,\n",
       " 'Local-gov': 1,\n",
       " 'Never-worked': 2,\n",
       " 'Private': 3,\n",
       " 'Self-emp-inc': 4,\n",
       " 'Self-emp-not-inc': 5,\n",
       " 'State-gov': 6,\n",
       " 'Without-pay': 7}"
      ]
     },
     "execution_count": 627,
     "metadata": {},
     "output_type": "execute_result"
    }
   ],
   "source": [
    "print(cols_categories[\"race\"])\n",
    "cols_categories[\"workclass\"]"
   ]
  },
  {
   "cell_type": "code",
   "execution_count": 628,
   "metadata": {},
   "outputs": [
    {
     "name": "stdout",
     "output_type": "stream",
     "text": [
      "1373\n"
     ]
    },
    {
     "data": {
      "text/plain": [
       "0.04603520536462699"
      ]
     },
     "execution_count": 628,
     "metadata": {},
     "output_type": "execute_result"
    }
   ],
   "source": [
    "mask = (train_df[\"race\"] == 2) & (train_df[\"workclass\"] == 3) & (train_df[\"age\"] > 30)\n",
    "print(len(train_df[mask]))\n",
    "len(train_df[mask]) / len(train_df)"
   ]
  },
  {
   "cell_type": "code",
   "execution_count": 629,
   "metadata": {},
   "outputs": [
    {
     "data": {
      "text/plain": [
       "{'10th': 0,\n",
       " '11th': 1,\n",
       " '12th': 2,\n",
       " '1st-4th': 3,\n",
       " '5th-6th': 4,\n",
       " '7th-8th': 5,\n",
       " '9th': 6,\n",
       " 'Assoc-acdm': 7,\n",
       " 'Assoc-voc': 8,\n",
       " 'Bachelors': 9,\n",
       " 'Doctorate': 10,\n",
       " 'HS-grad': 11,\n",
       " 'Masters': 12,\n",
       " 'Preschool': 13,\n",
       " 'Prof-school': 14,\n",
       " 'Some-college': 15}"
      ]
     },
     "execution_count": 629,
     "metadata": {},
     "output_type": "execute_result"
    }
   ],
   "source": [
    "cols_categories[\"education\"]"
   ]
  },
  {
   "attachments": {},
   "cell_type": "markdown",
   "metadata": {},
   "source": [
    "I used ```mean()``` function to calculate the mean of the working time for people who has Bachelors. It took only about 4 milliseconds!"
   ]
  },
  {
   "cell_type": "code",
   "execution_count": 630,
   "metadata": {},
   "outputs": [
    {
     "name": "stdout",
     "output_type": "stream",
     "text": [
      "42.546669366268475\n"
     ]
    },
    {
     "data": {
      "text/plain": [
       "0.002000093460083008"
      ]
     },
     "execution_count": 630,
     "metadata": {},
     "output_type": "execute_result"
    }
   ],
   "source": [
    "import time\n",
    "t0 = time.time()\n",
    "has_bachlor = (train_df[\"education\"] == cols_categories[\"education\"][\"Bachelors\"])\n",
    "print(train_df[has_bachlor][\"hours-per-week\"].mean())\n",
    "t1 = time.time()\n",
    "t1 - t0"
   ]
  },
  {
   "attachments": {},
   "cell_type": "markdown",
   "metadata": {},
   "source": [
    "But when I did the searching and calculating the mean with normal python, it took almost 0.7 seconds!"
   ]
  },
  {
   "cell_type": "code",
   "execution_count": 631,
   "metadata": {},
   "outputs": [
    {
     "name": "stdout",
     "output_type": "stream",
     "text": [
      "42.546669366268475\n"
     ]
    },
    {
     "data": {
      "text/plain": [
       "0.700347900390625"
      ]
     },
     "execution_count": 631,
     "metadata": {},
     "output_type": "execute_result"
    }
   ],
   "source": [
    "t0 = time.time()\n",
    "s = 0\n",
    "size = 0\n",
    "for i, person in train_df.iterrows():\n",
    "    if person[\"education\"] == cols_categories[\"education\"][\"Bachelors\"]:\n",
    "        s += person[\"hours-per-week\"]\n",
    "        size += 1\n",
    "print(s / size)\n",
    "t1 = time.time()\n",
    "t1 - t0\n"
   ]
  },
  {
   "attachments": {},
   "cell_type": "markdown",
   "metadata": {},
   "source": [
    "Using ```hist``` function I visualized each columns' distribution."
   ]
  },
  {
   "cell_type": "code",
   "execution_count": 632,
   "metadata": {},
   "outputs": [
    {
     "data": {
      "text/plain": [
       "array([[<AxesSubplot:title={'center':'age'}>,\n",
       "        <AxesSubplot:title={'center':'workclass'}>,\n",
       "        <AxesSubplot:title={'center':'education'}>,\n",
       "        <AxesSubplot:title={'center':'education-num'}>],\n",
       "       [<AxesSubplot:title={'center':'marital-status'}>,\n",
       "        <AxesSubplot:title={'center':'occupation'}>,\n",
       "        <AxesSubplot:title={'center':'relationship'}>,\n",
       "        <AxesSubplot:title={'center':'race'}>],\n",
       "       [<AxesSubplot:title={'center':'sex'}>,\n",
       "        <AxesSubplot:title={'center':'capital-gain'}>,\n",
       "        <AxesSubplot:title={'center':'capital-loss'}>,\n",
       "        <AxesSubplot:title={'center':'hours-per-week'}>],\n",
       "       [<AxesSubplot:title={'center':'native-country'}>,\n",
       "        <AxesSubplot:title={'center':'salary'}>, <AxesSubplot:>,\n",
       "        <AxesSubplot:>]], dtype=object)"
      ]
     },
     "execution_count": 632,
     "metadata": {},
     "output_type": "execute_result"
    },
    {
     "data": {
      "image/png": "[encoded data removed]",
      "text/plain": [
       "<Figure size 1440x1080 with 16 Axes>"
      ]
     },
     "metadata": {
      "needs_background": "light"
     },
     "output_type": "display_data"
    }
   ],
   "source": [
    "train_df.hist(bins=30, figsize=(20, 15))"
   ]
  },
  {
   "attachments": {},
   "cell_type": "markdown",
   "metadata": {},
   "source": [
    "We have to normalize our columns to have a better analysis of the data and also to be able to compare the columns when we want to decide which column is more important for prediction. For normalization I used [<i>Standard Score</i>](https://en.wikipedia.org/wiki/Standard_score) method.<br>\n",
    "I didn't normalize the <i>Salary</i> column because we don't want to compare it to other columns or do analysis with that. I also kept the means and stds of each column for when I want to normalize the test data."
   ]
  },
  {
   "cell_type": "code",
   "execution_count": 633,
   "metadata": {},
   "outputs": [
    {
     "data": {
      "text/html": [
       "<div>\n",
       "<style scoped>\n",
       "    .dataframe tbody tr th:only-of-type {\n",
       "        vertical-align: middle;\n",
       "    }\n",
       "\n",
       "    .dataframe tbody tr th {\n",
       "        vertical-align: top;\n",
       "    }\n",
       "\n",
       "    .dataframe thead th {\n",
       "        text-align: right;\n",
       "    }\n",
       "</style>\n",
       "<table border=\"1\" class=\"dataframe\">\n",
       "  <thead>\n",
       "    <tr style=\"text-align: right;\">\n",
       "      <th></th>\n",
       "      <th>age</th>\n",
       "      <th>workclass</th>\n",
       "      <th>education</th>\n",
       "      <th>education-num</th>\n",
       "      <th>marital-status</th>\n",
       "      <th>occupation</th>\n",
       "      <th>relationship</th>\n",
       "      <th>race</th>\n",
       "      <th>sex</th>\n",
       "      <th>capital-gain</th>\n",
       "      <th>capital-loss</th>\n",
       "      <th>hours-per-week</th>\n",
       "      <th>native-country</th>\n",
       "      <th>salary</th>\n",
       "    </tr>\n",
       "  </thead>\n",
       "  <tbody>\n",
       "    <tr>\n",
       "      <th>0</th>\n",
       "      <td>0.030660</td>\n",
       "      <td>2.622516</td>\n",
       "      <td>-0.336339</td>\n",
       "      <td>1.135745</td>\n",
       "      <td>0.918457</td>\n",
       "      <td>-1.541412</td>\n",
       "      <td>-0.278207</td>\n",
       "      <td>0.393610</td>\n",
       "      <td>0.703222</td>\n",
       "      <td>0.144193</td>\n",
       "      <td>-0.215547</td>\n",
       "      <td>-0.035288</td>\n",
       "      <td>0.261237</td>\n",
       "      <td>0</td>\n",
       "    </tr>\n",
       "    <tr>\n",
       "      <th>1</th>\n",
       "      <td>0.836403</td>\n",
       "      <td>1.719563</td>\n",
       "      <td>-0.336339</td>\n",
       "      <td>1.135745</td>\n",
       "      <td>-0.407149</td>\n",
       "      <td>-0.787211</td>\n",
       "      <td>-0.901237</td>\n",
       "      <td>0.393610</td>\n",
       "      <td>0.703222</td>\n",
       "      <td>-0.146220</td>\n",
       "      <td>-0.215547</td>\n",
       "      <td>-2.228952</td>\n",
       "      <td>0.261237</td>\n",
       "      <td>0</td>\n",
       "    </tr>\n",
       "    <tr>\n",
       "      <th>2</th>\n",
       "      <td>-0.042589</td>\n",
       "      <td>-0.086344</td>\n",
       "      <td>0.181019</td>\n",
       "      <td>-0.419659</td>\n",
       "      <td>-1.732754</td>\n",
       "      <td>-0.284409</td>\n",
       "      <td>-0.278207</td>\n",
       "      <td>0.393610</td>\n",
       "      <td>0.703222</td>\n",
       "      <td>-0.146220</td>\n",
       "      <td>-0.215547</td>\n",
       "      <td>-0.035288</td>\n",
       "      <td>0.261237</td>\n",
       "      <td>0</td>\n",
       "    </tr>\n",
       "    <tr>\n",
       "      <th>3</th>\n",
       "      <td>1.056151</td>\n",
       "      <td>-0.086344</td>\n",
       "      <td>-2.405769</td>\n",
       "      <td>-1.197362</td>\n",
       "      <td>-0.407149</td>\n",
       "      <td>-0.284409</td>\n",
       "      <td>-0.901237</td>\n",
       "      <td>-1.962521</td>\n",
       "      <td>0.703222</td>\n",
       "      <td>-0.146220</td>\n",
       "      <td>-0.215547</td>\n",
       "      <td>-0.035288</td>\n",
       "      <td>0.261237</td>\n",
       "      <td>0</td>\n",
       "    </tr>\n",
       "    <tr>\n",
       "      <th>4</th>\n",
       "      <td>-0.775082</td>\n",
       "      <td>-0.086344</td>\n",
       "      <td>-0.336339</td>\n",
       "      <td>1.135745</td>\n",
       "      <td>-0.407149</td>\n",
       "      <td>0.721193</td>\n",
       "      <td>2.213914</td>\n",
       "      <td>-1.962521</td>\n",
       "      <td>-1.421978</td>\n",
       "      <td>-0.146220</td>\n",
       "      <td>-0.215547</td>\n",
       "      <td>-0.035288</td>\n",
       "      <td>-5.351797</td>\n",
       "      <td>0</td>\n",
       "    </tr>\n",
       "  </tbody>\n",
       "</table>\n",
       "</div>"
      ],
      "text/plain": [
       "        age  workclass  education  education-num  marital-status  occupation  \\\n",
       "0  0.030660   2.622516  -0.336339       1.135745        0.918457   -1.541412   \n",
       "1  0.836403   1.719563  -0.336339       1.135745       -0.407149   -0.787211   \n",
       "2 -0.042589  -0.086344   0.181019      -0.419659       -1.732754   -0.284409   \n",
       "3  1.056151  -0.086344  -2.405769      -1.197362       -0.407149   -0.284409   \n",
       "4 -0.775082  -0.086344  -0.336339       1.135745       -0.407149    0.721193   \n",
       "\n",
       "   relationship      race       sex  capital-gain  capital-loss  \\\n",
       "0     -0.278207  0.393610  0.703222      0.144193     -0.215547   \n",
       "1     -0.901237  0.393610  0.703222     -0.146220     -0.215547   \n",
       "2     -0.278207  0.393610  0.703222     -0.146220     -0.215547   \n",
       "3     -0.901237 -1.962521  0.703222     -0.146220     -0.215547   \n",
       "4      2.213914 -1.962521 -1.421978     -0.146220     -0.215547   \n",
       "\n",
       "   hours-per-week  native-country  salary  \n",
       "0       -0.035288        0.261237       0  \n",
       "1       -2.228952        0.261237       0  \n",
       "2       -0.035288        0.261237       0  \n",
       "3       -0.035288        0.261237       0  \n",
       "4       -0.035288       -5.351797       0  "
      ]
     },
     "execution_count": 633,
     "metadata": {},
     "output_type": "execute_result"
    }
   ],
   "source": [
    "means = {}\n",
    "stds = {}\n",
    "for col in train_df.columns[:-1]:\n",
    "    means[col] = train_df[col].mean()\n",
    "    stds[col] = train_df[col].std()\n",
    "    train_df[col] = (train_df[col] - means[col]) / stds[col]\n",
    "train_df.head()"
   ]
  },
  {
   "cell_type": "code",
   "execution_count": 634,
   "metadata": {},
   "outputs": [
    {
     "data": {
      "text/plain": [
       "{'<=50K': 0, '>50K': 1}"
      ]
     },
     "execution_count": 634,
     "metadata": {},
     "output_type": "execute_result"
    }
   ],
   "source": [
    "cols_categories[\"salary\"]"
   ]
  },
  {
   "attachments": {},
   "cell_type": "markdown",
   "metadata": {},
   "source": [
    "I divided people who had high salary and people who had low salary"
   ]
  },
  {
   "cell_type": "code",
   "execution_count": 635,
   "metadata": {},
   "outputs": [
    {
     "data": {
      "text/html": [
       "<div>\n",
       "<style scoped>\n",
       "    .dataframe tbody tr th:only-of-type {\n",
       "        vertical-align: middle;\n",
       "    }\n",
       "\n",
       "    .dataframe tbody tr th {\n",
       "        vertical-align: top;\n",
       "    }\n",
       "\n",
       "    .dataframe thead th {\n",
       "        text-align: right;\n",
       "    }\n",
       "</style>\n",
       "<table border=\"1\" class=\"dataframe\">\n",
       "  <thead>\n",
       "    <tr style=\"text-align: right;\">\n",
       "      <th></th>\n",
       "      <th>age</th>\n",
       "      <th>workclass</th>\n",
       "      <th>education</th>\n",
       "      <th>education-num</th>\n",
       "      <th>marital-status</th>\n",
       "      <th>occupation</th>\n",
       "      <th>relationship</th>\n",
       "      <th>race</th>\n",
       "      <th>sex</th>\n",
       "      <th>capital-gain</th>\n",
       "      <th>capital-loss</th>\n",
       "      <th>hours-per-week</th>\n",
       "      <th>native-country</th>\n",
       "      <th>salary</th>\n",
       "    </tr>\n",
       "  </thead>\n",
       "  <tbody>\n",
       "    <tr>\n",
       "      <th>29820</th>\n",
       "      <td>0.689904</td>\n",
       "      <td>-1.892251</td>\n",
       "      <td>-0.336339</td>\n",
       "      <td>1.135745</td>\n",
       "      <td>-0.407149</td>\n",
       "      <td>0.721193</td>\n",
       "      <td>-0.901237</td>\n",
       "      <td>0.393610</td>\n",
       "      <td>0.703222</td>\n",
       "      <td>-0.14622</td>\n",
       "      <td>-0.215547</td>\n",
       "      <td>-0.035288</td>\n",
       "      <td>0.261237</td>\n",
       "      <td>0</td>\n",
       "    </tr>\n",
       "    <tr>\n",
       "      <th>29821</th>\n",
       "      <td>-0.482085</td>\n",
       "      <td>-0.086344</td>\n",
       "      <td>1.215734</td>\n",
       "      <td>-0.030808</td>\n",
       "      <td>-1.732754</td>\n",
       "      <td>0.721193</td>\n",
       "      <td>-0.278207</td>\n",
       "      <td>0.393610</td>\n",
       "      <td>-1.421978</td>\n",
       "      <td>-0.14622</td>\n",
       "      <td>-0.215547</td>\n",
       "      <td>-0.847756</td>\n",
       "      <td>0.261237</td>\n",
       "      <td>0</td>\n",
       "    </tr>\n",
       "    <tr>\n",
       "      <th>29822</th>\n",
       "      <td>0.616655</td>\n",
       "      <td>-1.892251</td>\n",
       "      <td>0.181019</td>\n",
       "      <td>-0.419659</td>\n",
       "      <td>-1.732754</td>\n",
       "      <td>-1.541412</td>\n",
       "      <td>1.590884</td>\n",
       "      <td>0.393610</td>\n",
       "      <td>-1.421978</td>\n",
       "      <td>-0.14622</td>\n",
       "      <td>-0.215547</td>\n",
       "      <td>-0.441522</td>\n",
       "      <td>0.261237</td>\n",
       "      <td>0</td>\n",
       "    </tr>\n",
       "    <tr>\n",
       "      <th>29823</th>\n",
       "      <td>-0.042589</td>\n",
       "      <td>-0.086344</td>\n",
       "      <td>0.957055</td>\n",
       "      <td>1.913448</td>\n",
       "      <td>-0.407149</td>\n",
       "      <td>1.223994</td>\n",
       "      <td>2.213914</td>\n",
       "      <td>0.393610</td>\n",
       "      <td>-1.421978</td>\n",
       "      <td>-0.14622</td>\n",
       "      <td>-0.215547</td>\n",
       "      <td>-0.035288</td>\n",
       "      <td>0.261237</td>\n",
       "      <td>0</td>\n",
       "    </tr>\n",
       "    <tr>\n",
       "      <th>29824</th>\n",
       "      <td>-1.507575</td>\n",
       "      <td>-0.086344</td>\n",
       "      <td>0.181019</td>\n",
       "      <td>-0.419659</td>\n",
       "      <td>0.918457</td>\n",
       "      <td>-0.284409</td>\n",
       "      <td>0.967854</td>\n",
       "      <td>-1.962521</td>\n",
       "      <td>0.703222</td>\n",
       "      <td>-0.14622</td>\n",
       "      <td>-0.215547</td>\n",
       "      <td>-0.035288</td>\n",
       "      <td>0.261237</td>\n",
       "      <td>0</td>\n",
       "    </tr>\n",
       "  </tbody>\n",
       "</table>\n",
       "</div>"
      ],
      "text/plain": [
       "            age  workclass  education  education-num  marital-status  \\\n",
       "29820  0.689904  -1.892251  -0.336339       1.135745       -0.407149   \n",
       "29821 -0.482085  -0.086344   1.215734      -0.030808       -1.732754   \n",
       "29822  0.616655  -1.892251   0.181019      -0.419659       -1.732754   \n",
       "29823 -0.042589  -0.086344   0.957055       1.913448       -0.407149   \n",
       "29824 -1.507575  -0.086344   0.181019      -0.419659        0.918457   \n",
       "\n",
       "       occupation  relationship      race       sex  capital-gain  \\\n",
       "29820    0.721193     -0.901237  0.393610  0.703222      -0.14622   \n",
       "29821    0.721193     -0.278207  0.393610 -1.421978      -0.14622   \n",
       "29822   -1.541412      1.590884  0.393610 -1.421978      -0.14622   \n",
       "29823    1.223994      2.213914  0.393610 -1.421978      -0.14622   \n",
       "29824   -0.284409      0.967854 -1.962521  0.703222      -0.14622   \n",
       "\n",
       "       capital-loss  hours-per-week  native-country  salary  \n",
       "29820     -0.215547       -0.035288        0.261237       0  \n",
       "29821     -0.215547       -0.847756        0.261237       0  \n",
       "29822     -0.215547       -0.441522        0.261237       0  \n",
       "29823     -0.215547       -0.035288        0.261237       0  \n",
       "29824     -0.215547       -0.035288        0.261237       0  "
      ]
     },
     "execution_count": 635,
     "metadata": {},
     "output_type": "execute_result"
    }
   ],
   "source": [
    "has_high_salary = train_df[\"salary\"] == 1\n",
    "high_salary = train_df[has_high_salary] \n",
    "low_salary = train_df[~has_high_salary]\n",
    "low_salary.tail()   "
   ]
  },
  {
   "attachments": {},
   "cell_type": "markdown",
   "metadata": {},
   "source": [
    "Now in order to get a better understanding of our features in dataset, first I calculated each feature's mean and std for high salary and low salary parts and then found the Probability Density Function of each of them using ```scipy.stats.norm()``` function(I assumed that each feature will have a normal distribution) and then drew them. Red line represents the distribution of the feature for people with high salary and blue line is for low salary.<br>\n",
    "I only analyzed numeric features."
   ]
  },
  {
   "cell_type": "code",
   "execution_count": 636,
   "metadata": {},
   "outputs": [],
   "source": [
    "def draw_pdfs(ax, col, high_salary_dist, low_salary_dist):\n",
    "    \n",
    "    min_x = min(high_salary_dist.ppf(0.01), low_salary_dist.ppf(0.01))\n",
    "    max_x = max(high_salary_dist.ppf(0.99), low_salary_dist.ppf(0.99))\n",
    "    x_values = np.linspace(min_x, max_x, 100)\n",
    "    \n",
    "    ax.plot(x_values, high_salary_dist.pdf(x_values) , c='r', label='high salary')\n",
    "    ax.plot(x_values, low_salary_dist.pdf(x_values) , c='b', label= 'low salary')\n",
    "\n",
    "    ax.legend()\n",
    "    ax.set_xlabel('x')\n",
    "    ax.set_ylabel('pdf')\n",
    "    ax.set_title(f'(Subplot {col})')"
   ]
  },
  {
   "cell_type": "code",
   "execution_count": 637,
   "metadata": {},
   "outputs": [
    {
     "data": {
      "image/png": "[encoded data removed]",
      "text/plain": [
       "<Figure size 1440x2160 with 6 Axes>"
      ]
     },
     "metadata": {
      "needs_background": "light"
     },
     "output_type": "display_data"
    }
   ],
   "source": [
    "import matplotlib.pyplot as plt\n",
    "import numpy as np\n",
    "from scipy.stats import norm\n",
    "\n",
    "fig, ax_list = plt.subplots(3, 2, figsize=(20, 30))\n",
    "ax_list = ax_list.flatten()\n",
    "numerics = [\"age\", \"education-num\", \"capital-gain\", \"capital-loss\", \"hours-per-week\"]\n",
    "for col, ax in zip(numerics, ax_list):\n",
    "    high_salary_dist = norm(high_salary[col].mean(), high_salary[col].std())    \n",
    "    low_salary_dist = norm(low_salary[col].mean(), low_salary[col].std())    \n",
    "    draw_pdfs(ax, col, high_salary_dist, low_salary_dist)\n",
    "plt.show()"
   ]
  },
  {
   "attachments": {},
   "cell_type": "markdown",
   "metadata": {},
   "source": [
    "We have to choose a feature that salary has more effect on it. This means for each x value there has to be a lot of distance between its high-salary pdf and low-salary pdf. From plots I decided that the capital gain is the better feature for prediction(scales are different in its plot and there's so difference between red and blue graph in it).\n",
    "<br> I also predicted salaries in train dataset with each of the features to see their performance:\n",
    "<br> I took two approaches for prediction. first I calculated the pdf of a given value for both high-salary and low salary conditions and chose the maximum as the result:\n",
    "$$ prediction = max(f(feature|high salary), f(feature|low salary))$$\n",
    "But then I thought that It's better to use the bayes formula and find the pdf of high salary and low salary with condition of feature and then predict the salary:\n",
    "$$ f(high salary|feature) = \\frac{f(highsalary) \\times f(feature|high salary)}{f(feature)} $$\n",
    "$$ prediction = max(f(high salary|feature), f(low salary|feature))$$"
   ]
  },
  {
   "cell_type": "code",
   "execution_count": 638,
   "metadata": {},
   "outputs": [],
   "source": [
    "def bayes(a_if_b, b, a):\n",
    "    b_if_a =  a_if_b * b / a\n",
    "    return b_if_a"
   ]
  },
  {
   "cell_type": "code",
   "execution_count": 639,
   "metadata": {},
   "outputs": [],
   "source": [
    "def prediction_func1(col, df):\n",
    "    high_salary_dist = norm(high_salary[col].mean(), high_salary[col].std())    \n",
    "    low_salary_dist = norm(low_salary[col].mean(), low_salary[col].std()) \n",
    "    prediction = high_salary_dist.pdf(df[col]) > low_salary_dist.pdf(df[col])\n",
    "    return prediction\n",
    "\n",
    "def prediction_func2(col, df):\n",
    "    high_salary_dist = norm(high_salary[col].mean(), high_salary[col].std())    \n",
    "    low_salary_dist = norm(low_salary[col].mean(), low_salary[col].std()) \n",
    "    col_dist = norm(train_df[col].mean(), train_df[col].std()) \n",
    "    \n",
    "    high_salary_pdf = len(high_salary) / len(train_df)\n",
    "    low_salary_pdf = len(low_salary) / len(train_df)\n",
    "    col_pdf = col_dist.pdf(df[col])\n",
    "    \n",
    "    conditional_high_salary_pdf = bayes(high_salary_dist.pdf(df[col]), high_salary_pdf, col_pdf)\n",
    "    conditional_low_salary_pdf = bayes(low_salary_dist.pdf(df[col]), low_salary_pdf, col_pdf)\n",
    "    \n",
    "    prediction = conditional_high_salary_pdf > conditional_low_salary_pdf\n",
    "    \n",
    "    return prediction"
   ]
  },
  {
   "cell_type": "code",
   "execution_count": 640,
   "metadata": {},
   "outputs": [],
   "source": [
    "def check_accuracy(col, df, prediction_func):\n",
    "    prediction = prediction_func(col, df)\n",
    "    accuracy = prediction == df[\"salary\"]\n",
    "    return accuracy.sum() / len(df)"
   ]
  },
  {
   "attachments": {},
   "cell_type": "markdown",
   "metadata": {},
   "source": [
    "I checked the accuracy with train dataset and the best one for each of the prediction methods was the <i>capital-gain</i> method. the bayesian method was slightly better than the first method for some features and for some others a lot better!"
   ]
  },
  {
   "cell_type": "code",
   "execution_count": 641,
   "metadata": {},
   "outputs": [
    {
     "name": "stdout",
     "output_type": "stream",
     "text": [
      "prediction method 1:\n",
      "0.614953897736798 age\n",
      "0.7151047778709136 education-num\n",
      "0.7894048616932104 capital-gain\n",
      "0.7606705783738474 capital-loss\n",
      "0.7018273260687343 hours-per-week\n",
      "\n",
      "prediction method 2 (bayesian):\n",
      "0.7601341156747695 age\n",
      "0.7804191114836546 education-num\n",
      "0.7929589270746018 capital-gain\n",
      "0.7610393964794635 capital-loss\n",
      "0.7601341156747695 hours-per-week\n"
     ]
    }
   ],
   "source": [
    "print(\"prediction method 1:\")\n",
    "for col in numerics:\n",
    "    print(check_accuracy(col, train_df, prediction_func1), col)\n",
    "print()\n",
    "print(\"prediction method 2 (bayesian):\")\n",
    "for col in numerics:\n",
    "    print(check_accuracy(col, train_df, prediction_func2), col)\n"
   ]
  },
  {
   "attachments": {},
   "cell_type": "markdown",
   "metadata": {},
   "source": [
    "Now we load the test dataset and do the preprocessing parts(label-encoding, NaN handling and normalization):"
   ]
  },
  {
   "cell_type": "code",
   "execution_count": 642,
   "metadata": {},
   "outputs": [
    {
     "name": "stdout",
     "output_type": "stream",
     "text": [
      "<class 'pandas.core.frame.DataFrame'>\n",
      "RangeIndex: 2736 entries, 0 to 2735\n",
      "Data columns (total 15 columns):\n",
      " #   Column          Non-Null Count  Dtype \n",
      "---  ------          --------------  ----- \n",
      " 0   age             2736 non-null   int64 \n",
      " 1   workclass       2571 non-null   object\n",
      " 2   fnlwgt          2736 non-null   int64 \n",
      " 3   education       2736 non-null   object\n",
      " 4   education-num   2736 non-null   int64 \n",
      " 5   marital-status  2736 non-null   object\n",
      " 6   occupation      2569 non-null   object\n",
      " 7   relationship    2736 non-null   object\n",
      " 8   race            2736 non-null   object\n",
      " 9   sex             2736 non-null   object\n",
      " 10  capital-gain    2736 non-null   int64 \n",
      " 11  capital-loss    2736 non-null   int64 \n",
      " 12  hours-per-week  2736 non-null   int64 \n",
      " 13  native-country  2690 non-null   object\n",
      " 14  salary          2736 non-null   object\n",
      "dtypes: int64(6), object(9)\n",
      "memory usage: 320.8+ KB\n"
     ]
    }
   ],
   "source": [
    "TEST_DATASET_PATH = \"test.csv\"\n",
    "test_df = pd.read_csv(\"test.csv\")\n",
    "test_df.info()"
   ]
  },
  {
   "cell_type": "code",
   "execution_count": 643,
   "metadata": {},
   "outputs": [
    {
     "name": "stdout",
     "output_type": "stream",
     "text": [
      "<class 'pandas.core.frame.DataFrame'>\n",
      "RangeIndex: 2736 entries, 0 to 2735\n",
      "Data columns (total 14 columns):\n",
      " #   Column          Non-Null Count  Dtype  \n",
      "---  ------          --------------  -----  \n",
      " 0   age             2736 non-null   int64  \n",
      " 1   workclass       2571 non-null   float64\n",
      " 2   education       2736 non-null   int8   \n",
      " 3   education-num   2736 non-null   int64  \n",
      " 4   marital-status  2736 non-null   int8   \n",
      " 5   occupation      2569 non-null   float64\n",
      " 6   relationship    2736 non-null   int8   \n",
      " 7   race            2736 non-null   int8   \n",
      " 8   sex             2736 non-null   int8   \n",
      " 9   capital-gain    2736 non-null   int64  \n",
      " 10  capital-loss    2736 non-null   int64  \n",
      " 11  hours-per-week  2736 non-null   int64  \n",
      " 12  native-country  2690 non-null   float64\n",
      " 13  salary          2736 non-null   int8   \n",
      "dtypes: float64(3), int64(5), int8(6)\n",
      "memory usage: 187.2 KB\n"
     ]
    }
   ],
   "source": [
    "test_df = test_df.drop([\"fnlwgt\"], axis = 1)\n",
    "for col in test_df.select_dtypes(include = object):\n",
    "    test_df[col] = test_df[col].astype(\"category\").dropna().cat.codes\n",
    "test_df.info()"
   ]
  },
  {
   "cell_type": "code",
   "execution_count": 644,
   "metadata": {},
   "outputs": [
    {
     "name": "stdout",
     "output_type": "stream",
     "text": [
      "<class 'pandas.core.frame.DataFrame'>\n",
      "RangeIndex: 2736 entries, 0 to 2735\n",
      "Data columns (total 14 columns):\n",
      " #   Column          Non-Null Count  Dtype  \n",
      "---  ------          --------------  -----  \n",
      " 0   age             2736 non-null   int64  \n",
      " 1   workclass       2736 non-null   float64\n",
      " 2   education       2736 non-null   int8   \n",
      " 3   education-num   2736 non-null   int64  \n",
      " 4   marital-status  2736 non-null   int8   \n",
      " 5   occupation      2736 non-null   float64\n",
      " 6   relationship    2736 non-null   int8   \n",
      " 7   race            2736 non-null   int8   \n",
      " 8   sex             2736 non-null   int8   \n",
      " 9   capital-gain    2736 non-null   int64  \n",
      " 10  capital-loss    2736 non-null   int64  \n",
      " 11  hours-per-week  2736 non-null   int64  \n",
      " 12  native-country  2736 non-null   float64\n",
      " 13  salary          2736 non-null   int8   \n",
      "dtypes: float64(3), int64(5), int8(6)\n",
      "memory usage: 187.2 KB\n"
     ]
    }
   ],
   "source": [
    "for col in test_df.columns:\n",
    "    test_df[col] = test_df[col].fillna(modes[col])\n",
    "test_df.info()"
   ]
  },
  {
   "cell_type": "code",
   "execution_count": 645,
   "metadata": {},
   "outputs": [
    {
     "data": {
      "text/html": [
       "<div>\n",
       "<style scoped>\n",
       "    .dataframe tbody tr th:only-of-type {\n",
       "        vertical-align: middle;\n",
       "    }\n",
       "\n",
       "    .dataframe tbody tr th {\n",
       "        vertical-align: top;\n",
       "    }\n",
       "\n",
       "    .dataframe thead th {\n",
       "        text-align: right;\n",
       "    }\n",
       "</style>\n",
       "<table border=\"1\" class=\"dataframe\">\n",
       "  <thead>\n",
       "    <tr style=\"text-align: right;\">\n",
       "      <th></th>\n",
       "      <th>age</th>\n",
       "      <th>workclass</th>\n",
       "      <th>education</th>\n",
       "      <th>education-num</th>\n",
       "      <th>marital-status</th>\n",
       "      <th>occupation</th>\n",
       "      <th>relationship</th>\n",
       "      <th>race</th>\n",
       "      <th>sex</th>\n",
       "      <th>capital-gain</th>\n",
       "      <th>capital-loss</th>\n",
       "      <th>hours-per-week</th>\n",
       "      <th>native-country</th>\n",
       "      <th>salary</th>\n",
       "    </tr>\n",
       "  </thead>\n",
       "  <tbody>\n",
       "    <tr>\n",
       "      <th>0</th>\n",
       "      <td>-0.994830</td>\n",
       "      <td>-0.086344</td>\n",
       "      <td>0.181019</td>\n",
       "      <td>-0.419659</td>\n",
       "      <td>-0.407149</td>\n",
       "      <td>-1.038611</td>\n",
       "      <td>-0.901237</td>\n",
       "      <td>0.39361</td>\n",
       "      <td>0.703222</td>\n",
       "      <td>-0.14622</td>\n",
       "      <td>-0.215547</td>\n",
       "      <td>-0.035288</td>\n",
       "      <td>-0.068942</td>\n",
       "      <td>0</td>\n",
       "    </tr>\n",
       "    <tr>\n",
       "      <th>1</th>\n",
       "      <td>-0.189088</td>\n",
       "      <td>-0.086344</td>\n",
       "      <td>-0.336339</td>\n",
       "      <td>1.135745</td>\n",
       "      <td>-0.407149</td>\n",
       "      <td>0.721193</td>\n",
       "      <td>2.213914</td>\n",
       "      <td>0.39361</td>\n",
       "      <td>-1.421978</td>\n",
       "      <td>-0.14622</td>\n",
       "      <td>-0.215547</td>\n",
       "      <td>-0.685263</td>\n",
       "      <td>-0.068942</td>\n",
       "      <td>1</td>\n",
       "    </tr>\n",
       "    <tr>\n",
       "      <th>2</th>\n",
       "      <td>0.103910</td>\n",
       "      <td>-0.086344</td>\n",
       "      <td>-0.595017</td>\n",
       "      <td>0.358043</td>\n",
       "      <td>-1.732754</td>\n",
       "      <td>0.721193</td>\n",
       "      <td>-0.278207</td>\n",
       "      <td>0.39361</td>\n",
       "      <td>-1.421978</td>\n",
       "      <td>-0.14622</td>\n",
       "      <td>-0.215547</td>\n",
       "      <td>-1.660225</td>\n",
       "      <td>-0.068942</td>\n",
       "      <td>0</td>\n",
       "    </tr>\n",
       "    <tr>\n",
       "      <th>3</th>\n",
       "      <td>1.275899</td>\n",
       "      <td>1.719563</td>\n",
       "      <td>-2.405769</td>\n",
       "      <td>-1.197362</td>\n",
       "      <td>-0.407149</td>\n",
       "      <td>-1.038611</td>\n",
       "      <td>-0.901237</td>\n",
       "      <td>0.39361</td>\n",
       "      <td>0.703222</td>\n",
       "      <td>-0.14622</td>\n",
       "      <td>-0.215547</td>\n",
       "      <td>-1.660225</td>\n",
       "      <td>-0.068942</td>\n",
       "      <td>0</td>\n",
       "    </tr>\n",
       "    <tr>\n",
       "      <th>4</th>\n",
       "      <td>0.836403</td>\n",
       "      <td>-0.086344</td>\n",
       "      <td>-0.595017</td>\n",
       "      <td>0.358043</td>\n",
       "      <td>-1.732754</td>\n",
       "      <td>0.721193</td>\n",
       "      <td>1.590884</td>\n",
       "      <td>0.39361</td>\n",
       "      <td>-1.421978</td>\n",
       "      <td>-0.14622</td>\n",
       "      <td>-0.215547</td>\n",
       "      <td>-0.035288</td>\n",
       "      <td>-0.068942</td>\n",
       "      <td>1</td>\n",
       "    </tr>\n",
       "  </tbody>\n",
       "</table>\n",
       "</div>"
      ],
      "text/plain": [
       "        age  workclass  education  education-num  marital-status  occupation  \\\n",
       "0 -0.994830  -0.086344   0.181019      -0.419659       -0.407149   -1.038611   \n",
       "1 -0.189088  -0.086344  -0.336339       1.135745       -0.407149    0.721193   \n",
       "2  0.103910  -0.086344  -0.595017       0.358043       -1.732754    0.721193   \n",
       "3  1.275899   1.719563  -2.405769      -1.197362       -0.407149   -1.038611   \n",
       "4  0.836403  -0.086344  -0.595017       0.358043       -1.732754    0.721193   \n",
       "\n",
       "   relationship     race       sex  capital-gain  capital-loss  \\\n",
       "0     -0.901237  0.39361  0.703222      -0.14622     -0.215547   \n",
       "1      2.213914  0.39361 -1.421978      -0.14622     -0.215547   \n",
       "2     -0.278207  0.39361 -1.421978      -0.14622     -0.215547   \n",
       "3     -0.901237  0.39361  0.703222      -0.14622     -0.215547   \n",
       "4      1.590884  0.39361 -1.421978      -0.14622     -0.215547   \n",
       "\n",
       "   hours-per-week  native-country  salary  \n",
       "0       -0.035288       -0.068942       0  \n",
       "1       -0.685263       -0.068942       1  \n",
       "2       -1.660225       -0.068942       0  \n",
       "3       -1.660225       -0.068942       0  \n",
       "4       -0.035288       -0.068942       1  "
      ]
     },
     "execution_count": 645,
     "metadata": {},
     "output_type": "execute_result"
    }
   ],
   "source": [
    "for col in test_df.columns[:-1]:\n",
    "    test_df[col] = (test_df[col] - means[col]) / stds[col]\n",
    "test_df.head()"
   ]
  },
  {
   "attachments": {},
   "cell_type": "markdown",
   "metadata": {},
   "source": [
    "Before saving the prediction results for test dataset I checked each feature's accuracy to make sure my model is better and for both methods capital-gain had the better accuracy."
   ]
  },
  {
   "cell_type": "code",
   "execution_count": 646,
   "metadata": {},
   "outputs": [
    {
     "name": "stdout",
     "output_type": "stream",
     "text": [
      "prediction method 1:\n",
      "0.6209795321637427 age\n",
      "0.7112573099415205 education-num\n",
      "0.7817982456140351 capital-gain\n",
      "0.7569444444444444 capital-loss\n",
      "0.7013888888888888 hours-per-week\n",
      "\n",
      "prediction method 2 (bayesian):\n",
      "0.7489035087719298 age\n",
      "0.77046783625731 education-num\n",
      "0.7850877192982456 capital-gain\n",
      "0.7569444444444444 capital-loss\n",
      "0.7489035087719298 hours-per-week\n"
     ]
    }
   ],
   "source": [
    "print(\"prediction method 1:\")\n",
    "for col in numerics:\n",
    "    print(check_accuracy(col, test_df, prediction_func1), col)\n",
    "print()\n",
    "print(\"prediction method 2 (bayesian):\")\n",
    "for col in numerics:\n",
    "    print(check_accuracy(col, test_df, prediction_func2), col)"
   ]
  },
  {
   "attachments": {},
   "cell_type": "markdown",
   "metadata": {},
   "source": [
    "At the end I saved the predicted salaries in prediction.csv file."
   ]
  },
  {
   "cell_type": "code",
   "execution_count": 647,
   "metadata": {},
   "outputs": [],
   "source": [
    "prediction = prediction_func2(\"capital-gain\", test_df)\n",
    "prediction_df = pd.DataFrame(prediction)\n",
    "prediction_df.head()\n",
    "prediction_df.to_csv('prediction.csv', index=True)"
   ]
  },
  {
   "attachments": {},
   "cell_type": "markdown",
   "metadata": {},
   "source": [
    "### Conclusion\n",
    "capital-gain was the best option for prediction if we want to predict the salary only using one feature, but we could improve our model by using multiple features for prediction. For example we could use a linear relation between some features to predict the salary or we could use non-numeric features for predictions too. We also could fill our NaN data with better method to improve our train dataset. "
   ]
  },
  {
   "attachments": {},
   "cell_type": "markdown",
   "metadata": {},
   "source": [
    "### Some sources used for the project:\n",
    "* [Normalization](https://en.wikipedia.org/wiki/Normalization_(statistics))\n",
    "* [Why Data Normalization is necessary for Machine Learning models](https://medium.com/@urvashilluniya/why-data-normalization-is-necessary-for-machine-learning-models-681b65a05029)\n",
    "* [Stop Using Mean to Fill Missing Data](https://towardsdatascience.com/stop-using-mean-to-fill-missing-data-678c0d396e22)\n",
    "* [Predicting if income exceeds $50,000 per year based on 1994 US Census Data with\n",
    "Simple Classification Techniques](https://cseweb.ucsd.edu/classes/sp15/cse190-c/reports/sp15/048.pdf)"
   ]
  }
 ],
 "metadata": {
  "kernelspec": {
   "display_name": "Python 3",
   "language": "python",
   "name": "python3"
  },
  "language_info": {
   "codemirror_mode": {
    "name": "ipython",
    "version": 3
   },
   "file_extension": ".py",
   "mimetype": "text/x-python",
   "name": "python",
   "nbconvert_exporter": "python",
   "pygments_lexer": "ipython3",
   "version": "3.9.6"
  },
  "orig_nbformat": 4,
  "vscode": {
   "interpreter": {
    "hash": "1ae8d0b1473b3aa8e294c13df9da0dc8bf9073961d7dc75e8b80c0fac3be765e"
   }
  }
 },
 "nbformat": 4,
 "nbformat_minor": 2
}
