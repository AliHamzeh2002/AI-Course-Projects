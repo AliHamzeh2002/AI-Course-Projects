{
 "cells": [
  {
   "attachments": {},
   "cell_type": "markdown",
   "metadata": {},
   "source": [
    "# Computer Assignment #3\n",
    "## Ali Hamzehpour 810100129\n",
    "## Naive Bayes\n",
    "### Problem Description\n",
    "We are given a [dataset of handwritten persian digits](http://farsiocr.ir/%D9%85%D8%AC%D9%85%D9%88%D8%B9%D9%87-%D8%AF%D8%A7%D8%AF%D9%87/%D9%85%D8%AC%D9%85%D9%88%D8%B9%D9%87-%D8%A7%D8%B1%D9%82%D8%A7%D9%85-%D8%AF%D8%B3%D8%AA%D9%86%D9%88%DB%8C%D8%B3-%D9%87%D8%AF%DB%8C/)  and we have to implement a Naive Bayes model for this dataset to classify handwritten persian digits. After preprocessing the data, two different naive bayes model should be implemented: Gaussian Naive Bayes and Bernoulli Naive Bayes. Then we are asked to evaluate our models with different approaches."
   ]
  },
  {
   "attachments": {},
   "cell_type": "markdown",
   "metadata": {},
   "source": [
    "### Preprocessing\n",
    "First we load our dataset. We have two files:\n",
    "* ```data.pkl``` contains the images of digits.\n",
    "* ```labels.pkl``` contains the labels(what digit it is) of each images in the first file."
   ]
  },
  {
   "cell_type": "code",
   "execution_count": 2,
   "metadata": {},
   "outputs": [],
   "source": [
    "import pickle \n",
    "import numpy as np\n",
    "\n",
    "data_file = open(f\"dataset/data.pkl\", \"rb\")\n",
    "label_file = open(f\"dataset/label.pkl\", \"rb\")\n",
    "raw_data = pickle.load(data_file)\n",
    "labels = np.array(pickle.load(label_file))"
   ]
  },
  {
   "attachments": {},
   "cell_type": "markdown",
   "metadata": {},
   "source": [
    "To get a better understanding of dataset I plotted some random images. As you can see, The images are in different size and are gray-scaled."
   ]
  },
  {
   "cell_type": "code",
   "execution_count": 3,
   "metadata": {},
   "outputs": [],
   "source": [
    "import matplotlib.pyplot as plt\n",
    "\n",
    "def show_random_img(data, labels):\n",
    "    data_size = len(data)\n",
    "    random_index = np.random.randint(0, data_size - 1)\n",
    "    print(f\"label is {labels[random_index]}\")\n",
    "    random_img = data[random_index]\n",
    "    plt.imshow(random_img, cmap='gray_r')"
   ]
  },
  {
   "cell_type": "code",
   "execution_count": 4,
   "metadata": {},
   "outputs": [
    {
     "name": "stdout",
     "output_type": "stream",
     "text": [
      "label is 6\n"
     ]
    },
    {
     "data": {
      "image/png": "[encoded data removed]",
      "text/plain": [
       "<Figure size 432x288 with 1 Axes>"
      ]
     },
     "metadata": {
      "needs_background": "light"
     },
     "output_type": "display_data"
    }
   ],
   "source": [
    "show_random_img(raw_data, labels)"
   ]
  },
  {
   "cell_type": "code",
   "execution_count": 5,
   "metadata": {},
   "outputs": [
    {
     "name": "stdout",
     "output_type": "stream",
     "text": [
      "label is 9\n"
     ]
    },
    {
     "data": {
      "image/png": "[encoded data removed]",
      "text/plain": [
       "<Figure size 432x288 with 1 Axes>"
      ]
     },
     "metadata": {
      "needs_background": "light"
     },
     "output_type": "display_data"
    }
   ],
   "source": [
    "show_random_img(raw_data, labels)"
   ]
  },
  {
   "cell_type": "code",
   "execution_count": 6,
   "metadata": {},
   "outputs": [
    {
     "name": "stdout",
     "output_type": "stream",
     "text": [
      "label is 8\n"
     ]
    },
    {
     "data": {
      "image/png": "[encoded data removed]",
      "text/plain": [
       "<Figure size 432x288 with 1 Axes>"
      ]
     },
     "metadata": {
      "needs_background": "light"
     },
     "output_type": "display_data"
    }
   ],
   "source": [
    "show_random_img(raw_data, labels)"
   ]
  },
  {
   "attachments": {},
   "cell_type": "markdown",
   "metadata": {},
   "source": [
    "As shown above, the images have different scales and that will be problematic in Naive Bayes because we should have equal number of features for each data in Naive Bayes so I resized all of them to 20*20 images using opencv library."
   ]
  },
  {
   "cell_type": "code",
   "execution_count": 7,
   "metadata": {},
   "outputs": [
    {
     "name": "stdout",
     "output_type": "stream",
     "text": [
      "label is 6\n"
     ]
    },
    {
     "data": {
      "image/png": "[encoded data removed]",
      "text/plain": [
       "<Figure size 432x288 with 1 Axes>"
      ]
     },
     "metadata": {
      "needs_background": "light"
     },
     "output_type": "display_data"
    }
   ],
   "source": [
    "from cv2 import resize #, INTER_LINEAR, INTER_NEAREST, INTER_NEAREST_EXACT\n",
    "\n",
    "RESIZE_WIDTH = 20\n",
    "RESIZE_HEIGHT = 20\n",
    "\n",
    "resized_data = np.array(list((map(lambda x: resize(x, (RESIZE_WIDTH, RESIZE_HEIGHT)), raw_data))))\n",
    "show_random_img(resized_data, labels)"
   ]
  },
  {
   "attachments": {},
   "cell_type": "markdown",
   "metadata": {},
   "source": [
    "Then I scaled the data so each pixel value ranges from 0 to 1. The reason is in Bernoulli Naive Bayes our data should be 0 or 1.(if we didn't scale data it would be 255 or 0 and Naive Bayes formula wouldn't work properly.) and also in this case we can classify pale images better since these images will be scaled from 0 to 1 too."
   ]
  },
  {
   "cell_type": "code",
   "execution_count": 8,
   "metadata": {},
   "outputs": [
    {
     "name": "stdout",
     "output_type": "stream",
     "text": [
      "label is 7\n"
     ]
    },
    {
     "data": {
      "image/png": "[encoded data removed]",
      "text/plain": [
       "<Figure size 432x288 with 1 Axes>"
      ]
     },
     "metadata": {
      "needs_background": "light"
     },
     "output_type": "display_data"
    }
   ],
   "source": [
    "scaled_data = np.apply_along_axis(lambda x: x / 255, axis = 1, arr = resized_data)\n",
    "show_random_img(scaled_data, labels)"
   ]
  },
  {
   "attachments": {},
   "cell_type": "markdown",
   "metadata": {},
   "source": [
    "We have to split our data into two parts: train and test. We build our model with train data and then evaluate it with test data. I chose 80% of the data for training and the other 20% for testing. The reason is the train data should be larger so our model sees more data in the training process and become better. For testing we take a small portion of the whole data but it also shouldn't be too small because we need enough data to check the model's accuracy with it."
   ]
  },
  {
   "cell_type": "code",
   "execution_count": 9,
   "metadata": {},
   "outputs": [],
   "source": [
    "SPLIT_PERCENTAGE = 0.8\n",
    "\n",
    "split_index = int(len(scaled_data) * SPLIT_PERCENTAGE)\n",
    "train_data, test_data = np.split(scaled_data, [split_index])\n",
    "train_labels, test_labels = np.split(labels, [split_index])"
   ]
  },
  {
   "cell_type": "code",
   "execution_count": 10,
   "metadata": {},
   "outputs": [
    {
     "data": {
      "text/plain": [
       "(4800, 20, 20)"
      ]
     },
     "execution_count": 10,
     "metadata": {},
     "output_type": "execute_result"
    }
   ],
   "source": [
    "train_data.shape"
   ]
  },
  {
   "attachments": {},
   "cell_type": "markdown",
   "metadata": {},
   "source": [
    "I plotted a bar plot for each digit to compare the number of images in train and test data for each digit. As you can see, the plots are similar. "
   ]
  },
  {
   "cell_type": "code",
   "execution_count": 11,
   "metadata": {},
   "outputs": [
    {
     "data": {
      "image/png": "[encoded data removed]",
      "text/plain": [
       "<Figure size 1080x720 with 10 Axes>"
      ]
     },
     "metadata": {
      "needs_background": "light"
     },
     "output_type": "display_data"
    }
   ],
   "source": [
    "fig, axs = plt.subplots(2, 5, figsize=(15, 10))\n",
    "axs = axs.flatten()\n",
    "\n",
    "for i in range(10):\n",
    "    train_samples = len(train_data[train_labels == i])\n",
    "    test_samples = len(test_data[test_labels == i])\n",
    "    axs[i].bar([\"test\", \"train\"], (test_samples, train_samples))\n",
    "    axs[i].set_title(f\"number {i}\")\n",
    "    \n",
    "plt.show()"
   ]
  },
  {
   "attachments": {},
   "cell_type": "markdown",
   "metadata": {},
   "source": [
    "I plotted one image from each digit from the train data:"
   ]
  },
  {
   "cell_type": "code",
   "execution_count": 12,
   "metadata": {},
   "outputs": [
    {
     "data": {
      "image/png": "[encoded data removed]",
      "text/plain": [
       "<Figure size 720x360 with 10 Axes>"
      ]
     },
     "metadata": {
      "needs_background": "light"
     },
     "output_type": "display_data"
    }
   ],
   "source": [
    "fig, axs = plt.subplots(2, 5, figsize=(10, 5))\n",
    "axs = axs.flatten()\n",
    "for i in range(10):\n",
    "    img = train_data[train_labels == i][np.random.randint(1,100)]\n",
    "    axs[i].imshow(img, cmap='gray_r')\n",
    "    axs[i].axis('off')\n",
    "    axs[i].set_title(f\"number {i}\")\n",
    "plt.show()"
   ]
  },
  {
   "attachments": {},
   "cell_type": "markdown",
   "metadata": {},
   "source": [
    "### Naive Bayes Classification\n",
    "\n",
    "We use Bayes' Theorem in Naive Bayes Classification:\n",
    "        $$ P(c|x) = \\frac{P(x|c)P(c)}{P(x)} $$\n",
    "\n",
    "In this formula $c$ is the label of an image and $x$ is the value of a pixel in the image.\n",
    "\n",
    "* $P(c|x)$ Posterior Priority:<br>\n",
    "        Is the probability of $c$ after observing $x$. In our problem, it means probabilty of the image labeled as $c$ after checking the value of a pixel.\n",
    "\n",
    "* $P(x|c)$ Likelihood:<br>\n",
    "        Is the probability of $x$ after observing $c$. In our problem, it means probabilty of a pixel's value = $x$ after observing the image's label.\n",
    "\n",
    "* $P(c)$ Class Prior Probability:<br>\n",
    "        Is the probability of $c$ with no conditions. In our problem, it means the probability of the image's label = $c$ with no conditions.\n",
    "\n",
    "* $P(x)$ Evidence(Predictor Prior Probability):<br>\n",
    "        Is the probability of $x$ with no conditions. In our problem, it means the probability of a pixel's value = $x$ with no conditions.\n",
    "\n",
    "The term ```prior``` means that we have no conditions and the term ```posterior``` means we've had some observations.\n",
    "So we can calculate $P(c|x)$ for each pixel and for the whole image we assume that the pixels are independent and use this formula:\n",
    "\n",
    "$$ P(c|X) = P(x_1|c) \\times P(x_2|c) \\times \\ldots \\times P(x_n|c) \\times P(c) \\times \\frac{1}{Z} $$\n",
    "\n",
    "where $X$ is the vector of all pixel values in that image and and $x_i$ is the value of a pixel in the image. $Z$ is a constant to normalize the probabilities and since it's constant we ignore it in calculations.\n"
   ]
  },
  {
   "attachments": {},
   "cell_type": "markdown",
   "metadata": {},
   "source": [
    "### Gaussian Naive Bayes"
   ]
  },
  {
   "attachments": {},
   "cell_type": "markdown",
   "metadata": {},
   "source": [
    "In Gaussian Naive Bayes we suppose that the pixel values have normal distribution so for each pixel and class:\n",
    "\n",
    "$$ P(X|Y = c) = \\frac{1}{\\sqrt{2\\pi\\sigma_c^2}}e^{\\frac{-(x-\\mu_c)^2}{2\\sigma_c^2}} $$\n",
    "\n",
    "$\\mu_c$ is the mean of a pixel value when the label is $c$ <br>\n",
    "$\\sigma_c^2$ is the variance of a pixel value when the label is $c$\n",
    "\n",
    "I wrote a `GaussianNaiveBayes` class that in its constructor calls `train` function to calculate $\\mu_c$ and $\\sigma_c^2$ using train data and it also has a `predict` function which gets a new image and classifies its label with gaussian naive bayes approach.\n",
    "\n",
    "#### Gaussian Naive Bayes Smoothing\n",
    "\n",
    "We may face a problem in this approach. $\\sigma_c$ may become 0 then in the Gaussian Distribution formula we will have division by 0.(For example when our label is 1, a pixel might be always black so its variance is 0.) To solve this problem I added a small value to all the variances."
   ]
  },
  {
   "cell_type": "code",
   "execution_count": 31,
   "metadata": {},
   "outputs": [],
   "source": [
    "NUM_OF_CLASSES = 10\n",
    "NUM_OF_FEATURES = 400\n",
    "GAUSSIAN_SMOOTHING_VALUE = 0.01\n",
    "\n",
    "class GaussianNaiveBayes:\n",
    "    def __init__(self, train_data, train_labels, smoothing = True):\n",
    "        self.train(train_data, train_labels, smoothing)\n",
    "            \n",
    "    def train(self, train_data, train_labels, smoothing):\n",
    "        train_size = len(train_data)\n",
    "        self.class_mean = np.zeros((NUM_OF_CLASSES, NUM_OF_FEATURES))\n",
    "        self.class_var = np.zeros((NUM_OF_CLASSES, NUM_OF_FEATURES))\n",
    "        self.class_prob = [0] * NUM_OF_CLASSES\n",
    "        for i in range(NUM_OF_CLASSES):\n",
    "            train_class = train_data[train_labels == i]\n",
    "            self.class_prob[i] = len(train_class) / train_size\n",
    "            self.class_mean[i, :] = train_class.mean(axis = 0).flatten()\n",
    "            self.class_var[i, :] = train_class.var(axis = 0).flatten()\n",
    "        if smoothing:\n",
    "            self.class_var += GAUSSIAN_SMOOTHING_VALUE\n",
    "\n",
    "    def predict(self, test_sample):\n",
    "        test_sample = test_sample.flatten()\n",
    "        posterior_prob = []\n",
    "        for i in range(NUM_OF_CLASSES):\n",
    "            numerator = np.exp(-((test_sample - self.class_mean[i]) ** 2) / ( 2 * self.class_var[i])) \n",
    "            denominator = np.sqrt(2 * np.pi * (self.class_var[i]))\n",
    "            prob_xc = numerator / denominator\n",
    "            #prob_cx = np.sum(np.log(prob_xc))\n",
    "            prob_cx = np.sum(np.log(prob_xc) + np.log(self.class_prob[i]))\n",
    "            posterior_prob.append(prob_cx)\n",
    "        return posterior_prob.index(max(posterior_prob))"
   ]
  },
  {
   "attachments": {},
   "cell_type": "markdown",
   "metadata": {},
   "source": [
    "### Bernoulli Naive Bayes\n",
    "\n",
    "In Bernoulli Naive Bayes we assume that all pixels are either black or white so at first we need to threshold the data then we compute the probability of each pixel's color with train data then calculate likelihood using Bernoulli Distribution:\n",
    "$$ P(X|Y = c) = \\prod_{i=1}^n P(x_i|c)^{x_i}(1-P(x_i|c))^{1-x_i} $$\n",
    "I wrote a `BernoulliNaiveBayes` class that in its constructor calls `train` function to calculate the probability of each pixel's color when we know the label and it also has a `predict` function which gets a new image and classifies its label with gaussian naive bayes approach.\n",
    "\n",
    "#### Threshold\n",
    "As I said, we need to threshold the data before training. For threshold I simply assigned values more than 0.4 as 1 and values less than 0.4 as 0.\n",
    "#### Bernoulli Naive Bayes Smoothing\n",
    "\n",
    "We also need smoothing in Bernoulli Naive Bayes because a pixel may be always black in one specific label and in this case the probability of that pixel in that label is 0 and if that pixel in a new image is black, $P(X|Y = c)$ becomes 0 (because one of the product terms is 0.)<br>\n",
    "To solve this problem I used Laplace smoothing which change probabilities like this:\n",
    "$$ P(x_i|c) = \\frac{α + number\\ of\\ whites\\ for\\ pixel_i\\  in\\ class\\ c}{total\\ numbers\\ of\\ class\\ c + α \\times K} $$\n",
    "\n",
    "Which $\\alpha$ is a constant and $K$ is the possible values for a pixel(2). "
   ]
  },
  {
   "cell_type": "code",
   "execution_count": 57,
   "metadata": {},
   "outputs": [],
   "source": [
    "ALPHA = 1\n",
    "K = 2\n",
    "\n",
    "class BernoulliNaiveBayesModel:\n",
    "    def __init__(self, train_data, train_labels, smoothing = True):\n",
    "        train_data = np.apply_along_axis(lambda x: self.threshold(x), axis = 1, arr = train_data)\n",
    "        train_labels = train_labels\n",
    "        self.train(train_data, train_labels, smoothing)\n",
    "        \n",
    "    def threshold(self, img):\n",
    "        THRESH = 0.4\n",
    "        return np.where(img > THRESH, 1, 0)\n",
    "    \n",
    "    def train(self, train_data, train_labels, smoothing):\n",
    "        self.class_prob = [0] * NUM_OF_CLASSES\n",
    "        self.bernoulli_prob = np.zeros((NUM_OF_CLASSES, NUM_OF_FEATURES))\n",
    "        train_size = len(train_data)\n",
    "        for i in range(NUM_OF_CLASSES):\n",
    "            train_class = train_data[train_labels == i]\n",
    "            self.class_prob[i] = len(train_class) / train_size\n",
    "            if smoothing:\n",
    "                self.bernoulli_prob[i, :] = (train_class.sum(axis = 0).flatten() + ALPHA) / (len(train_class) + ALPHA * K)\n",
    "            else:\n",
    "                self.bernoulli_prob[i, :] = (train_class.sum(axis = 0).flatten()) / (len(train_class))\n",
    "        #self.bernoulli_prob += 0.01\n",
    "\n",
    "    def predict(self, test_sample):\n",
    "        test_sample = self.threshold(test_sample)\n",
    "        test_sample = test_sample.flatten()\n",
    "        posterior_prob = []\n",
    "        for i in range(NUM_OF_CLASSES):\n",
    "            ber_prob_i = self.bernoulli_prob[i, :]\n",
    "            ber_prob_i = ber_prob_i.reshape(1, 400)\n",
    "            #ber_prob_i[(ber_prob_i == 0) | (ber_prob_i == 1)] = 0.5\n",
    "            # ber_prob_i = ((ber_prob_i == 0) | (ber_prob_i == 1)) * test_sample + ber_prob_i\n",
    "            prob_xc = ber_prob_i ** test_sample *  (1 - ber_prob_i) ** (1 - test_sample)\n",
    "            #prob_cx = np.sum(np.log(prob_xc))\n",
    "            prob_cx = np.sum(np.log(prob_xc) + np.log(self.class_prob[i]))\n",
    "            posterior_prob.append(prob_cx)\n",
    "        return posterior_prob.index(max(posterior_prob))    "
   ]
  },
  {
   "attachments": {},
   "cell_type": "markdown",
   "metadata": {},
   "source": [
    "### Evaluation\n",
    "I used this 4 metrics for evaluation:\n",
    "$$\n",
    "Accuracy = \\frac{total\\ correctly\\ detected}{total\\ entries},\\,\n",
    "Precision = \\frac{correctly\\ detected\\ in\\ class}{detected\\ ones\\ in\\ class}\n",
    "$$\n",
    "$$\n",
    "Recall = \\frac{correctly\\ detected\\ in\\ class}{total\\ entries\\ in\\ class},\\,\n",
    "F1 = 2*\\frac{Precision \\times Recall}{Precision + Recall}\n",
    "$$\n",
    "\n",
    "*Why using only precision or only recall is not a good approach for evaluation?* <br> Because Precision shows how accurate we are when we guess an image's label is c and recall shows how many of the images that are really in label c are detected as c in our model. Our model may classify every image it sees as c so its Recall would be 100% but its Precision would be low or our model c may classify only few images as c (and they are really c.) so its Precision would be high but its Recall would be low. So, We need both metrics to evaluate our model.\n",
    "\n",
    "*explain F1's mean approach, its difference with normal average and its importance.* <br> in F1 we calculate the harmonic mean of Recall and Precision. This averages both metrics but it gives more weight to the lower one which in this case is important for us to know one metric is too low.\n",
    "\n",
    "#### Multi-class Metrics\n",
    "- **Macro Avg** is the average of a metric (precision, recall, or F1) for each class in a multi-class model.  \n",
    "- **Weighted Avg** is the weighted average of a metric for each class, where the weight of each class is the number of samples in that class.  \n",
    "- **Micro Avg** is the metric if all classes were one.  \n",
    "  For micro average precision, we have to divide the total correctly detected by everything that was detected.  \n",
    "  Micro average recall also becomes the same as micro average precision. (this is because an error (identifying class A as class B) is a false positive for class B, and a false negative for class A)  \n",
    "  Therefore, micro average F1 is also the same, and the result is the accuracy:  \n",
    "  ***Micro-Precision = Micro-Recall = Micro-F1 = Accuracy***"
   ]
  },
  {
   "cell_type": "code",
   "execution_count": 59,
   "metadata": {},
   "outputs": [],
   "source": [
    "from sklearn.metrics import classification_report\n",
    "import pandas as pd\n",
    "from dataclasses import dataclass\n",
    "\n",
    "@dataclass\n",
    "class Evaluation:\n",
    "    accuracy: float\n",
    "    precision: list[float]\n",
    "    recall: list[int]\n",
    "    F1_score: list[int]\n",
    "    macro_avg_precision: int \n",
    "    macro_avg_recall: int \n",
    "    macro_avg_F1: int \n",
    "    weighted_avg_precision: float\n",
    "    weighted_avg_recall: float\n",
    "    weighted_avg_F1: float\n",
    "    micro_avg: float\n",
    "    \n",
    "def evaluate_model(ClassifierModel, train_data, train_labels, test_data, test_labels, smoothing = True):\n",
    "    model = ClassifierModel(train_data, train_labels, smoothing)\n",
    "    correct_detected_class = np.zeros(NUM_OF_CLASSES)\n",
    "    all_detected_class = np.zeros(NUM_OF_CLASSES)\n",
    "    total_class = [np.count_nonzero(test_labels == i) for i in range(NUM_OF_CLASSES)]\n",
    "    total_size = len(test_data)\n",
    "    test_preds = np.zeros(len(test_labels))\n",
    "    for i, (data, label) in enumerate(zip(test_data, test_labels)):\n",
    "        prediction = model.predict(data)\n",
    "        test_preds[i] = prediction\n",
    "        all_detected_class[prediction] += 1\n",
    "        if prediction == label:\n",
    "            correct_detected_class[label] += 1\n",
    "    accuracy = correct_detected_class.sum() / total_size\n",
    "    precision = correct_detected_class / all_detected_class\n",
    "    recall = correct_detected_class / total_class\n",
    "    F1 = 2 * precision * recall / (precision + recall)\n",
    "    macro_avg_precision = precision.mean()\n",
    "    macro_avg_recall = recall.mean()\n",
    "    macro_avg_F1 = F1.mean()\n",
    "    weighted_avg_precision = np.average(precision, weights=total_class)\n",
    "    weighted_avg_recall = np.average(recall, weights=total_class)\n",
    "    weighted_avg_F1 = np.average(F1, weights=total_class)\n",
    "    micro_avg = accuracy\n",
    "    print(\"SKLearn Report: \")\n",
    "    print(classification_report(test_labels, test_preds, digits = 3))\n",
    "    return Evaluation(accuracy, list(precision), list(recall), list(F1), macro_avg_precision, macro_avg_recall, macro_avg_F1\n",
    "                      , weighted_avg_precision, weighted_avg_recall, weighted_avg_F1, micro_avg)\n",
    "    \n",
    "def display_evaluation_result(evaluation_result):\n",
    "    res_cols = [*(i for i in range(NUM_OF_CLASSES)), 'All Classes']\n",
    "    res_rows = ['Precision', 'Recall', 'F1-score', 'Accuracy', 'Macro Avg Precision'\n",
    "                , 'Macro Avg Recall', 'Macro Avg F1', 'Weighted Avg Precision', 'Weighted Avg Recall'\n",
    "                , 'Weighted Avg F1', 'Micro Avg']\n",
    "    result = pd.DataFrame(index=res_rows, columns=res_cols)\n",
    "    for i in range(NUM_OF_CLASSES):\n",
    "        result.loc['Precision', i] = round(evaluation_result.precision[i], 3)\n",
    "        result.loc['Recall', i] = round(evaluation_result.recall[i], 3)\n",
    "        result.loc['F1-score', i] = round(evaluation_result.F1_score[i], 3)\n",
    "    result.loc['Accuracy', 'All Classes'] = round(evaluation_result.accuracy, 3)\n",
    "    result.loc['Macro Avg Precision', 'All Classes'] = round(evaluation_result.macro_avg_precision, 3)\n",
    "    result.loc['Macro Avg Recall', 'All Classes'] = round(evaluation_result.macro_avg_recall, 3)\n",
    "    result.loc['Macro Avg F1', 'All Classes'] = round(evaluation_result.macro_avg_F1, 3)\n",
    "    result.loc['Weighted Avg Precision', 'All Classes'] = round(evaluation_result.weighted_avg_precision, 3)\n",
    "    result.loc['Weighted Avg Recall', 'All Classes'] = round(evaluation_result.weighted_avg_recall, 3)\n",
    "    result.loc['Weighted Avg F1', 'All Classes'] = round(evaluation_result.weighted_avg_F1, 3)\n",
    "    result.loc['Micro Avg', 'All Classes'] = round(evaluation_result.micro_avg, 3)\n",
    "    display(result)\n",
    "\n"
   ]
  },
  {
   "attachments": {},
   "cell_type": "markdown",
   "metadata": {},
   "source": [
    "#### Gaussian Model Evaluation"
   ]
  },
  {
   "attachments": {},
   "cell_type": "markdown",
   "metadata": {},
   "source": [
    "##### Without Smoothing"
   ]
  },
  {
   "cell_type": "code",
   "execution_count": 60,
   "metadata": {},
   "outputs": [
    {
     "name": "stderr",
     "output_type": "stream",
     "text": [
      "C:\\Users\\ALI\\AppData\\Local\\Temp/ipykernel_1020/1562686027.py:26: RuntimeWarning: invalid value encountered in true_divide\n",
      "  numerator = np.exp(-((test_sample - self.class_mean[i]) ** 2) / ( 2 * self.class_var[i]))\n",
      "C:\\Users\\ALI\\AppData\\Local\\Temp/ipykernel_1020/1562686027.py:26: RuntimeWarning: divide by zero encountered in true_divide\n",
      "  numerator = np.exp(-((test_sample - self.class_mean[i]) ** 2) / ( 2 * self.class_var[i]))\n",
      "C:\\Users\\ALI\\AppData\\Local\\Temp/ipykernel_1020/1562686027.py:28: RuntimeWarning: invalid value encountered in true_divide\n",
      "  prob_xc = numerator / denominator\n",
      "C:\\Users\\ALI\\AppData\\Local\\Temp/ipykernel_1020/1562686027.py:30: RuntimeWarning: divide by zero encountered in log\n",
      "  prob_cx = np.sum(np.log(prob_xc) + np.log(self.class_prob[i]))\n",
      "C:\\Users\\ALI\\AppData\\Local\\Temp/ipykernel_1020/3735660858.py:33: RuntimeWarning: invalid value encountered in true_divide\n",
      "  precision = correct_detected_class / all_detected_class\n"
     ]
    },
    {
     "name": "stdout",
     "output_type": "stream",
     "text": [
      "SKLearn Report: \n",
      "              precision    recall  f1-score   support\n",
      "\n",
      "           0      0.929     0.936     0.932       125\n",
      "           1      0.709     0.907     0.796       118\n",
      "           2      0.000     0.000     0.000       113\n",
      "           3      0.000     0.000     0.000       125\n",
      "           4      0.484     0.938     0.638       112\n",
      "           5      0.411     0.950     0.574       100\n",
      "           6      0.293     0.952     0.448       146\n",
      "           7      0.000     0.000     0.000       107\n",
      "           8      0.000     0.000     0.000       125\n",
      "           9      0.000     0.000     0.000       129\n",
      "\n",
      "    accuracy                          0.469      1200\n",
      "   macro avg      0.282     0.468     0.339      1200\n",
      "weighted avg      0.281     0.469     0.337      1200\n",
      "\n"
     ]
    },
    {
     "name": "stderr",
     "output_type": "stream",
     "text": [
      "c:\\Users\\ALI\\AppData\\Local\\Programs\\Python\\Python39\\lib\\site-packages\\sklearn\\metrics\\_classification.py:1344: UndefinedMetricWarning: Precision and F-score are ill-defined and being set to 0.0 in labels with no predicted samples. Use `zero_division` parameter to control this behavior.\n",
      "  _warn_prf(average, modifier, msg_start, len(result))\n",
      "c:\\Users\\ALI\\AppData\\Local\\Programs\\Python\\Python39\\lib\\site-packages\\sklearn\\metrics\\_classification.py:1344: UndefinedMetricWarning: Precision and F-score are ill-defined and being set to 0.0 in labels with no predicted samples. Use `zero_division` parameter to control this behavior.\n",
      "  _warn_prf(average, modifier, msg_start, len(result))\n",
      "c:\\Users\\ALI\\AppData\\Local\\Programs\\Python\\Python39\\lib\\site-packages\\sklearn\\metrics\\_classification.py:1344: UndefinedMetricWarning: Precision and F-score are ill-defined and being set to 0.0 in labels with no predicted samples. Use `zero_division` parameter to control this behavior.\n",
      "  _warn_prf(average, modifier, msg_start, len(result))\n"
     ]
    },
    {
     "data": {
      "text/html": [
       "<div>\n",
       "<style scoped>\n",
       "    .dataframe tbody tr th:only-of-type {\n",
       "        vertical-align: middle;\n",
       "    }\n",
       "\n",
       "    .dataframe tbody tr th {\n",
       "        vertical-align: top;\n",
       "    }\n",
       "\n",
       "    .dataframe thead th {\n",
       "        text-align: right;\n",
       "    }\n",
       "</style>\n",
       "<table border=\"1\" class=\"dataframe\">\n",
       "  <thead>\n",
       "    <tr style=\"text-align: right;\">\n",
       "      <th></th>\n",
       "      <th>0</th>\n",
       "      <th>1</th>\n",
       "      <th>2</th>\n",
       "      <th>3</th>\n",
       "      <th>4</th>\n",
       "      <th>5</th>\n",
       "      <th>6</th>\n",
       "      <th>7</th>\n",
       "      <th>8</th>\n",
       "      <th>9</th>\n",
       "      <th>All Classes</th>\n",
       "    </tr>\n",
       "  </thead>\n",
       "  <tbody>\n",
       "    <tr>\n",
       "      <th>Precision</th>\n",
       "      <td>0.929</td>\n",
       "      <td>0.709</td>\n",
       "      <td>NaN</td>\n",
       "      <td>NaN</td>\n",
       "      <td>0.484</td>\n",
       "      <td>0.411</td>\n",
       "      <td>0.293</td>\n",
       "      <td>NaN</td>\n",
       "      <td>NaN</td>\n",
       "      <td>NaN</td>\n",
       "      <td>NaN</td>\n",
       "    </tr>\n",
       "    <tr>\n",
       "      <th>Recall</th>\n",
       "      <td>0.936</td>\n",
       "      <td>0.907</td>\n",
       "      <td>0.0</td>\n",
       "      <td>0.0</td>\n",
       "      <td>0.938</td>\n",
       "      <td>0.95</td>\n",
       "      <td>0.952</td>\n",
       "      <td>0.0</td>\n",
       "      <td>0.0</td>\n",
       "      <td>0.0</td>\n",
       "      <td>NaN</td>\n",
       "    </tr>\n",
       "    <tr>\n",
       "      <th>F1-score</th>\n",
       "      <td>0.932</td>\n",
       "      <td>0.796</td>\n",
       "      <td>NaN</td>\n",
       "      <td>NaN</td>\n",
       "      <td>0.638</td>\n",
       "      <td>0.574</td>\n",
       "      <td>0.448</td>\n",
       "      <td>NaN</td>\n",
       "      <td>NaN</td>\n",
       "      <td>NaN</td>\n",
       "      <td>NaN</td>\n",
       "    </tr>\n",
       "    <tr>\n",
       "      <th>Accuracy</th>\n",
       "      <td>NaN</td>\n",
       "      <td>NaN</td>\n",
       "      <td>NaN</td>\n",
       "      <td>NaN</td>\n",
       "      <td>NaN</td>\n",
       "      <td>NaN</td>\n",
       "      <td>NaN</td>\n",
       "      <td>NaN</td>\n",
       "      <td>NaN</td>\n",
       "      <td>NaN</td>\n",
       "      <td>0.469</td>\n",
       "    </tr>\n",
       "    <tr>\n",
       "      <th>Macro Avg Precision</th>\n",
       "      <td>NaN</td>\n",
       "      <td>NaN</td>\n",
       "      <td>NaN</td>\n",
       "      <td>NaN</td>\n",
       "      <td>NaN</td>\n",
       "      <td>NaN</td>\n",
       "      <td>NaN</td>\n",
       "      <td>NaN</td>\n",
       "      <td>NaN</td>\n",
       "      <td>NaN</td>\n",
       "      <td>NaN</td>\n",
       "    </tr>\n",
       "    <tr>\n",
       "      <th>Macro Avg Recall</th>\n",
       "      <td>NaN</td>\n",
       "      <td>NaN</td>\n",
       "      <td>NaN</td>\n",
       "      <td>NaN</td>\n",
       "      <td>NaN</td>\n",
       "      <td>NaN</td>\n",
       "      <td>NaN</td>\n",
       "      <td>NaN</td>\n",
       "      <td>NaN</td>\n",
       "      <td>NaN</td>\n",
       "      <td>0.468</td>\n",
       "    </tr>\n",
       "    <tr>\n",
       "      <th>Macro Avg F1</th>\n",
       "      <td>NaN</td>\n",
       "      <td>NaN</td>\n",
       "      <td>NaN</td>\n",
       "      <td>NaN</td>\n",
       "      <td>NaN</td>\n",
       "      <td>NaN</td>\n",
       "      <td>NaN</td>\n",
       "      <td>NaN</td>\n",
       "      <td>NaN</td>\n",
       "      <td>NaN</td>\n",
       "      <td>NaN</td>\n",
       "    </tr>\n",
       "    <tr>\n",
       "      <th>Weighted Avg Precision</th>\n",
       "      <td>NaN</td>\n",
       "      <td>NaN</td>\n",
       "      <td>NaN</td>\n",
       "      <td>NaN</td>\n",
       "      <td>NaN</td>\n",
       "      <td>NaN</td>\n",
       "      <td>NaN</td>\n",
       "      <td>NaN</td>\n",
       "      <td>NaN</td>\n",
       "      <td>NaN</td>\n",
       "      <td>NaN</td>\n",
       "    </tr>\n",
       "    <tr>\n",
       "      <th>Weighted Avg Recall</th>\n",
       "      <td>NaN</td>\n",
       "      <td>NaN</td>\n",
       "      <td>NaN</td>\n",
       "      <td>NaN</td>\n",
       "      <td>NaN</td>\n",
       "      <td>NaN</td>\n",
       "      <td>NaN</td>\n",
       "      <td>NaN</td>\n",
       "      <td>NaN</td>\n",
       "      <td>NaN</td>\n",
       "      <td>0.469</td>\n",
       "    </tr>\n",
       "    <tr>\n",
       "      <th>Weighted Avg F1</th>\n",
       "      <td>NaN</td>\n",
       "      <td>NaN</td>\n",
       "      <td>NaN</td>\n",
       "      <td>NaN</td>\n",
       "      <td>NaN</td>\n",
       "      <td>NaN</td>\n",
       "      <td>NaN</td>\n",
       "      <td>NaN</td>\n",
       "      <td>NaN</td>\n",
       "      <td>NaN</td>\n",
       "      <td>NaN</td>\n",
       "    </tr>\n",
       "    <tr>\n",
       "      <th>Micro Avg</th>\n",
       "      <td>NaN</td>\n",
       "      <td>NaN</td>\n",
       "      <td>NaN</td>\n",
       "      <td>NaN</td>\n",
       "      <td>NaN</td>\n",
       "      <td>NaN</td>\n",
       "      <td>NaN</td>\n",
       "      <td>NaN</td>\n",
       "      <td>NaN</td>\n",
       "      <td>NaN</td>\n",
       "      <td>0.469</td>\n",
       "    </tr>\n",
       "  </tbody>\n",
       "</table>\n",
       "</div>"
      ],
      "text/plain": [
       "                            0      1    2    3      4      5      6    7    8  \\\n",
       "Precision               0.929  0.709  NaN  NaN  0.484  0.411  0.293  NaN  NaN   \n",
       "Recall                  0.936  0.907  0.0  0.0  0.938   0.95  0.952  0.0  0.0   \n",
       "F1-score                0.932  0.796  NaN  NaN  0.638  0.574  0.448  NaN  NaN   \n",
       "Accuracy                  NaN    NaN  NaN  NaN    NaN    NaN    NaN  NaN  NaN   \n",
       "Macro Avg Precision       NaN    NaN  NaN  NaN    NaN    NaN    NaN  NaN  NaN   \n",
       "Macro Avg Recall          NaN    NaN  NaN  NaN    NaN    NaN    NaN  NaN  NaN   \n",
       "Macro Avg F1              NaN    NaN  NaN  NaN    NaN    NaN    NaN  NaN  NaN   \n",
       "Weighted Avg Precision    NaN    NaN  NaN  NaN    NaN    NaN    NaN  NaN  NaN   \n",
       "Weighted Avg Recall       NaN    NaN  NaN  NaN    NaN    NaN    NaN  NaN  NaN   \n",
       "Weighted Avg F1           NaN    NaN  NaN  NaN    NaN    NaN    NaN  NaN  NaN   \n",
       "Micro Avg                 NaN    NaN  NaN  NaN    NaN    NaN    NaN  NaN  NaN   \n",
       "\n",
       "                          9 All Classes  \n",
       "Precision               NaN         NaN  \n",
       "Recall                  0.0         NaN  \n",
       "F1-score                NaN         NaN  \n",
       "Accuracy                NaN       0.469  \n",
       "Macro Avg Precision     NaN         NaN  \n",
       "Macro Avg Recall        NaN       0.468  \n",
       "Macro Avg F1            NaN         NaN  \n",
       "Weighted Avg Precision  NaN         NaN  \n",
       "Weighted Avg Recall     NaN       0.469  \n",
       "Weighted Avg F1         NaN         NaN  \n",
       "Micro Avg               NaN       0.469  "
      ]
     },
     "metadata": {},
     "output_type": "display_data"
    }
   ],
   "source": [
    "evaluation_result = evaluate_model(GaussianNaiveBayes, train_data, train_labels, test_data, test_labels, smoothing = False)\n",
    "display_evaluation_result(evaluation_result)"
   ]
  },
  {
   "attachments": {},
   "cell_type": "markdown",
   "metadata": {},
   "source": [
    "##### With Smoothing"
   ]
  },
  {
   "cell_type": "code",
   "execution_count": 61,
   "metadata": {},
   "outputs": [
    {
     "name": "stdout",
     "output_type": "stream",
     "text": [
      "SKLearn Report: \n",
      "              precision    recall  f1-score   support\n",
      "\n",
      "           0      0.929     0.936     0.932       125\n",
      "           1      0.901     0.847     0.873       118\n",
      "           2      0.667     0.726     0.695       113\n",
      "           3      0.798     0.824     0.811       125\n",
      "           4      0.950     0.848     0.896       112\n",
      "           5      0.907     0.970     0.937       100\n",
      "           6      0.981     0.692     0.811       146\n",
      "           7      0.905     0.981     0.942       107\n",
      "           8      1.000     0.976     0.988       125\n",
      "           9      0.785     0.992     0.877       129\n",
      "\n",
      "    accuracy                          0.875      1200\n",
      "   macro avg      0.882     0.879     0.876      1200\n",
      "weighted avg      0.884     0.875     0.874      1200\n",
      "\n"
     ]
    },
    {
     "data": {
      "text/html": [
       "<div>\n",
       "<style scoped>\n",
       "    .dataframe tbody tr th:only-of-type {\n",
       "        vertical-align: middle;\n",
       "    }\n",
       "\n",
       "    .dataframe tbody tr th {\n",
       "        vertical-align: top;\n",
       "    }\n",
       "\n",
       "    .dataframe thead th {\n",
       "        text-align: right;\n",
       "    }\n",
       "</style>\n",
       "<table border=\"1\" class=\"dataframe\">\n",
       "  <thead>\n",
       "    <tr style=\"text-align: right;\">\n",
       "      <th></th>\n",
       "      <th>0</th>\n",
       "      <th>1</th>\n",
       "      <th>2</th>\n",
       "      <th>3</th>\n",
       "      <th>4</th>\n",
       "      <th>5</th>\n",
       "      <th>6</th>\n",
       "      <th>7</th>\n",
       "      <th>8</th>\n",
       "      <th>9</th>\n",
       "      <th>All Classes</th>\n",
       "    </tr>\n",
       "  </thead>\n",
       "  <tbody>\n",
       "    <tr>\n",
       "      <th>Precision</th>\n",
       "      <td>0.929</td>\n",
       "      <td>0.901</td>\n",
       "      <td>0.667</td>\n",
       "      <td>0.798</td>\n",
       "      <td>0.95</td>\n",
       "      <td>0.907</td>\n",
       "      <td>0.981</td>\n",
       "      <td>0.905</td>\n",
       "      <td>1.0</td>\n",
       "      <td>0.785</td>\n",
       "      <td>NaN</td>\n",
       "    </tr>\n",
       "    <tr>\n",
       "      <th>Recall</th>\n",
       "      <td>0.936</td>\n",
       "      <td>0.847</td>\n",
       "      <td>0.726</td>\n",
       "      <td>0.824</td>\n",
       "      <td>0.848</td>\n",
       "      <td>0.97</td>\n",
       "      <td>0.692</td>\n",
       "      <td>0.981</td>\n",
       "      <td>0.976</td>\n",
       "      <td>0.992</td>\n",
       "      <td>NaN</td>\n",
       "    </tr>\n",
       "    <tr>\n",
       "      <th>F1-score</th>\n",
       "      <td>0.932</td>\n",
       "      <td>0.873</td>\n",
       "      <td>0.695</td>\n",
       "      <td>0.811</td>\n",
       "      <td>0.896</td>\n",
       "      <td>0.937</td>\n",
       "      <td>0.811</td>\n",
       "      <td>0.942</td>\n",
       "      <td>0.988</td>\n",
       "      <td>0.877</td>\n",
       "      <td>NaN</td>\n",
       "    </tr>\n",
       "    <tr>\n",
       "      <th>Accuracy</th>\n",
       "      <td>NaN</td>\n",
       "      <td>NaN</td>\n",
       "      <td>NaN</td>\n",
       "      <td>NaN</td>\n",
       "      <td>NaN</td>\n",
       "      <td>NaN</td>\n",
       "      <td>NaN</td>\n",
       "      <td>NaN</td>\n",
       "      <td>NaN</td>\n",
       "      <td>NaN</td>\n",
       "      <td>0.875</td>\n",
       "    </tr>\n",
       "    <tr>\n",
       "      <th>Macro Avg Precision</th>\n",
       "      <td>NaN</td>\n",
       "      <td>NaN</td>\n",
       "      <td>NaN</td>\n",
       "      <td>NaN</td>\n",
       "      <td>NaN</td>\n",
       "      <td>NaN</td>\n",
       "      <td>NaN</td>\n",
       "      <td>NaN</td>\n",
       "      <td>NaN</td>\n",
       "      <td>NaN</td>\n",
       "      <td>0.882</td>\n",
       "    </tr>\n",
       "    <tr>\n",
       "      <th>Macro Avg Recall</th>\n",
       "      <td>NaN</td>\n",
       "      <td>NaN</td>\n",
       "      <td>NaN</td>\n",
       "      <td>NaN</td>\n",
       "      <td>NaN</td>\n",
       "      <td>NaN</td>\n",
       "      <td>NaN</td>\n",
       "      <td>NaN</td>\n",
       "      <td>NaN</td>\n",
       "      <td>NaN</td>\n",
       "      <td>0.879</td>\n",
       "    </tr>\n",
       "    <tr>\n",
       "      <th>Macro Avg F1</th>\n",
       "      <td>NaN</td>\n",
       "      <td>NaN</td>\n",
       "      <td>NaN</td>\n",
       "      <td>NaN</td>\n",
       "      <td>NaN</td>\n",
       "      <td>NaN</td>\n",
       "      <td>NaN</td>\n",
       "      <td>NaN</td>\n",
       "      <td>NaN</td>\n",
       "      <td>NaN</td>\n",
       "      <td>0.876</td>\n",
       "    </tr>\n",
       "    <tr>\n",
       "      <th>Weighted Avg Precision</th>\n",
       "      <td>NaN</td>\n",
       "      <td>NaN</td>\n",
       "      <td>NaN</td>\n",
       "      <td>NaN</td>\n",
       "      <td>NaN</td>\n",
       "      <td>NaN</td>\n",
       "      <td>NaN</td>\n",
       "      <td>NaN</td>\n",
       "      <td>NaN</td>\n",
       "      <td>NaN</td>\n",
       "      <td>0.884</td>\n",
       "    </tr>\n",
       "    <tr>\n",
       "      <th>Weighted Avg Recall</th>\n",
       "      <td>NaN</td>\n",
       "      <td>NaN</td>\n",
       "      <td>NaN</td>\n",
       "      <td>NaN</td>\n",
       "      <td>NaN</td>\n",
       "      <td>NaN</td>\n",
       "      <td>NaN</td>\n",
       "      <td>NaN</td>\n",
       "      <td>NaN</td>\n",
       "      <td>NaN</td>\n",
       "      <td>0.875</td>\n",
       "    </tr>\n",
       "    <tr>\n",
       "      <th>Weighted Avg F1</th>\n",
       "      <td>NaN</td>\n",
       "      <td>NaN</td>\n",
       "      <td>NaN</td>\n",
       "      <td>NaN</td>\n",
       "      <td>NaN</td>\n",
       "      <td>NaN</td>\n",
       "      <td>NaN</td>\n",
       "      <td>NaN</td>\n",
       "      <td>NaN</td>\n",
       "      <td>NaN</td>\n",
       "      <td>0.874</td>\n",
       "    </tr>\n",
       "    <tr>\n",
       "      <th>Micro Avg</th>\n",
       "      <td>NaN</td>\n",
       "      <td>NaN</td>\n",
       "      <td>NaN</td>\n",
       "      <td>NaN</td>\n",
       "      <td>NaN</td>\n",
       "      <td>NaN</td>\n",
       "      <td>NaN</td>\n",
       "      <td>NaN</td>\n",
       "      <td>NaN</td>\n",
       "      <td>NaN</td>\n",
       "      <td>0.875</td>\n",
       "    </tr>\n",
       "  </tbody>\n",
       "</table>\n",
       "</div>"
      ],
      "text/plain": [
       "                            0      1      2      3      4      5      6  \\\n",
       "Precision               0.929  0.901  0.667  0.798   0.95  0.907  0.981   \n",
       "Recall                  0.936  0.847  0.726  0.824  0.848   0.97  0.692   \n",
       "F1-score                0.932  0.873  0.695  0.811  0.896  0.937  0.811   \n",
       "Accuracy                  NaN    NaN    NaN    NaN    NaN    NaN    NaN   \n",
       "Macro Avg Precision       NaN    NaN    NaN    NaN    NaN    NaN    NaN   \n",
       "Macro Avg Recall          NaN    NaN    NaN    NaN    NaN    NaN    NaN   \n",
       "Macro Avg F1              NaN    NaN    NaN    NaN    NaN    NaN    NaN   \n",
       "Weighted Avg Precision    NaN    NaN    NaN    NaN    NaN    NaN    NaN   \n",
       "Weighted Avg Recall       NaN    NaN    NaN    NaN    NaN    NaN    NaN   \n",
       "Weighted Avg F1           NaN    NaN    NaN    NaN    NaN    NaN    NaN   \n",
       "Micro Avg                 NaN    NaN    NaN    NaN    NaN    NaN    NaN   \n",
       "\n",
       "                            7      8      9 All Classes  \n",
       "Precision               0.905    1.0  0.785         NaN  \n",
       "Recall                  0.981  0.976  0.992         NaN  \n",
       "F1-score                0.942  0.988  0.877         NaN  \n",
       "Accuracy                  NaN    NaN    NaN       0.875  \n",
       "Macro Avg Precision       NaN    NaN    NaN       0.882  \n",
       "Macro Avg Recall          NaN    NaN    NaN       0.879  \n",
       "Macro Avg F1              NaN    NaN    NaN       0.876  \n",
       "Weighted Avg Precision    NaN    NaN    NaN       0.884  \n",
       "Weighted Avg Recall       NaN    NaN    NaN       0.875  \n",
       "Weighted Avg F1           NaN    NaN    NaN       0.874  \n",
       "Micro Avg                 NaN    NaN    NaN       0.875  "
      ]
     },
     "metadata": {},
     "output_type": "display_data"
    }
   ],
   "source": [
    "evaluation_result = evaluate_model(GaussianNaiveBayes, train_data, train_labels, test_data, test_labels, smoothing = True)\n",
    "display_evaluation_result(evaluation_result)"
   ]
  },
  {
   "attachments": {},
   "cell_type": "markdown",
   "metadata": {},
   "source": [
    "#### Bernoulli Model Evaluation\n"
   ]
  },
  {
   "attachments": {},
   "cell_type": "markdown",
   "metadata": {},
   "source": [
    "##### Without Smoothing:"
   ]
  },
  {
   "cell_type": "code",
   "execution_count": 62,
   "metadata": {},
   "outputs": [
    {
     "name": "stderr",
     "output_type": "stream",
     "text": [
      "C:\\Users\\ALI\\AppData\\Local\\Temp/ipykernel_1020/1221014273.py:38: RuntimeWarning: divide by zero encountered in log\n",
      "  prob_cx = np.sum(np.log(prob_xc) + np.log(self.class_prob[i]))\n"
     ]
    },
    {
     "name": "stdout",
     "output_type": "stream",
     "text": [
      "SKLearn Report: \n",
      "              precision    recall  f1-score   support\n",
      "\n",
      "           0      0.922     0.944     0.933       125\n",
      "           1      0.888     0.873     0.880       118\n",
      "           2      0.596     0.796     0.682       113\n",
      "           3      0.861     0.696     0.770       125\n",
      "           4      0.883     0.875     0.879       112\n",
      "           5      0.860     0.980     0.916       100\n",
      "           6      0.989     0.610     0.754       146\n",
      "           7      0.897     0.972     0.933       107\n",
      "           8      1.000     0.920     0.958       125\n",
      "           9      0.797     0.977     0.878       129\n",
      "\n",
      "    accuracy                          0.857      1200\n",
      "   macro avg      0.869     0.864     0.858      1200\n",
      "weighted avg      0.873     0.857     0.856      1200\n",
      "\n"
     ]
    },
    {
     "data": {
      "text/html": [
       "<div>\n",
       "<style scoped>\n",
       "    .dataframe tbody tr th:only-of-type {\n",
       "        vertical-align: middle;\n",
       "    }\n",
       "\n",
       "    .dataframe tbody tr th {\n",
       "        vertical-align: top;\n",
       "    }\n",
       "\n",
       "    .dataframe thead th {\n",
       "        text-align: right;\n",
       "    }\n",
       "</style>\n",
       "<table border=\"1\" class=\"dataframe\">\n",
       "  <thead>\n",
       "    <tr style=\"text-align: right;\">\n",
       "      <th></th>\n",
       "      <th>0</th>\n",
       "      <th>1</th>\n",
       "      <th>2</th>\n",
       "      <th>3</th>\n",
       "      <th>4</th>\n",
       "      <th>5</th>\n",
       "      <th>6</th>\n",
       "      <th>7</th>\n",
       "      <th>8</th>\n",
       "      <th>9</th>\n",
       "      <th>All Classes</th>\n",
       "    </tr>\n",
       "  </thead>\n",
       "  <tbody>\n",
       "    <tr>\n",
       "      <th>Precision</th>\n",
       "      <td>0.922</td>\n",
       "      <td>0.888</td>\n",
       "      <td>0.596</td>\n",
       "      <td>0.861</td>\n",
       "      <td>0.883</td>\n",
       "      <td>0.86</td>\n",
       "      <td>0.989</td>\n",
       "      <td>0.897</td>\n",
       "      <td>1.0</td>\n",
       "      <td>0.797</td>\n",
       "      <td>NaN</td>\n",
       "    </tr>\n",
       "    <tr>\n",
       "      <th>Recall</th>\n",
       "      <td>0.944</td>\n",
       "      <td>0.873</td>\n",
       "      <td>0.796</td>\n",
       "      <td>0.696</td>\n",
       "      <td>0.875</td>\n",
       "      <td>0.98</td>\n",
       "      <td>0.61</td>\n",
       "      <td>0.972</td>\n",
       "      <td>0.92</td>\n",
       "      <td>0.977</td>\n",
       "      <td>NaN</td>\n",
       "    </tr>\n",
       "    <tr>\n",
       "      <th>F1-score</th>\n",
       "      <td>0.933</td>\n",
       "      <td>0.88</td>\n",
       "      <td>0.682</td>\n",
       "      <td>0.77</td>\n",
       "      <td>0.879</td>\n",
       "      <td>0.916</td>\n",
       "      <td>0.754</td>\n",
       "      <td>0.933</td>\n",
       "      <td>0.958</td>\n",
       "      <td>0.878</td>\n",
       "      <td>NaN</td>\n",
       "    </tr>\n",
       "    <tr>\n",
       "      <th>Accuracy</th>\n",
       "      <td>NaN</td>\n",
       "      <td>NaN</td>\n",
       "      <td>NaN</td>\n",
       "      <td>NaN</td>\n",
       "      <td>NaN</td>\n",
       "      <td>NaN</td>\n",
       "      <td>NaN</td>\n",
       "      <td>NaN</td>\n",
       "      <td>NaN</td>\n",
       "      <td>NaN</td>\n",
       "      <td>0.857</td>\n",
       "    </tr>\n",
       "    <tr>\n",
       "      <th>Macro Avg Precision</th>\n",
       "      <td>NaN</td>\n",
       "      <td>NaN</td>\n",
       "      <td>NaN</td>\n",
       "      <td>NaN</td>\n",
       "      <td>NaN</td>\n",
       "      <td>NaN</td>\n",
       "      <td>NaN</td>\n",
       "      <td>NaN</td>\n",
       "      <td>NaN</td>\n",
       "      <td>NaN</td>\n",
       "      <td>0.869</td>\n",
       "    </tr>\n",
       "    <tr>\n",
       "      <th>Macro Avg Recall</th>\n",
       "      <td>NaN</td>\n",
       "      <td>NaN</td>\n",
       "      <td>NaN</td>\n",
       "      <td>NaN</td>\n",
       "      <td>NaN</td>\n",
       "      <td>NaN</td>\n",
       "      <td>NaN</td>\n",
       "      <td>NaN</td>\n",
       "      <td>NaN</td>\n",
       "      <td>NaN</td>\n",
       "      <td>0.864</td>\n",
       "    </tr>\n",
       "    <tr>\n",
       "      <th>Macro Avg F1</th>\n",
       "      <td>NaN</td>\n",
       "      <td>NaN</td>\n",
       "      <td>NaN</td>\n",
       "      <td>NaN</td>\n",
       "      <td>NaN</td>\n",
       "      <td>NaN</td>\n",
       "      <td>NaN</td>\n",
       "      <td>NaN</td>\n",
       "      <td>NaN</td>\n",
       "      <td>NaN</td>\n",
       "      <td>0.858</td>\n",
       "    </tr>\n",
       "    <tr>\n",
       "      <th>Weighted Avg Precision</th>\n",
       "      <td>NaN</td>\n",
       "      <td>NaN</td>\n",
       "      <td>NaN</td>\n",
       "      <td>NaN</td>\n",
       "      <td>NaN</td>\n",
       "      <td>NaN</td>\n",
       "      <td>NaN</td>\n",
       "      <td>NaN</td>\n",
       "      <td>NaN</td>\n",
       "      <td>NaN</td>\n",
       "      <td>0.873</td>\n",
       "    </tr>\n",
       "    <tr>\n",
       "      <th>Weighted Avg Recall</th>\n",
       "      <td>NaN</td>\n",
       "      <td>NaN</td>\n",
       "      <td>NaN</td>\n",
       "      <td>NaN</td>\n",
       "      <td>NaN</td>\n",
       "      <td>NaN</td>\n",
       "      <td>NaN</td>\n",
       "      <td>NaN</td>\n",
       "      <td>NaN</td>\n",
       "      <td>NaN</td>\n",
       "      <td>0.857</td>\n",
       "    </tr>\n",
       "    <tr>\n",
       "      <th>Weighted Avg F1</th>\n",
       "      <td>NaN</td>\n",
       "      <td>NaN</td>\n",
       "      <td>NaN</td>\n",
       "      <td>NaN</td>\n",
       "      <td>NaN</td>\n",
       "      <td>NaN</td>\n",
       "      <td>NaN</td>\n",
       "      <td>NaN</td>\n",
       "      <td>NaN</td>\n",
       "      <td>NaN</td>\n",
       "      <td>0.856</td>\n",
       "    </tr>\n",
       "    <tr>\n",
       "      <th>Micro Avg</th>\n",
       "      <td>NaN</td>\n",
       "      <td>NaN</td>\n",
       "      <td>NaN</td>\n",
       "      <td>NaN</td>\n",
       "      <td>NaN</td>\n",
       "      <td>NaN</td>\n",
       "      <td>NaN</td>\n",
       "      <td>NaN</td>\n",
       "      <td>NaN</td>\n",
       "      <td>NaN</td>\n",
       "      <td>0.857</td>\n",
       "    </tr>\n",
       "  </tbody>\n",
       "</table>\n",
       "</div>"
      ],
      "text/plain": [
       "                            0      1      2      3      4      5      6  \\\n",
       "Precision               0.922  0.888  0.596  0.861  0.883   0.86  0.989   \n",
       "Recall                  0.944  0.873  0.796  0.696  0.875   0.98   0.61   \n",
       "F1-score                0.933   0.88  0.682   0.77  0.879  0.916  0.754   \n",
       "Accuracy                  NaN    NaN    NaN    NaN    NaN    NaN    NaN   \n",
       "Macro Avg Precision       NaN    NaN    NaN    NaN    NaN    NaN    NaN   \n",
       "Macro Avg Recall          NaN    NaN    NaN    NaN    NaN    NaN    NaN   \n",
       "Macro Avg F1              NaN    NaN    NaN    NaN    NaN    NaN    NaN   \n",
       "Weighted Avg Precision    NaN    NaN    NaN    NaN    NaN    NaN    NaN   \n",
       "Weighted Avg Recall       NaN    NaN    NaN    NaN    NaN    NaN    NaN   \n",
       "Weighted Avg F1           NaN    NaN    NaN    NaN    NaN    NaN    NaN   \n",
       "Micro Avg                 NaN    NaN    NaN    NaN    NaN    NaN    NaN   \n",
       "\n",
       "                            7      8      9 All Classes  \n",
       "Precision               0.897    1.0  0.797         NaN  \n",
       "Recall                  0.972   0.92  0.977         NaN  \n",
       "F1-score                0.933  0.958  0.878         NaN  \n",
       "Accuracy                  NaN    NaN    NaN       0.857  \n",
       "Macro Avg Precision       NaN    NaN    NaN       0.869  \n",
       "Macro Avg Recall          NaN    NaN    NaN       0.864  \n",
       "Macro Avg F1              NaN    NaN    NaN       0.858  \n",
       "Weighted Avg Precision    NaN    NaN    NaN       0.873  \n",
       "Weighted Avg Recall       NaN    NaN    NaN       0.857  \n",
       "Weighted Avg F1           NaN    NaN    NaN       0.856  \n",
       "Micro Avg                 NaN    NaN    NaN       0.857  "
      ]
     },
     "metadata": {},
     "output_type": "display_data"
    }
   ],
   "source": [
    "evaluation_result = evaluate_model(BernoulliNaiveBayesModel, train_data, train_labels, test_data, test_labels, smoothing = False)\n",
    "display_evaluation_result(evaluation_result)"
   ]
  },
  {
   "attachments": {},
   "cell_type": "markdown",
   "metadata": {},
   "source": [
    "##### With Smoothing:"
   ]
  },
  {
   "cell_type": "code",
   "execution_count": 63,
   "metadata": {},
   "outputs": [
    {
     "name": "stdout",
     "output_type": "stream",
     "text": [
      "SKLearn Report: \n",
      "              precision    recall  f1-score   support\n",
      "\n",
      "           0      0.922     0.944     0.933       125\n",
      "           1      0.888     0.873     0.880       118\n",
      "           2      0.596     0.796     0.682       113\n",
      "           3      0.860     0.688     0.764       125\n",
      "           4      0.883     0.875     0.879       112\n",
      "           5      0.867     0.980     0.920       100\n",
      "           6      0.988     0.568     0.722       146\n",
      "           7      0.852     0.972     0.908       107\n",
      "           8      1.000     0.920     0.958       125\n",
      "           9      0.787     0.977     0.872       129\n",
      "\n",
      "    accuracy                          0.851      1200\n",
      "   macro avg      0.864     0.859     0.852      1200\n",
      "weighted avg      0.869     0.851     0.849      1200\n",
      "\n"
     ]
    },
    {
     "data": {
      "text/html": [
       "<div>\n",
       "<style scoped>\n",
       "    .dataframe tbody tr th:only-of-type {\n",
       "        vertical-align: middle;\n",
       "    }\n",
       "\n",
       "    .dataframe tbody tr th {\n",
       "        vertical-align: top;\n",
       "    }\n",
       "\n",
       "    .dataframe thead th {\n",
       "        text-align: right;\n",
       "    }\n",
       "</style>\n",
       "<table border=\"1\" class=\"dataframe\">\n",
       "  <thead>\n",
       "    <tr style=\"text-align: right;\">\n",
       "      <th></th>\n",
       "      <th>0</th>\n",
       "      <th>1</th>\n",
       "      <th>2</th>\n",
       "      <th>3</th>\n",
       "      <th>4</th>\n",
       "      <th>5</th>\n",
       "      <th>6</th>\n",
       "      <th>7</th>\n",
       "      <th>8</th>\n",
       "      <th>9</th>\n",
       "      <th>All Classes</th>\n",
       "    </tr>\n",
       "  </thead>\n",
       "  <tbody>\n",
       "    <tr>\n",
       "      <th>Precision</th>\n",
       "      <td>0.922</td>\n",
       "      <td>0.888</td>\n",
       "      <td>0.596</td>\n",
       "      <td>0.86</td>\n",
       "      <td>0.883</td>\n",
       "      <td>0.867</td>\n",
       "      <td>0.988</td>\n",
       "      <td>0.852</td>\n",
       "      <td>1.0</td>\n",
       "      <td>0.788</td>\n",
       "      <td>NaN</td>\n",
       "    </tr>\n",
       "    <tr>\n",
       "      <th>Recall</th>\n",
       "      <td>0.944</td>\n",
       "      <td>0.873</td>\n",
       "      <td>0.796</td>\n",
       "      <td>0.688</td>\n",
       "      <td>0.875</td>\n",
       "      <td>0.98</td>\n",
       "      <td>0.568</td>\n",
       "      <td>0.972</td>\n",
       "      <td>0.92</td>\n",
       "      <td>0.977</td>\n",
       "      <td>NaN</td>\n",
       "    </tr>\n",
       "    <tr>\n",
       "      <th>F1-score</th>\n",
       "      <td>0.933</td>\n",
       "      <td>0.88</td>\n",
       "      <td>0.682</td>\n",
       "      <td>0.764</td>\n",
       "      <td>0.879</td>\n",
       "      <td>0.92</td>\n",
       "      <td>0.722</td>\n",
       "      <td>0.908</td>\n",
       "      <td>0.958</td>\n",
       "      <td>0.872</td>\n",
       "      <td>NaN</td>\n",
       "    </tr>\n",
       "    <tr>\n",
       "      <th>Accuracy</th>\n",
       "      <td>NaN</td>\n",
       "      <td>NaN</td>\n",
       "      <td>NaN</td>\n",
       "      <td>NaN</td>\n",
       "      <td>NaN</td>\n",
       "      <td>NaN</td>\n",
       "      <td>NaN</td>\n",
       "      <td>NaN</td>\n",
       "      <td>NaN</td>\n",
       "      <td>NaN</td>\n",
       "      <td>0.851</td>\n",
       "    </tr>\n",
       "    <tr>\n",
       "      <th>Macro Avg Precision</th>\n",
       "      <td>NaN</td>\n",
       "      <td>NaN</td>\n",
       "      <td>NaN</td>\n",
       "      <td>NaN</td>\n",
       "      <td>NaN</td>\n",
       "      <td>NaN</td>\n",
       "      <td>NaN</td>\n",
       "      <td>NaN</td>\n",
       "      <td>NaN</td>\n",
       "      <td>NaN</td>\n",
       "      <td>0.864</td>\n",
       "    </tr>\n",
       "    <tr>\n",
       "      <th>Macro Avg Recall</th>\n",
       "      <td>NaN</td>\n",
       "      <td>NaN</td>\n",
       "      <td>NaN</td>\n",
       "      <td>NaN</td>\n",
       "      <td>NaN</td>\n",
       "      <td>NaN</td>\n",
       "      <td>NaN</td>\n",
       "      <td>NaN</td>\n",
       "      <td>NaN</td>\n",
       "      <td>NaN</td>\n",
       "      <td>0.859</td>\n",
       "    </tr>\n",
       "    <tr>\n",
       "      <th>Macro Avg F1</th>\n",
       "      <td>NaN</td>\n",
       "      <td>NaN</td>\n",
       "      <td>NaN</td>\n",
       "      <td>NaN</td>\n",
       "      <td>NaN</td>\n",
       "      <td>NaN</td>\n",
       "      <td>NaN</td>\n",
       "      <td>NaN</td>\n",
       "      <td>NaN</td>\n",
       "      <td>NaN</td>\n",
       "      <td>0.852</td>\n",
       "    </tr>\n",
       "    <tr>\n",
       "      <th>Weighted Avg Precision</th>\n",
       "      <td>NaN</td>\n",
       "      <td>NaN</td>\n",
       "      <td>NaN</td>\n",
       "      <td>NaN</td>\n",
       "      <td>NaN</td>\n",
       "      <td>NaN</td>\n",
       "      <td>NaN</td>\n",
       "      <td>NaN</td>\n",
       "      <td>NaN</td>\n",
       "      <td>NaN</td>\n",
       "      <td>0.869</td>\n",
       "    </tr>\n",
       "    <tr>\n",
       "      <th>Weighted Avg Recall</th>\n",
       "      <td>NaN</td>\n",
       "      <td>NaN</td>\n",
       "      <td>NaN</td>\n",
       "      <td>NaN</td>\n",
       "      <td>NaN</td>\n",
       "      <td>NaN</td>\n",
       "      <td>NaN</td>\n",
       "      <td>NaN</td>\n",
       "      <td>NaN</td>\n",
       "      <td>NaN</td>\n",
       "      <td>0.851</td>\n",
       "    </tr>\n",
       "    <tr>\n",
       "      <th>Weighted Avg F1</th>\n",
       "      <td>NaN</td>\n",
       "      <td>NaN</td>\n",
       "      <td>NaN</td>\n",
       "      <td>NaN</td>\n",
       "      <td>NaN</td>\n",
       "      <td>NaN</td>\n",
       "      <td>NaN</td>\n",
       "      <td>NaN</td>\n",
       "      <td>NaN</td>\n",
       "      <td>NaN</td>\n",
       "      <td>0.849</td>\n",
       "    </tr>\n",
       "    <tr>\n",
       "      <th>Micro Avg</th>\n",
       "      <td>NaN</td>\n",
       "      <td>NaN</td>\n",
       "      <td>NaN</td>\n",
       "      <td>NaN</td>\n",
       "      <td>NaN</td>\n",
       "      <td>NaN</td>\n",
       "      <td>NaN</td>\n",
       "      <td>NaN</td>\n",
       "      <td>NaN</td>\n",
       "      <td>NaN</td>\n",
       "      <td>0.851</td>\n",
       "    </tr>\n",
       "  </tbody>\n",
       "</table>\n",
       "</div>"
      ],
      "text/plain": [
       "                            0      1      2      3      4      5      6  \\\n",
       "Precision               0.922  0.888  0.596   0.86  0.883  0.867  0.988   \n",
       "Recall                  0.944  0.873  0.796  0.688  0.875   0.98  0.568   \n",
       "F1-score                0.933   0.88  0.682  0.764  0.879   0.92  0.722   \n",
       "Accuracy                  NaN    NaN    NaN    NaN    NaN    NaN    NaN   \n",
       "Macro Avg Precision       NaN    NaN    NaN    NaN    NaN    NaN    NaN   \n",
       "Macro Avg Recall          NaN    NaN    NaN    NaN    NaN    NaN    NaN   \n",
       "Macro Avg F1              NaN    NaN    NaN    NaN    NaN    NaN    NaN   \n",
       "Weighted Avg Precision    NaN    NaN    NaN    NaN    NaN    NaN    NaN   \n",
       "Weighted Avg Recall       NaN    NaN    NaN    NaN    NaN    NaN    NaN   \n",
       "Weighted Avg F1           NaN    NaN    NaN    NaN    NaN    NaN    NaN   \n",
       "Micro Avg                 NaN    NaN    NaN    NaN    NaN    NaN    NaN   \n",
       "\n",
       "                            7      8      9 All Classes  \n",
       "Precision               0.852    1.0  0.788         NaN  \n",
       "Recall                  0.972   0.92  0.977         NaN  \n",
       "F1-score                0.908  0.958  0.872         NaN  \n",
       "Accuracy                  NaN    NaN    NaN       0.851  \n",
       "Macro Avg Precision       NaN    NaN    NaN       0.864  \n",
       "Macro Avg Recall          NaN    NaN    NaN       0.859  \n",
       "Macro Avg F1              NaN    NaN    NaN       0.852  \n",
       "Weighted Avg Precision    NaN    NaN    NaN       0.869  \n",
       "Weighted Avg Recall       NaN    NaN    NaN       0.851  \n",
       "Weighted Avg F1           NaN    NaN    NaN       0.849  \n",
       "Micro Avg                 NaN    NaN    NaN       0.851  "
      ]
     },
     "metadata": {},
     "output_type": "display_data"
    }
   ],
   "source": [
    "evaluation_result = evaluate_model(BernoulliNaiveBayesModel, train_data, train_labels, test_data, test_labels)\n",
    "display_evaluation_result(evaluation_result)"
   ]
  },
  {
   "attachments": {},
   "cell_type": "markdown",
   "metadata": {},
   "source": [
    "#### Result Analysis\n",
    "\n",
    "In Gaussian Naive Bayes without smoothing the accuracy is too low because when variance is 0 our calculation completely makes no sense since we will have division by 0, but with smoothing the accuracy is quite good. Recall and precision is low for digit \"2\" and \"3\" since they're alike and also in resize stage we lost the quality of some images. Recall is bad for \"6\" and precision is bad for \"9\" and there's a relation between them. There are two ways to write 6 in persian and one of them is like the way \"9\" is written. Our model classifies those as 9, so the recall of \"6\" becomes low and precision of \"9\" becomes low too.<br>\n",
    "In Bernoulli Naive Bayes without smoothing accuracy is good too and I think the reason can be we have few cases that the probability is exactly 0 and also in those cases the test data was like train data.(for example if in all of \"0\" train images a pixel is white, in most of the test images that pixel is white too.) In bernoulli Model again we have that low accuracy problem with digits \"2\", \"3\", \"6\" and \"9\"."
   ]
  },
  {
   "attachments": {},
   "cell_type": "markdown",
   "metadata": {},
   "source": [
    "#### Wrong Classification Examples"
   ]
  },
  {
   "cell_type": "code",
   "execution_count": 43,
   "metadata": {},
   "outputs": [],
   "source": [
    "def show_wrong_examples(Model):\n",
    "    model = Model(train_data, train_labels)\n",
    "    NUM_OF_EXAMPLES = 10\n",
    "    wrong_preds_data = []\n",
    "    wrong_preds_label = []\n",
    "\n",
    "    for data, label in zip(test_data, test_labels):\n",
    "        prediction = model.predict(data)\n",
    "        if prediction != label:\n",
    "            wrong_preds_data.append(data)\n",
    "            wrong_preds_label.append(prediction)\n",
    "        if len(wrong_preds_label) == NUM_OF_EXAMPLES:\n",
    "            break\n",
    "            \n",
    "    fig, axs = plt.subplots(2, 5, figsize=(15, 5))\n",
    "    axs = axs.flatten()\n",
    "    for i in range(NUM_OF_EXAMPLES):\n",
    "        img = wrong_preds_data[i]\n",
    "        prediction = wrong_preds_label[i]\n",
    "        axs[i].imshow(img, cmap='gray_r')\n",
    "        axs[i].axis('off')\n",
    "        axs[i].set_title(f\"prediction : {prediction}\")\n",
    "    plt.show()"
   ]
  },
  {
   "attachments": {},
   "cell_type": "markdown",
   "metadata": {},
   "source": [
    "##### Gaussian Model Wrong predictions:"
   ]
  },
  {
   "cell_type": "code",
   "execution_count": 44,
   "metadata": {},
   "outputs": [
    {
     "data": {
      "image/png": "[encoded data removed]",
      "text/plain": [
       "<Figure size 1080x360 with 10 Axes>"
      ]
     },
     "metadata": {
      "needs_background": "light"
     },
     "output_type": "display_data"
    }
   ],
   "source": [
    "show_wrong_examples(GaussianNaiveBayes)"
   ]
  },
  {
   "attachments": {},
   "cell_type": "markdown",
   "metadata": {},
   "source": [
    "##### Bernoulli Model Wrong predictions:"
   ]
  },
  {
   "cell_type": "code",
   "execution_count": 45,
   "metadata": {},
   "outputs": [
    {
     "data": {
      "image/png": "[encoded data removed]",
      "text/plain": [
       "<Figure size 1080x360 with 10 Axes>"
      ]
     },
     "metadata": {
      "needs_background": "light"
     },
     "output_type": "display_data"
    }
   ],
   "source": [
    "show_wrong_examples(BernoulliNaiveBayesModel)"
   ]
  },
  {
   "attachments": {},
   "cell_type": "markdown",
   "metadata": {},
   "source": [
    "### Sources\n",
    "\n",
    "* [Laplace Smoothing](https://towardsdatascience.com/laplace-smoothing-in-na%C3%AFve-bayes-algorithm-9c237a8bdece)\n",
    "* [Harmonic Mean](https://en.wikipedia.org/wiki/Harmonic_mean)\n",
    "* [Multi-class Metrics](https://towardsdatascience.com/multi-class-metrics-made-simple-part-ii-the-f1-score-ebe8b2c2ca1)"
   ]
  }
 ],
 "metadata": {
  "kernelspec": {
   "display_name": "Python 3",
   "language": "python",
   "name": "python3"
  },
  "language_info": {
   "codemirror_mode": {
    "name": "ipython",
    "version": 3
   },
   "file_extension": ".py",
   "mimetype": "text/x-python",
   "name": "python",
   "nbconvert_exporter": "python",
   "pygments_lexer": "ipython3",
   "version": "3.9.6"
  },
  "orig_nbformat": 4
 },
 "nbformat": 4,
 "nbformat_minor": 2
}
