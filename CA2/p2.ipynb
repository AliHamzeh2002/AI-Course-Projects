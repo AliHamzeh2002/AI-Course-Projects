{
 "cells": [
  {
   "attachments": {},
   "cell_type": "markdown",
   "metadata": {},
   "source": [
    "# Computer Assignment #2\n",
    "## Ali Hamzehpour 810100129\n",
    "## Part One: Genetic Algorithm (Buying stocks using genetic algorithm)\n",
    "### Problem Description\n",
    "We are given data of some company stocks' prices from 2020 to 2022. The data includes the ```return``` of the stock and its ```risk```. ```return``` indicates that how much the price of the stock has increased in that time and ```risk``` is the maximum fall in the price of the stock. We have to give each companies' stock a coefficient (from 0 to 1) that shows how much we want to invest in that stock. We have some limitations: we have to have shares in at least 30 companies, sum of the risk should be less than 60% and sum of the return should be more than 1000%."
   ]
  },
  {
   "attachments": {},
   "cell_type": "markdown",
   "metadata": {},
   "source": [
    "First we load the data and check its general features."
   ]
  },
  {
   "cell_type": "code",
   "execution_count": 1,
   "metadata": {},
   "outputs": [],
   "source": [
    "import pandas as pd\n",
    "data =  pd.read_csv(\"sample.csv\")"
   ]
  },
  {
   "cell_type": "code",
   "execution_count": 2,
   "metadata": {},
   "outputs": [
    {
     "data": {
      "text/html": [
       "<div>\n",
       "<style scoped>\n",
       "    .dataframe tbody tr th:only-of-type {\n",
       "        vertical-align: middle;\n",
       "    }\n",
       "\n",
       "    .dataframe tbody tr th {\n",
       "        vertical-align: top;\n",
       "    }\n",
       "\n",
       "    .dataframe thead th {\n",
       "        text-align: right;\n",
       "    }\n",
       "</style>\n",
       "<table border=\"1\" class=\"dataframe\">\n",
       "  <thead>\n",
       "    <tr style=\"text-align: right;\">\n",
       "      <th></th>\n",
       "      <th>Unnamed: 0</th>\n",
       "      <th>ticker</th>\n",
       "      <th>risk</th>\n",
       "      <th>return</th>\n",
       "    </tr>\n",
       "  </thead>\n",
       "  <tbody>\n",
       "    <tr>\n",
       "      <th>0</th>\n",
       "      <td>0</td>\n",
       "      <td>LMB</td>\n",
       "      <td>0.665555</td>\n",
       "      <td>2.459677</td>\n",
       "    </tr>\n",
       "    <tr>\n",
       "      <th>1</th>\n",
       "      <td>1</td>\n",
       "      <td>GECCM</td>\n",
       "      <td>0.011733</td>\n",
       "      <td>0.202107</td>\n",
       "    </tr>\n",
       "    <tr>\n",
       "      <th>2</th>\n",
       "      <td>2</td>\n",
       "      <td>OXBR</td>\n",
       "      <td>0.810532</td>\n",
       "      <td>2.040541</td>\n",
       "    </tr>\n",
       "    <tr>\n",
       "      <th>3</th>\n",
       "      <td>3</td>\n",
       "      <td>LIVE</td>\n",
       "      <td>0.630844</td>\n",
       "      <td>3.729542</td>\n",
       "    </tr>\n",
       "    <tr>\n",
       "      <th>4</th>\n",
       "      <td>4</td>\n",
       "      <td>NVEE</td>\n",
       "      <td>0.330513</td>\n",
       "      <td>1.610970</td>\n",
       "    </tr>\n",
       "    <tr>\n",
       "      <th>5</th>\n",
       "      <td>5</td>\n",
       "      <td>ANAB</td>\n",
       "      <td>0.468864</td>\n",
       "      <td>0.520464</td>\n",
       "    </tr>\n",
       "    <tr>\n",
       "      <th>6</th>\n",
       "      <td>6</td>\n",
       "      <td>FNK</td>\n",
       "      <td>0.430869</td>\n",
       "      <td>0.331228</td>\n",
       "    </tr>\n",
       "    <tr>\n",
       "      <th>7</th>\n",
       "      <td>7</td>\n",
       "      <td>ADRA</td>\n",
       "      <td>0.026280</td>\n",
       "      <td>0.089737</td>\n",
       "    </tr>\n",
       "    <tr>\n",
       "      <th>8</th>\n",
       "      <td>8</td>\n",
       "      <td>HDSN</td>\n",
       "      <td>0.262239</td>\n",
       "      <td>9.525773</td>\n",
       "    </tr>\n",
       "    <tr>\n",
       "      <th>9</th>\n",
       "      <td>9</td>\n",
       "      <td>GNPX</td>\n",
       "      <td>0.775387</td>\n",
       "      <td>3.323529</td>\n",
       "    </tr>\n",
       "  </tbody>\n",
       "</table>\n",
       "</div>"
      ],
      "text/plain": [
       "   Unnamed: 0 ticker      risk    return\n",
       "0           0    LMB  0.665555  2.459677\n",
       "1           1  GECCM  0.011733  0.202107\n",
       "2           2   OXBR  0.810532  2.040541\n",
       "3           3   LIVE  0.630844  3.729542\n",
       "4           4   NVEE  0.330513  1.610970\n",
       "5           5   ANAB  0.468864  0.520464\n",
       "6           6    FNK  0.430869  0.331228\n",
       "7           7   ADRA  0.026280  0.089737\n",
       "8           8   HDSN  0.262239  9.525773\n",
       "9           9   GNPX  0.775387  3.323529"
      ]
     },
     "execution_count": 2,
     "metadata": {},
     "output_type": "execute_result"
    }
   ],
   "source": [
    "data.head(10)"
   ]
  },
  {
   "cell_type": "code",
   "execution_count": 3,
   "metadata": {},
   "outputs": [
    {
     "data": {
      "text/html": [
       "<div>\n",
       "<style scoped>\n",
       "    .dataframe tbody tr th:only-of-type {\n",
       "        vertical-align: middle;\n",
       "    }\n",
       "\n",
       "    .dataframe tbody tr th {\n",
       "        vertical-align: top;\n",
       "    }\n",
       "\n",
       "    .dataframe thead th {\n",
       "        text-align: right;\n",
       "    }\n",
       "</style>\n",
       "<table border=\"1\" class=\"dataframe\">\n",
       "  <thead>\n",
       "    <tr style=\"text-align: right;\">\n",
       "      <th></th>\n",
       "      <th>Unnamed: 0</th>\n",
       "      <th>risk</th>\n",
       "      <th>return</th>\n",
       "    </tr>\n",
       "  </thead>\n",
       "  <tbody>\n",
       "    <tr>\n",
       "      <th>count</th>\n",
       "      <td>400.000000</td>\n",
       "      <td>400.000000</td>\n",
       "      <td>400.000000</td>\n",
       "    </tr>\n",
       "    <tr>\n",
       "      <th>mean</th>\n",
       "      <td>199.500000</td>\n",
       "      <td>0.460890</td>\n",
       "      <td>0.754245</td>\n",
       "    </tr>\n",
       "    <tr>\n",
       "      <th>std</th>\n",
       "      <td>115.614301</td>\n",
       "      <td>0.206229</td>\n",
       "      <td>1.364516</td>\n",
       "    </tr>\n",
       "    <tr>\n",
       "      <th>min</th>\n",
       "      <td>0.000000</td>\n",
       "      <td>0.000000</td>\n",
       "      <td>0.000565</td>\n",
       "    </tr>\n",
       "    <tr>\n",
       "      <th>25%</th>\n",
       "      <td>99.750000</td>\n",
       "      <td>0.322457</td>\n",
       "      <td>0.127440</td>\n",
       "    </tr>\n",
       "    <tr>\n",
       "      <th>50%</th>\n",
       "      <td>199.500000</td>\n",
       "      <td>0.420737</td>\n",
       "      <td>0.317390</td>\n",
       "    </tr>\n",
       "    <tr>\n",
       "      <th>75%</th>\n",
       "      <td>299.250000</td>\n",
       "      <td>0.607160</td>\n",
       "      <td>0.817212</td>\n",
       "    </tr>\n",
       "    <tr>\n",
       "      <th>max</th>\n",
       "      <td>399.000000</td>\n",
       "      <td>0.959499</td>\n",
       "      <td>16.480000</td>\n",
       "    </tr>\n",
       "  </tbody>\n",
       "</table>\n",
       "</div>"
      ],
      "text/plain": [
       "       Unnamed: 0        risk      return\n",
       "count  400.000000  400.000000  400.000000\n",
       "mean   199.500000    0.460890    0.754245\n",
       "std    115.614301    0.206229    1.364516\n",
       "min      0.000000    0.000000    0.000565\n",
       "25%     99.750000    0.322457    0.127440\n",
       "50%    199.500000    0.420737    0.317390\n",
       "75%    299.250000    0.607160    0.817212\n",
       "max    399.000000    0.959499   16.480000"
      ]
     },
     "execution_count": 3,
     "metadata": {},
     "output_type": "execute_result"
    }
   ],
   "source": [
    "data.describe()"
   ]
  },
  {
   "attachments": {},
   "cell_type": "markdown",
   "metadata": {},
   "source": [
    "We have some constants in our problem that we should find their best value for this problem. so I defined a ```Constants``` dataclass to pass it to my functions and easily run the algorithm with different constant values."
   ]
  },
  {
   "cell_type": "code",
   "execution_count": 4,
   "metadata": {},
   "outputs": [],
   "source": [
    "from dataclasses import dataclass\n",
    "import numpy as np\n",
    "\n",
    "NUM_OF_STOCKS = 400\n",
    "\n",
    "@dataclass\n",
    "class Constants:\n",
    "    max_generations: int\n",
    "    population_length: int\n",
    "    p_crossover: float\n",
    "    p_mutation: float\n",
    "    carry_size: int\n"
   ]
  },
  {
   "attachments": {},
   "cell_type": "markdown",
   "metadata": {},
   "source": [
    "I defined the gene as a number from 0 to 1 which shows a company's coefficient in our data. So a chromosome will be a list with length of 400 (number of companies) which each element in the list is the coefficient of a company's stock."
   ]
  },
  {
   "attachments": {},
   "cell_type": "markdown",
   "metadata": {},
   "source": [
    "To make a random chromosome I made a list with random values from 0 to 1 and the normalize it. In normalization, at first I also implemented a threshold in which I set values that are too small(less than sum / (number of companies * 10)) as 0, then I simply divided each value in the list by the sum of the list."
   ]
  },
  {
   "cell_type": "code",
   "execution_count": 46,
   "metadata": {},
   "outputs": [],
   "source": [
    "import random\n",
    "import warnings\n",
    "\n",
    "def normalize_chromosome(chromosome):\n",
    "    chromosome[chromosome < chromosome.sum()/(NUM_OF_STOCKS*10)] = 0\n",
    "    return chromosome / chromosome.sum()\n",
    "\n",
    "def gen_random_chromosome():\n",
    "    chromosome = np.random.rand(NUM_OF_STOCKS)\n",
    "    return normalize_chromosome(chromosome).reshape((1,400))\n",
    "    "
   ]
  },
  {
   "attachments": {},
   "cell_type": "markdown",
   "metadata": {},
   "source": [
    "To make an initial population, I simply generate random chromosomes with the size of the population. "
   ]
  },
  {
   "cell_type": "code",
   "execution_count": 11,
   "metadata": {},
   "outputs": [],
   "source": [
    "def gen_initial_population(population_length):\n",
    "    return np.array([gen_random_chromosome() for i in range(population_length)]).reshape((population_length, NUM_OF_STOCKS))"
   ]
  },
  {
   "attachments": {},
   "cell_type": "markdown",
   "metadata": {},
   "source": [
    "I define fitness function as below:\n",
    "$$ extraPunishment(chromosome) = max(risk_i - 0.6, 0) * 5 $$\n",
    "$$ fitness(chromosome) = max(0, sum(return_i - risk_i - extraPunishment(chromosome)) * c_i) $$ \n",
    "which $c_i$ is the coefficient of each company's stock. <br>\n",
    "the part $return_i - risk_i$ is obvious and the part $(risk_i - 0.6) * 5$ is to put extra punishment for stocks that their risk are more than 0.6. The maximum part is to avoid having negative fitnesses."
   ]
  },
  {
   "cell_type": "code",
   "execution_count": 12,
   "metadata": {},
   "outputs": [],
   "source": [
    "def calc_fitness(chromosome):\n",
    "   return_fitness = data[\"return\"].to_numpy().reshape((1,NUM_OF_STOCKS))\n",
    "   risk_fitness = data[\"risk\"].to_numpy().reshape((1,NUM_OF_STOCKS))  \n",
    "   additional_risk = np.maximum((data[\"risk\"] - 0.6).to_numpy().reshape((1,NUM_OF_STOCKS)), np.zeros(NUM_OF_STOCKS).reshape(1, NUM_OF_STOCKS))\n",
    "   total_return = np.multiply(chromosome, return_fitness).sum()\n",
    "   total_risk = np.multiply(chromosome, risk_fitness + additional_risk * 5).sum()\n",
    "   fitness = (total_return - total_risk).sum()\n",
    "   return max(fitness, 0)"
   ]
  },
  {
   "cell_type": "code",
   "execution_count": 13,
   "metadata": {},
   "outputs": [
    {
     "data": {
      "text/plain": [
       "0.07855732667841564"
      ]
     },
     "execution_count": 13,
     "metadata": {},
     "output_type": "execute_result"
    }
   ],
   "source": [
    "calc_fitness(gen_random_chromosome())"
   ]
  },
  {
   "attachments": {},
   "cell_type": "markdown",
   "metadata": {},
   "source": [
    "For crossover I implemented two methods: one-point crossover and uniform crossover. In one-point I choose a random index from 0 to 400 and then slice parents at that point. Then children will be made by changing parents' parts from that point. In the end, I normalize children's chromosomes. In uniform crossover for each gene we decide to give which parent's gene to the first child and the second child will be the inverse of the first child."
   ]
  },
  {
   "cell_type": "code",
   "execution_count": 35,
   "metadata": {},
   "outputs": [],
   "source": [
    "def crossover_one_point(parents, p_crossover):\n",
    "    if np.random.random() > p_crossover:\n",
    "        return parents\n",
    "    par1, par2 = parents\n",
    "    non_zero_sum = False\n",
    "    while not non_zero_sum:\n",
    "        crossover_point = np.random.randint(NUM_OF_STOCKS)\n",
    "        child1 = np.concatenate((par1[crossover_point:], par2[:crossover_point]))\n",
    "        child2 = np.concatenate((par2[crossover_point:], par1[:crossover_point]))\n",
    "        if child1.sum() > 0 and child2.sum() > 0:\n",
    "            non_zero_sum = True\n",
    "    return normalize_chromosome(child1), normalize_chromosome(child2)"
   ]
  },
  {
   "cell_type": "code",
   "execution_count": 15,
   "metadata": {},
   "outputs": [],
   "source": [
    "def uniform_crossover(parents, p_crossover):\n",
    "    if np.random.random() > p_crossover:\n",
    "        return parents\n",
    "    par1, par2 = parents\n",
    "    child1, child2 = np.empty(shape = (NUM_OF_STOCKS)), np.empty(shape = (NUM_OF_STOCKS))\n",
    "    for i in range(len(par1)):\n",
    "        if np.random.bit_generator.randbits(1):\n",
    "            child1[i] = par1[i]\n",
    "            child2[i] = par2[i]\n",
    "        else:\n",
    "            child1[i] = par2[i]\n",
    "            child2[i] = par1[i]\n",
    "    return normalize_chromosome(child1), normalize_chromosome(child2)"
   ]
  },
  {
   "attachments": {},
   "cell_type": "markdown",
   "metadata": {},
   "source": [
    "In mutation I choose a random gene and set its value completely random and then I normalize the new chromsome."
   ]
  },
  {
   "cell_type": "code",
   "execution_count": 175,
   "metadata": {},
   "outputs": [],
   "source": [
    "def mutate(chromosome, p_mutation):\n",
    "    if np.random.random() > p_mutation:\n",
    "        return chromosome\n",
    "    index = np.random.randint(NUM_OF_STOCKS)\n",
    "    chromosome[index] = np.random.random()\n",
    "\n",
    "    return normalize_chromosome(chromosome)"
   ]
  },
  {
   "attachments": {},
   "cell_type": "markdown",
   "metadata": {},
   "source": [
    "For making mating pool I use rank-based selection. In the main algorithm function(```find_optimal_solutions```) for each generation, I calculate fitnesses and then check if we have an answer or not, then I choose some of the best chromosomes to directly carry them to the next generation then I make a new mating pool and run crossover on the mating pool. For crossover I used one-point crossover(Uniform is faster though.) In the end I run mutation on the new population."
   ]
  },
  {
   "cell_type": "code",
   "execution_count": 16,
   "metadata": {},
   "outputs": [],
   "source": [
    "return_col = data[\"return\"].to_numpy().reshape((1,NUM_OF_STOCKS))\n",
    "risk_col = data[\"risk\"].to_numpy().reshape((1,NUM_OF_STOCKS))"
   ]
  },
  {
   "cell_type": "code",
   "execution_count": 155,
   "metadata": {},
   "outputs": [],
   "source": [
    "def can_be_solution(chromosome):\n",
    "    used_stocks = np.count_nonzero(chromosome)\n",
    "    total_risk = np.multiply(chromosome, risk_col).sum()\n",
    "    total_return = np.multiply(chromosome, return_col).sum()\n",
    "    return (used_stocks > 30 and total_return > 10 and total_risk < 0.6)\n",
    "\n",
    "def make_mating_pool(population, population_length, mating_pool_length, prob):\n",
    "    prob = prob / prob.sum()\n",
    "    indices = np.random.choice(population_length, mating_pool_length, p = prob)\n",
    "    unique, counts = np.unique(indices, return_counts=True)\n",
    "    return population[indices, :].reshape((-1, 2, NUM_OF_STOCKS))\n",
    "       \n",
    "def find_optimal_solution(constants):\n",
    "    population = gen_initial_population(constants.population_length)\n",
    "    generation_num = 0\n",
    "    while generation_num < constants.max_generations:\n",
    "        fitnesses = np.apply_along_axis(calc_fitness, axis = 1, arr = population)\n",
    "        sorted_indices = np.argsort(fitnesses)\n",
    "        population = population[sorted_indices]\n",
    "        is_solution = np.apply_along_axis(can_be_solution, axis = 1, arr = population)\n",
    "        if np.count_nonzero(is_solution):\n",
    "            return population[np.nonzero(is_solution)[0],:], generation_num\n",
    "        #print(f\"{generation_num}:\")\n",
    "        #print(max(fitnesses), calc_fitness(population[-1]), np.count_nonzero(population[-1]))\n",
    "        weights = np.array([i for i in range(1, constants.population_length + 1)])\n",
    "        carry_population = population[-constants.carry_size:]\n",
    "        mating_pool = make_mating_pool(population, constants.population_length, constants.population_length - constants.carry_size, weights)\n",
    "        crossover_population = np.array([crossover_one_point(parents, constants.p_crossover) for parents in mating_pool]).reshape((-1, NUM_OF_STOCKS))\n",
    "        crossover_population = np.apply_along_axis(lambda x: mutate(x, constants.p_mutation), axis = 1, arr = crossover_population).reshape((-1, NUM_OF_STOCKS))\n",
    "        population = np.concatenate((crossover_population, carry_population))\n",
    "        generation_num += 1\n",
    "    return None, constants.max_generations\n"
   ]
  },
  {
   "attachments": {},
   "cell_type": "markdown",
   "metadata": {},
   "source": [
    "### Testing"
   ]
  },
  {
   "attachments": {},
   "cell_type": "markdown",
   "metadata": {},
   "source": [
    "I wrote a wrapper function for ```find_optimal_solution``` to run the function multiple times and calculates the average generations and time spent."
   ]
  },
  {
   "cell_type": "code",
   "execution_count": 199,
   "metadata": {},
   "outputs": [],
   "source": [
    "import time\n",
    "def run_genetic(constants):\n",
    "    print(f\" constants: max_generations: {constants.max_generations} population_length: {constants.population_length} p_crossover: {constants.p_crossover} p_mutation: {constants.p_mutation} carry_size: {constants.carry_size}\")\n",
    "    sum_num_of_generations = 0\n",
    "    sum_time = 0\n",
    "    REPEAT = 3\n",
    "    found_answer = 0\n",
    "    for i in range(REPEAT):\n",
    "        t0 = time.time()\n",
    "        answer, num_of_generations = find_optimal_solution(constants)\n",
    "        if type(answer) == type(None):\n",
    "            print(\"Couldn't find answer\")\n",
    "            return \n",
    "        t1 = time.time()\n",
    "        sum_time += (t1 - t0)\n",
    "        sum_num_of_generations += num_of_generations\n",
    "    print(f\"On average took {sum_num_of_generations / REPEAT} generations and took {sum_time / REPEAT} seconds.\")"
   ]
  },
  {
   "attachments": {},
   "cell_type": "markdown",
   "metadata": {},
   "source": [
    "I run the algorithm with differnet constants:"
   ]
  },
  {
   "cell_type": "code",
   "execution_count": 178,
   "metadata": {},
   "outputs": [
    {
     "name": "stdout",
     "output_type": "stream",
     "text": [
      " constants: max_generations: 1000 population_length: 700 p_crossover: 0.6 p_mutation: 0.1 carry_size: 70\n",
      "On average took 76.0 generations and took 4.807551781336467 seconds.\n"
     ]
    }
   ],
   "source": [
    "constants = Constants(1000, 700, 0.6, 0.1, 70)\n",
    "run_genetic(constants)"
   ]
  },
  {
   "cell_type": "code",
   "execution_count": 205,
   "metadata": {},
   "outputs": [
    {
     "name": "stdout",
     "output_type": "stream",
     "text": [
      " constants: max_generations: 1000 population_length: 700 p_crossover: 0.4 p_mutation: 0.1 carry_size: 70\n",
      "On average took 63.0 generations and took 3.888690710067749 seconds.\n"
     ]
    }
   ],
   "source": [
    "constants = Constants(1000, 700, 0.4, 0.1, 70)\n",
    "run_genetic(constants)"
   ]
  },
  {
   "cell_type": "code",
   "execution_count": 204,
   "metadata": {},
   "outputs": [
    {
     "name": "stdout",
     "output_type": "stream",
     "text": [
      " constants: max_generations: 1000 population_length: 700 p_crossover: 0.4 p_mutation: 0.01 carry_size: 70\n",
      "On average took 389.0 generations and took 22.191707611083984 seconds.\n"
     ]
    }
   ],
   "source": [
    "constants = Constants(1000, 700, 0.4, 0.01, 70)\n",
    "run_genetic(constants)"
   ]
  },
  {
   "cell_type": "code",
   "execution_count": 203,
   "metadata": {},
   "outputs": [
    {
     "name": "stdout",
     "output_type": "stream",
     "text": [
      " constants: max_generations: 1000 population_length: 3000 p_crossover: 0.6 p_mutation: 0.1 carry_size: 300\n",
      "On average took 43.666666666666664 generations and took 11.503020286560059 seconds.\n"
     ]
    }
   ],
   "source": [
    "constants = Constants(1000, 3000, 0.6, 0.1, 300)\n",
    "run_genetic(constants)"
   ]
  },
  {
   "cell_type": "code",
   "execution_count": 201,
   "metadata": {},
   "outputs": [
    {
     "name": "stdout",
     "output_type": "stream",
     "text": [
      " constants: max_generations: 1000 population_length: 700 p_crossover: 0 p_mutation: 0.1 carry_size: 100\n",
      "On average took 29.0 generations and took 1.7685893376668294 seconds.\n"
     ]
    }
   ],
   "source": [
    "constants = Constants(1000, 700, 0, 0.1, 100)\n",
    "run_genetic(constants)"
   ]
  },
  {
   "cell_type": "code",
   "execution_count": 202,
   "metadata": {},
   "outputs": [
    {
     "name": "stdout",
     "output_type": "stream",
     "text": [
      " constants: max_generations: 1000 population_length: 700 p_crossover: 0.7 p_mutation: 0 carry_size: 100\n",
      "Couldn't find answer\n"
     ]
    }
   ],
   "source": [
    "constants = Constants(1000, 700, 0.7, 0, 100)\n",
    "run_genetic(constants)"
   ]
  },
  {
   "cell_type": "code",
   "execution_count": 184,
   "metadata": {},
   "outputs": [
    {
     "name": "stdout",
     "output_type": "stream",
     "text": [
      " constants: max_generations: 1000 population_length: 300 p_crossover: 0.7 p_mutation: 0.1 carry_size: 30\n",
      "On average took 319.0 generations and took 8.319308201471964 seconds.\n"
     ]
    }
   ],
   "source": [
    "constants = Constants(1000, 300, 0.7, 0.1, 30)\n",
    "run_genetic(constants)"
   ]
  },
  {
   "cell_type": "code",
   "execution_count": 196,
   "metadata": {},
   "outputs": [
    {
     "name": "stdout",
     "output_type": "stream",
     "text": [
      " constants: max_generations: 1000 population_length: 300 p_crossover: 0.4 p_mutation: 0.1 carry_size: 70\n",
      "On average took 70.66666666666667 generations and took 1.8000747362772624 seconds.\n"
     ]
    }
   ],
   "source": [
    "constants = Constants(1000, 300, 0.4, 0.1, 70)\n",
    "run_genetic(constants)"
   ]
  },
  {
   "cell_type": "code",
   "execution_count": 186,
   "metadata": {},
   "outputs": [
    {
     "name": "stdout",
     "output_type": "stream",
     "text": [
      " constants: max_generations: 1000 population_length: 300 p_crossover: 0.4 p_mutation: 0.01 carry_size: 30\n",
      "On average took 380.6666666666667 generations and took 9.407411257425943 seconds.\n"
     ]
    }
   ],
   "source": [
    "constants = Constants(1000, 300, 0.4, 0.01, 30)\n",
    "run_genetic(constants)"
   ]
  },
  {
   "cell_type": "code",
   "execution_count": 191,
   "metadata": {},
   "outputs": [
    {
     "name": "stdout",
     "output_type": "stream",
     "text": [
      " constants: max_generations: 1000 population_length: 10 p_crossover: 0.7 p_mutation: 0.1 carry_size: 2\n",
      "Couldn't find answer\n"
     ]
    }
   ],
   "source": [
    "constants = Constants(1000, 10 , 0.7, 0.1, 2)\n",
    "run_genetic(constants)"
   ]
  },
  {
   "attachments": {},
   "cell_type": "markdown",
   "metadata": {},
   "source": [
    "### Result\n",
    "I chose the one with population size of 700 and p_crossover = 0.6 and p_mutation = 0.1 to find my final results"
   ]
  },
  {
   "cell_type": "code",
   "execution_count": 188,
   "metadata": {},
   "outputs": [
    {
     "name": "stdout",
     "output_type": "stream",
     "text": [
      "[[0.00000000e+00 0.00000000e+00 0.00000000e+00 0.00000000e+00\n",
      "  0.00000000e+00 0.00000000e+00 0.00000000e+00 2.56782872e-04\n",
      "  2.69760610e-01 0.00000000e+00 0.00000000e+00 0.00000000e+00\n",
      "  0.00000000e+00 0.00000000e+00 0.00000000e+00 0.00000000e+00\n",
      "  0.00000000e+00 0.00000000e+00 0.00000000e+00 0.00000000e+00\n",
      "  0.00000000e+00 0.00000000e+00 2.60532711e-04 2.61055542e-04\n",
      "  0.00000000e+00 4.54274941e-04 4.67776586e-04 0.00000000e+00\n",
      "  4.32856325e-04 0.00000000e+00 5.63921446e-04 2.63250711e-04\n",
      "  0.00000000e+00 3.68999325e-04 0.00000000e+00 5.40017977e-04\n",
      "  0.00000000e+00 3.67015612e-04 3.84083738e-04 0.00000000e+00\n",
      "  2.97034599e-04 4.36579608e-04 0.00000000e+00 5.58449517e-04\n",
      "  3.34629274e-04 2.92546772e-04 0.00000000e+00 4.67630397e-04\n",
      "  4.37327078e-04 4.74030200e-04 4.86380070e-04 3.76291673e-04\n",
      "  4.37074762e-04 2.96102305e-04 5.72130532e-04 0.00000000e+00\n",
      "  5.68591450e-04 0.00000000e+00 4.24941174e-04 0.00000000e+00\n",
      "  3.08395616e-04 0.00000000e+00 5.61874889e-04 5.83041526e-04\n",
      "  3.52251637e-04 4.19257138e-04 3.11908717e-04 5.45902715e-04\n",
      "  0.00000000e+00 0.00000000e+00 0.00000000e+00 4.47406141e-04\n",
      "  4.15330627e-04 4.04002228e-04 3.01774912e-04 4.79283620e-04\n",
      "  4.94681881e-04 0.00000000e+00 0.00000000e+00 0.00000000e+00\n",
      "  0.00000000e+00 4.23495304e-04 0.00000000e+00 5.78738996e-04\n",
      "  3.90386337e-04 5.70594426e-04 4.63503975e-04 4.73575279e-04\n",
      "  0.00000000e+00 5.58909000e-04 5.88970276e-04 5.45553921e-04\n",
      "  0.00000000e+00 4.01087732e-04 4.40361791e-04 0.00000000e+00\n",
      "  0.00000000e+00 0.00000000e+00 2.90229654e-04 2.68180935e-04\n",
      "  0.00000000e+00 0.00000000e+00 0.00000000e+00 0.00000000e+00\n",
      "  0.00000000e+00 4.32373053e-04 0.00000000e+00 3.28268953e-04\n",
      "  3.10083028e-04 0.00000000e+00 0.00000000e+00 0.00000000e+00\n",
      "  2.80490181e-04 3.59801093e-04 4.25779143e-04 0.00000000e+00\n",
      "  0.00000000e+00 3.52727448e-04 0.00000000e+00 3.52773482e-04\n",
      "  0.00000000e+00 3.10317166e-04 4.25834520e-04 0.00000000e+00\n",
      "  0.00000000e+00 0.00000000e+00 3.31287993e-04 0.00000000e+00\n",
      "  3.48874512e-04 0.00000000e+00 0.00000000e+00 4.76566239e-04\n",
      "  5.75020173e-04 3.68166376e-04 0.00000000e+00 3.13948986e-04\n",
      "  2.67379800e-04 0.00000000e+00 5.53201093e-04 5.14390708e-04\n",
      "  5.77516447e-04 0.00000000e+00 0.00000000e+00 4.26694475e-04\n",
      "  0.00000000e+00 0.00000000e+00 3.12352481e-04 0.00000000e+00\n",
      "  5.90806589e-04 2.68147586e-04 5.10238469e-04 3.73570041e-04\n",
      "  0.00000000e+00 0.00000000e+00 0.00000000e+00 5.20879140e-04\n",
      "  0.00000000e+00 0.00000000e+00 0.00000000e+00 4.80711384e-04\n",
      "  4.11348575e-04 3.86264066e-04 0.00000000e+00 0.00000000e+00\n",
      "  0.00000000e+00 0.00000000e+00 3.87301126e-04 4.96719639e-04\n",
      "  5.18697990e-04 0.00000000e+00 3.28188450e-04 0.00000000e+00\n",
      "  0.00000000e+00 5.36877552e-04 3.77604644e-04 2.54665313e-04\n",
      "  3.39332039e-04 2.61702286e-04 3.97154973e-04 5.22061533e-04\n",
      "  0.00000000e+00 0.00000000e+00 0.00000000e+00 4.90094253e-04\n",
      "  4.65333859e-04 4.44807583e-04 0.00000000e+00 2.73089249e-04\n",
      "  4.57758308e-04 3.61152728e-04 0.00000000e+00 4.21441376e-04\n",
      "  4.67292017e-04 3.06029760e-04 0.00000000e+00 4.02492259e-04\n",
      "  3.66695728e-04 2.82461096e-04 5.48672704e-04 5.48543074e-04\n",
      "  5.67476469e-04 3.96873010e-04 3.32923988e-04 0.00000000e+00\n",
      "  0.00000000e+00 0.00000000e+00 4.17311054e-04 4.47017812e-04\n",
      "  0.00000000e+00 4.72419279e-04 0.00000000e+00 0.00000000e+00\n",
      "  0.00000000e+00 0.00000000e+00 0.00000000e+00 5.11326700e-04\n",
      "  5.40659118e-04 5.22635064e-04 2.68337200e-04 5.53872078e-04\n",
      "  5.04690093e-04 0.00000000e+00 4.26186420e-04 4.78213449e-04\n",
      "  0.00000000e+00 4.46238096e-04 4.50751328e-04 3.45111260e-04\n",
      "  4.05255609e-04 0.00000000e+00 4.38172446e-04 0.00000000e+00\n",
      "  4.05734260e-04 3.90987016e-04 4.23948990e-04 0.00000000e+00\n",
      "  0.00000000e+00 0.00000000e+00 4.67672692e-04 3.58876744e-04\n",
      "  0.00000000e+00 5.13960225e-04 2.71113067e-04 0.00000000e+00\n",
      "  0.00000000e+00 0.00000000e+00 5.07283751e-04 4.06117270e-04\n",
      "  0.00000000e+00 0.00000000e+00 4.68072727e-04 2.92793304e-04\n",
      "  3.18516164e-04 4.28116539e-04 0.00000000e+00 3.38224566e-04\n",
      "  4.80208658e-04 0.00000000e+00 5.14434831e-04 5.40325123e-04\n",
      "  0.00000000e+00 3.55528034e-04 4.91345919e-04 0.00000000e+00\n",
      "  4.97340506e-04 0.00000000e+00 0.00000000e+00 3.51256087e-04\n",
      "  0.00000000e+00 2.92571359e-04 3.08078864e-04 5.47835347e-04\n",
      "  0.00000000e+00 7.34520201e-02 4.63763800e-04 0.00000000e+00\n",
      "  0.00000000e+00 4.80595809e-04 5.70984181e-04 0.00000000e+00\n",
      "  0.00000000e+00 4.32005621e-04 3.98415642e-04 0.00000000e+00\n",
      "  0.00000000e+00 3.79915055e-04 0.00000000e+00 0.00000000e+00\n",
      "  5.17317013e-04 0.00000000e+00 4.11568928e-04 0.00000000e+00\n",
      "  2.56567335e-04 5.20440107e-04 3.83288043e-04 0.00000000e+00\n",
      "  2.76804712e-04 4.85393250e-04 0.00000000e+00 0.00000000e+00\n",
      "  5.63232398e-04 0.00000000e+00 4.52530847e-04 0.00000000e+00\n",
      "  4.54007483e-04 4.80780908e-04 0.00000000e+00 0.00000000e+00\n",
      "  4.06079729e-04 3.63561801e-04 4.75470173e-04 0.00000000e+00\n",
      "  4.30027473e-04 3.81021117e-04 3.43523802e-04 4.27673795e-04\n",
      "  5.34580916e-04 3.84365515e-04 3.47430780e-04 0.00000000e+00\n",
      "  5.64073830e-04 0.00000000e+00 4.88460091e-04 0.00000000e+00\n",
      "  0.00000000e+00 0.00000000e+00 4.33521524e-04 4.06158763e-04\n",
      "  0.00000000e+00 0.00000000e+00 0.00000000e+00 2.79896991e-04\n",
      "  3.53562666e-04 0.00000000e+00 2.73745341e-04 0.00000000e+00\n",
      "  0.00000000e+00 0.00000000e+00 4.11328475e-04 4.08821159e-04\n",
      "  0.00000000e+00 5.66559003e-04 3.97081341e-04 0.00000000e+00\n",
      "  5.12036897e-04 4.39764203e-04 2.93633081e-04 0.00000000e+00\n",
      "  4.67427703e-04 4.32552787e-04 5.06118684e-04 0.00000000e+00\n",
      "  4.97436216e-04 0.00000000e+00 4.71004724e-04 0.00000000e+00\n",
      "  0.00000000e+00 0.00000000e+00 5.22657662e-04 0.00000000e+00\n",
      "  0.00000000e+00 0.00000000e+00 0.00000000e+00 0.00000000e+00\n",
      "  0.00000000e+00 5.05361210e-04 0.00000000e+00 5.20722188e-04\n",
      "  0.00000000e+00 3.11457840e-04 0.00000000e+00 3.33401848e-04\n",
      "  5.63605041e-01 4.48131872e-04 3.07916503e-04 4.87331938e-04\n",
      "  5.45142325e-04 2.79158982e-04 0.00000000e+00 3.93542735e-04\n",
      "  2.96513050e-04 4.54981025e-04 3.78333973e-04 3.17601741e-04\n",
      "  0.00000000e+00 0.00000000e+00 3.50522875e-04 3.70344463e-04\n",
      "  4.11378901e-04 2.76925231e-04 4.05351212e-04 0.00000000e+00\n",
      "  0.00000000e+00 2.77612185e-04 0.00000000e+00 3.52420380e-04\n",
      "  4.43815932e-04 4.32715895e-04 2.97654791e-04 0.00000000e+00]] 58\n"
     ]
    },
    {
     "data": {
      "text/plain": [
       "225"
      ]
     },
     "execution_count": 188,
     "metadata": {},
     "output_type": "execute_result"
    }
   ],
   "source": [
    "answer, _ = find_optimal_solution(Constants(1000, 700, 0.6, 0.1, 70))\n",
    "print(answer, _)\n",
    "np.count_nonzero(answer)"
   ]
  },
  {
   "attachments": {},
   "cell_type": "markdown",
   "metadata": {},
   "source": [
    "In the end I saved the answer in ```my_answer.csv``` file."
   ]
  },
  {
   "cell_type": "code",
   "execution_count": 189,
   "metadata": {},
   "outputs": [],
   "source": [
    "answer = answer.reshape(NUM_OF_STOCKS).tolist()\n",
    "data[\"coeffs\"] = answer\n",
    "data.to_csv('my_answer.csv', index=False)"
   ]
  },
  {
   "attachments": {},
   "cell_type": "markdown",
   "metadata": {},
   "source": [
    "### Questions\n",
    "1. *What happens if our population is too big or small?* If we have a big population, It may help us in terms of finding the optimal solution in less generations because we have more diversity but the problem is it will take more time and memory. If the population is too small we have less diversity and we may never find an optimal answer.\n",
    "\n",
    "2. *What happens if the population increases after each generations?* If the population grows with each generation, the diversity increases and it may help us but again it will take more time and memory. Also we keep the population the same to make our chromosomes converge to optimal answer and if we increase the population, it may harm the convergence.\n",
    "\n",
    "3. *What are the effects of crossover and mutation and what happens if we use only one of them?* Crossover makes better chromosomes by combining good chromosomes but mutation is mostly used to make better chromosomes by directly changing the genes of one chromosome and helps us escape a local extremum. For example if we check the best fitness in the population of each generation, we can see that it converges to a number and then a mutation causes it to diverge from that number and suddenly increase. So we can't solve the problem by only using crossover.(uniform crossover may reach the answer but it will take too many generations) and in general only using mutation won't lead us to an optimal answer because it doesn't have the effect of crossover, however in this case for some constants, only using mutation leads to answer.\n",
    "\n",
    "4. *What are some ways to find the answer faster?* We can play with parameters as I did in testing part to find the best values to find the answer as fast as possible.\n",
    "\n",
    "5. *How can we solve the problem of chromosomes getting stuck after some generations?* As I said in question 3, mutation usually solves ths problem. we could also use multi-starting and run the algorithm with different initial populations.\n",
    "\n",
    "6. *What can we do to stop the algorithm if the problem doesn't have any solutions?* We can define a maximum value for the number of the generations (as I did) and stop the algorithm if it reaches that limit. Then we can return the chromosome with the best fitness in out population."
   ]
  },
  {
   "attachments": {},
   "cell_type": "markdown",
   "metadata": {},
   "source": [
    "## Part Two: Game (Minimax For Othello)\n",
    "### Problem description:\n",
    "We are given a code for a game called [Othello](https://en.wikipedia.org/wiki/Reversi#Othello) and we are asked to complete one of the AI agents of the game. The other agent chooses its moves randomly. We have to use minimax algorithm with alpha-beta pruning."
   ]
  },
  {
   "attachments": {},
   "cell_type": "markdown",
   "metadata": {},
   "source": [
    "I changed the code design. We have four classes in the code:\n",
    "* ```Board```: stores the board of the game and has the functions related to the board like changing the board when a move is made or giving all valid moves and etc.\n",
    "* ```AI```: contains the minimax and other functions related to our AI agent.\n",
    "* ```OthelloUI```: It can be used to graphically show the game. this class is not included in the report but can be found in ```game.py``` file.\n",
    "* ```Othello```: instantiate all of other objects and handles the whole game.\n"
   ]
  },
  {
   "cell_type": "code",
   "execution_count": 106,
   "metadata": {},
   "outputs": [],
   "source": [
    "import random\n",
    "import time\n",
    "import math\n",
    "from copy import deepcopy"
   ]
  },
  {
   "attachments": {},
   "cell_type": "markdown",
   "metadata": {},
   "source": [
    "### Board\n"
   ]
  },
  {
   "attachments": {},
   "cell_type": "markdown",
   "metadata": {},
   "source": [
    "board is simply a nested list to represent the map of the game. I added some functions to the original code:\n",
    "* ```get_map``` makes a deep copy of map and returns it. It's used by Othello to pass it to the UI class.\n",
    "* ```count_coins``` gets a player and count its coins in the game.\n",
    "* ```count_corner_coins``` gets a player and count how many coins in the 4 corners of the map it has. Corners are important in othello and I used it in the AI's heuristic function.\n",
    "\n",
    "Other functions are the same as the ones in the original code and I simply moved them to this class."
   ]
  },
  {
   "cell_type": "code",
   "execution_count": 116,
   "metadata": {},
   "outputs": [],
   "source": [
    "class Board:\n",
    "    def __init__(self, size):\n",
    "        self.size = size\n",
    "        self.board = [[0 for _ in range(self.size)] for _ in range(self.size)]\n",
    "        self.board[int(self.size / 2) - 1][int(self.size / 2) - 1] = self.board[int(self.size / 2)][\n",
    "            int(self.size / 2)] = 1\n",
    "        self.board[int(self.size / 2) - 1][int(self.size / 2)] = self.board[int(self.size / 2)][\n",
    "            int(self.size / 2) - 1] = -1\n",
    "    \n",
    "    def get_valid_moves(self, player):\n",
    "        moves = set()\n",
    "        for i in range(self.size):\n",
    "            for j in range(self.size):\n",
    "                if self.board[i][j] == 0:\n",
    "                    for di in [-1, 0, 1]:\n",
    "                        for dj in [-1, 0, 1]:\n",
    "                            if di == 0 and dj == 0:\n",
    "                                continue\n",
    "                            x, y = i, j\n",
    "                            captured = []\n",
    "                            while 0 <= x + di < self.size and 0 <= y + dj < self.size and self.board[x + di][\n",
    "                                    y + dj] == -player:\n",
    "                                captured.append((x + di, y + dj))\n",
    "                                x += di\n",
    "                                y += dj\n",
    "                            if 0 <= x + di < self.size and 0 <= y + dj < self.size and self.board[x + di][\n",
    "                                    y + dj] == player and len(captured) > 0:\n",
    "                                moves.add((i, j))\n",
    "        return list(moves)\n",
    "    \n",
    "    def make_move(self, player, move):\n",
    "        i, j = move\n",
    "        self.board[i][j] = player\n",
    "        for di in [-1, 0, 1]:\n",
    "            for dj in [-1, 0, 1]:\n",
    "                if di == 0 and dj == 0:\n",
    "                    continue\n",
    "                x, y = i, j\n",
    "                captured = []\n",
    "                while 0 <= x + di < self.size and 0 <= y + dj < self.size and self.board[x + di][y + dj] == -player:\n",
    "                    captured.append((x + di, y + dj))\n",
    "                    x += di\n",
    "                    y += dj\n",
    "                if 0 <= x + di < self.size and 0 <= y + dj < self.size and self.board[x + di][y + dj] == player:\n",
    "                    for (cx, cy) in captured:\n",
    "                        self.board[cx][cy] = player\n",
    "    \n",
    "    def get_winner(self):\n",
    "        white_count = self.count_coins(1)\n",
    "        black_count = self.count_coins(-1)\n",
    "        if white_count > black_count:\n",
    "            return 1\n",
    "        elif white_count < black_count:\n",
    "            return -1\n",
    "        else:\n",
    "            return 0\n",
    "                        \n",
    "    def terminal_test(self):\n",
    "        return len(self.get_valid_moves(1)) == 0 and len(self.get_valid_moves(-1)) == 0\n",
    "    \n",
    "    def get_map(self):\n",
    "        return deepcopy(self.board)\n",
    "        \n",
    "    def count_coins(self, player):\n",
    "        return sum([row.count(player) for row in self.board])\n",
    "    \n",
    "    def count_corner_coins(self, player):\n",
    "        corner_coins = 0\n",
    "        for i in [0, self.size - 1]:\n",
    "            for j in [0, self.size - 1]:\n",
    "                if self.board[i][j] == player:\n",
    "                    corner_coins += 1\n",
    "        return corner_coins"
   ]
  },
  {
   "attachments": {},
   "cell_type": "markdown",
   "metadata": {},
   "source": [
    "### Othello"
   ]
  },
  {
   "attachments": {},
   "cell_type": "markdown",
   "metadata": {},
   "source": [
    "Othello's functions are almost the same as the original code. The difference is it has ```ai_agent``` object which is an instance of ```AI``` class and is used to get our move in the game. some of the functions are moved to ```Board``` and I also deleted the UI part in the report. (But UI can still be seen in ```game.py``` file)."
   ]
  },
  {
   "cell_type": "code",
   "execution_count": 103,
   "metadata": {},
   "outputs": [],
   "source": [
    "class Othello:\n",
    "    def __init__(self, size, minimax_depth=1, prune=True):\n",
    "        self.size = size\n",
    "        self.board = Board(self.size) \n",
    "        self.current_turn = random.choice([1, -1])\n",
    "        self.ai_agent = AI(1, minimax_depth, prune)\n",
    "        \n",
    "    def get_cpu_move(self):\n",
    "        moves = self.board.get_valid_moves(-1)\n",
    "        if len(moves) == 0:\n",
    "            return None\n",
    "        return random.choice(moves)\n",
    "\n",
    "    def get_human_move(self):\n",
    "        return self.ai_agent.get_move(deepcopy(self.board))\n",
    "        \n",
    "    def play(self):\n",
    "        winner = None\n",
    "        while not self.board.terminal_test():\n",
    "            if self.current_turn == 1:\n",
    "                move = self.get_human_move()\n",
    "                if move:\n",
    "                    self.board.make_move(self.current_turn, move)\n",
    "            else:\n",
    "                move = self.get_cpu_move()\n",
    "                if move:\n",
    "                    self.board.make_move(self.current_turn, move)\n",
    "            self.current_turn = -self.current_turn\n",
    "        winner = self.board.get_winner()\n",
    "        return winner, self.ai_agent.visited_nodes"
   ]
  },
  {
   "attachments": {},
   "cell_type": "markdown",
   "metadata": {},
   "source": [
    "### AI\n"
   ]
  },
  {
   "attachments": {},
   "cell_type": "markdown",
   "metadata": {},
   "source": [
    "#### Minimax\n",
    "For this part I used the minimax algorithm. The general idea in the algorithm is to assume that our enemy is smart and chooses the best move. So we search the game tree and for the enemy's turn, we choose the move that's the worst for us(Min) and for our turn we choose the move that's the best for us (Max). The problem is we can't search the game's tree until the end (because of memory and time limitations) so we should have a maximum depth. When we reach the maximum depth, we should evaluate that current state with an appropriate function and give it a value."
   ]
  },
  {
   "attachments": {},
   "cell_type": "markdown",
   "metadata": {},
   "source": [
    "### Evaluation\n",
    "I defined two heuristic functions and give each of them a weight for the main evaluation function:\n",
    "* ```calc_coins_heuristic```: It compares the number of the coins that each player has and is defined as below:\n",
    "$$ h_1 = \\frac{coins_{player} - coins_{enemy}}{coins_{player} + coins_{enemy}}$$\n",
    "* ```calc_corner_heuristic```: It compares the number of coins in the corner of the map that each player has. Corners in othello are so important because you can't change a coin which is in the corner and you can change a lot of coins using a corner coin.\n",
    "$$ h_2 = \\frac{CornerCoins_{player} - CornerCoins_{enemy}}{CornerCoins_{player} + CornerCoins_{enemy}}$$\n",
    "\n",
    "I also tried to define another heuristic which checked how many moves each player has in the current state but because it made the algorithm too slow, I didn't include it in the main evaluation function.\n",
    "\n",
    "The evaluation function is defined as below:\n",
    "$$ Evaluate(State) = 5 * h_1 + 2 * h_2 $$\n",
    "\n",
    "The weights have been found by testing the algorithm multiple times.\n",
    "\n",
    "The evaluation mentioned is for when our state is not the end of the game. When algorithm reaches a state that is the end of the game, it simply calculates the winner and if we are the winner it gives a very high value to the state. if we are the loser, it gives a very low value otherwise it gives 0 to that state."
   ]
  },
  {
   "attachments": {},
   "cell_type": "markdown",
   "metadata": {},
   "source": [
    "#### Pruning\n",
    "There is a trick to make our algorithm better. It's called Alpha-beta Pruning. The idea is when are in a max layer, if we find a value that's larger than another value in other branches from the upper layer(which is a Min layer) We can prune the rest of the layer because the value of that layer definitely will not be chosen by the upper min layer. This is called Beta pruning. Alpha pruning is the same but this time we prune a min layer. Alpha-beta pruning is implemented and I tested the algorithm with pruning and without it to show its effect."
   ]
  },
  {
   "cell_type": "code",
   "execution_count": 107,
   "metadata": {},
   "outputs": [],
   "source": [
    "class AI:\n",
    "    def __init__(self, player, minimax_depth, prune):\n",
    "        self.player = player\n",
    "        self.minimax_depth = minimax_depth\n",
    "        self.prune = prune\n",
    "        self.visited_nodes = 0\n",
    "        \n",
    "    def end_match_evaluate(self, board):\n",
    "        winner = board.get_winner()\n",
    "        if winner == self.player:\n",
    "            return 1000\n",
    "        elif winner == -self.player:\n",
    "            return -1000\n",
    "        else:\n",
    "            return 0\n",
    "        \n",
    "    def evaluate(self, board):            \n",
    "        return  5 * self.calc_corner_heuristic(board) + 2 * self.calc_coins_heuristic(board) \n",
    "    \n",
    "    def calc_mobility_heuristic(self, board):\n",
    "        player_moves = len(board.get_valid_moves(self.player))\n",
    "        enemy_moves = len(board.get_valid_moves(-self.player))\n",
    "        if enemy_moves + player_moves == 0:\n",
    "            return 0\n",
    "        return (player_moves - enemy_moves) / (player_moves + enemy_moves)\n",
    "    \n",
    "    def calc_coins_heuristic(self, board):\n",
    "        player_coins = board.count_coins(self.player)\n",
    "        enemy_coins = board.count_coins(-self.player)\n",
    "        return (player_coins - enemy_coins) / (player_coins + enemy_coins)\n",
    "    \n",
    "    def calc_corner_heuristic(self, board):\n",
    "        player_corners = board.count_corner_coins(self.player)\n",
    "        enemy_corners = board.count_corner_coins(-self.player)\n",
    "        if enemy_corners + player_corners == 0:\n",
    "            return 0\n",
    "        return (player_corners - enemy_corners) / (player_corners + enemy_corners)\n",
    "        \n",
    "    def max_value(self, cur_board, cur_depth = 0, alpha = -math.inf, beta = math.inf, visited_nodes = 1, prev_no_move = 0):\n",
    "        if cur_depth == self.minimax_depth:\n",
    "            return None, self.evaluate(cur_board), visited_nodes\n",
    "        valid_moves = cur_board.get_valid_moves(self.player)\n",
    "        if len(valid_moves) == 0:\n",
    "            if prev_no_move:\n",
    "                return None, self.end_match_evaluate(cur_board), visited_nodes\n",
    "            return self.min_value(cur_board, cur_depth + 1, alpha, beta, visited_nodes + 1, 1)\n",
    "        best_move = None\n",
    "        best_point = -math.inf\n",
    "        for move in valid_moves:\n",
    "            new_board = deepcopy(cur_board)\n",
    "            new_board.make_move(self.player, move)\n",
    "            next_move, point, visited_nodes = self.min_value(new_board, cur_depth + 1, alpha, beta, visited_nodes + 1)\n",
    "            if best_point < point:\n",
    "                best_point = point\n",
    "                best_move = move\n",
    "            if self.prune:\n",
    "                if best_point >= beta:\n",
    "                    return best_move, best_point, visited_nodes\n",
    "                alpha = max(alpha, best_point) \n",
    "        return best_move, best_point, visited_nodes\n",
    "            \n",
    "    def min_value(self, cur_board, cur_depth = 0, alpha = -math.inf, beta = math.inf, visited_nodes = 1, prev_no_move = 0):\n",
    "        if cur_depth == self.minimax_depth:\n",
    "            return None, self.evaluate(cur_board), visited_nodes\n",
    "        valid_moves = cur_board.get_valid_moves(-self.player)\n",
    "        if len(valid_moves) == 0:\n",
    "            if prev_no_move:\n",
    "                return None, self.end_match_evaluate(cur_board), visited_nodes\n",
    "            return self.max_value(cur_board, cur_depth + 1, alpha, beta, visited_nodes + 1, 1)\n",
    "        best_move = None\n",
    "        best_point = math.inf\n",
    "        for move in valid_moves:\n",
    "            new_board = deepcopy(cur_board)\n",
    "            new_board.make_move(-self.player, move)\n",
    "            next_move, point, visited_nodes = self.max_value(new_board, cur_depth + 1, alpha, beta, visited_nodes + 1)\n",
    "            if best_point > point:\n",
    "                best_point = point\n",
    "                best_move = move\n",
    "            if self.prune:\n",
    "                if best_point <= alpha:\n",
    "                    return best_move, best_point, visited_nodes\n",
    "                beta = min(beta, best_point) \n",
    "        return best_move, best_point, visited_nodes\n",
    "        \n",
    "    def get_move(self, cur_board):\n",
    "        best_move, point, visited_nodes = self.max_value(cur_board)\n",
    "        self.visited_nodes += visited_nodes\n",
    "        return best_move"
   ]
  },
  {
   "attachments": {},
   "cell_type": "markdown",
   "metadata": {},
   "source": [
    "### Testing"
   ]
  },
  {
   "attachments": {},
   "cell_type": "markdown",
   "metadata": {},
   "source": [
    "I wrote a wrapper function called ```test``` to play the game for 150 times with given flags and prints its information:"
   ]
  },
  {
   "cell_type": "code",
   "execution_count": 108,
   "metadata": {},
   "outputs": [],
   "source": [
    "import time \n",
    "BOARD_SIZE = 6 \n",
    "REPEAT = 150\n",
    "\n",
    "def test(minimax_depth, prune):\n",
    "    wins = 0\n",
    "    sum_visited_nodes = 0\n",
    "    time_spent = 0\n",
    "    for i in range(REPEAT):\n",
    "        game = Othello(BOARD_SIZE, minimax_depth, prune)\n",
    "        t0 = time.time()\n",
    "        result, visited_nodes = game.play()\n",
    "        t1 = time.time()\n",
    "        time_spent += (t1 - t0)\n",
    "        sum_visited_nodes += visited_nodes\n",
    "        if result == 1:\n",
    "            wins += 1\n",
    "    print(f\"with maximum depth:{minimax_depth} and pruning:{prune}\")\n",
    "    print(f\"wins:{wins * 100 / (REPEAT):.3f}%\")\n",
    "    print(f\"mean visited moves:{sum_visited_nodes / REPEAT:.3f} per game\")\n",
    "    print(f\"mean time spent:{time_spent / REPEAT:.3f} per game\")"
   ]
  },
  {
   "cell_type": "code",
   "execution_count": 109,
   "metadata": {},
   "outputs": [
    {
     "name": "stdout",
     "output_type": "stream",
     "text": [
      "with maximum depth:1 and pruning:0\n",
      "wins:81.333%\n",
      "mean visited moves:96.573 per game\n",
      "mean time spent:0.005 per game\n"
     ]
    }
   ],
   "source": [
    "test(minimax_depth = 1 , prune = 0)"
   ]
  },
  {
   "cell_type": "code",
   "execution_count": 110,
   "metadata": {},
   "outputs": [
    {
     "name": "stdout",
     "output_type": "stream",
     "text": [
      "with maximum depth:3 and pruning:0\n",
      "wins:98.000%\n",
      "mean visited moves:3505.613 per game\n",
      "mean time spent:0.126 per game\n"
     ]
    }
   ],
   "source": [
    "test(minimax_depth = 3 , prune = 0)"
   ]
  },
  {
   "cell_type": "code",
   "execution_count": 115,
   "metadata": {},
   "outputs": [
    {
     "name": "stdout",
     "output_type": "stream",
     "text": [
      "with maximum depth:5 and pruning:0\n",
      "wins:99.333%\n",
      "mean visited moves:133706.160 per game\n",
      "mean time spent:4.358 per game\n"
     ]
    }
   ],
   "source": [
    "test(minimax_depth = 5 , prune = 0)"
   ]
  },
  {
   "cell_type": "code",
   "execution_count": 111,
   "metadata": {},
   "outputs": [
    {
     "name": "stdout",
     "output_type": "stream",
     "text": [
      "with maximum depth:1 and pruning:1\n",
      "wins:75.333%\n",
      "mean visited moves:95.507 per game\n",
      "mean time spent:0.006 per game\n"
     ]
    }
   ],
   "source": [
    "test(minimax_depth = 1 , prune = 1)"
   ]
  },
  {
   "cell_type": "code",
   "execution_count": 112,
   "metadata": {},
   "outputs": [
    {
     "name": "stdout",
     "output_type": "stream",
     "text": [
      "with maximum depth:3 and pruning:1\n",
      "wins:98.667%\n",
      "mean visited moves:1559.707 per game\n",
      "mean time spent:0.061 per game\n"
     ]
    }
   ],
   "source": [
    "test(minimax_depth = 3 , prune = 1)"
   ]
  },
  {
   "cell_type": "code",
   "execution_count": 113,
   "metadata": {},
   "outputs": [
    {
     "name": "stdout",
     "output_type": "stream",
     "text": [
      "with maximum depth:5 and pruning:1\n",
      "wins:100.000%\n",
      "mean visited moves:18697.900 per game\n",
      "mean time spent:0.765 per game\n"
     ]
    }
   ],
   "source": [
    "test(minimax_depth = 5 , prune = 1)"
   ]
  },
  {
   "cell_type": "code",
   "execution_count": 114,
   "metadata": {},
   "outputs": [
    {
     "name": "stdout",
     "output_type": "stream",
     "text": [
      "with maximum depth:7 and pruning:1\n",
      "wins:100.000%\n",
      "mean visited moves:211211.580 per game\n",
      "mean time spent:8.455 per game\n"
     ]
    }
   ],
   "source": [
    "test(minimax_depth = 7 , prune = 1)"
   ]
  },
  {
   "attachments": {},
   "cell_type": "markdown",
   "metadata": {},
   "source": [
    "### Test Results\n",
    "\n",
    "| Maximum Depth | Pruning | Win Percentage | Visited Node Per Game | Time Spent Per Game|\n",
    "| :-----------: | :-----: | :------------: | :-------------------: | :----------------: |\n",
    "| 1 | False     | 81.333% | 96.573         |         0.005         \n",
    "| 3 | False     | 98.000% | 133706.160           |         0.006       \n",
    "| 5 | False     | 99.333% | 0.600          |         4.358        \n",
    "| 1 | True      | 75.333% | 95.507          |         0.006        \n",
    "| 3 | True      | 98.667% | 1559.707          |         0.061        \n",
    "| 5 | True      | 100% | 18697.900         |         0.765         \n",
    "| 7 | True      | 100% | 211211.580          |         8.455        \n",
    "\n"
   ]
  },
  {
   "attachments": {},
   "cell_type": "markdown",
   "metadata": {},
   "source": [
    "### Questions\n",
    "\n",
    "1. *What were the attributes considered in heuristic function and Why?* It was explained in details in Evaluation part.In general two factors was used to evaluate a state. Firstly the coins in the corners of map because they can never change and also have high effect on changing many coins. Secondly the total number of coins for each player which is an obvious thing to consider. I also wanted to add one more factors to the evaluation function but it needed more complexity and made algorithm slow. That was to check how many moves each player has. Because it's better to reach a state that our opponent is limited or even has no moves!\n",
    "\n",
    "2. *What is the relation between the minimax depth and calculated parameters in the test part?* If we increase the minimax depth, We'll have more chance to win the game because we visit more states in the game and can predict the game more precisely. The problem is we'll need more time and memory so we should pay attention to this trade-off.\n",
    "\n",
    "3. *Can we choose an order in visiting nodes to maximize pruning?* We can order our moves in a way to increase pruning. We have to check the better moves first. For example first we check the moves in which a corner will be capture because these moves will probably have better/worse values compared to other moves. We also can save the states that we have seen in a hash table with their value so if we reach one of them from another path, we can compare its value to alpha/beta and if pruning is not possible we check other moves in that layer. These were the ideas to improve pruning but I think in general there is no guarantee that we can always **maximize** the pruning. \n",
    "\n",
    "4. *Explain Branching Factor and tell how it changes as game grows?* Branching Factor is the number of children each node has in the graph. I think the growth of branching factor depends on the players' moves but in general it increases while the game progresses and at the end of the game it starts to decrease because there will be less possible moves.\n",
    "\n",
    "5. *Explain why pruning doesn't decrease the precision of algorithm?* Because for example when we are in a max layer and find a move with value more than Beta, it means that there is a min layer in our ancestors in which there's another branch with value less than our current move's value. So this move's value won't be chosen by that min layer and since we're currently in a max layer we will be able to choose only moves with more values than this current value so those values won't be chosen by that upper min layer neither and we can ignore them and don't check them. This won't change our result.\n",
    "\n",
    "6. *Why when our opponent is playing randomly, it's not the best choice to play with minimax algorithm? What else can we use?* Because in minimax we assume that our opponent is completely intelligent and make the best choices for each move but for example in this project our opponent was playing randomly and didn't choose he best option for each move. suppose We have a move that leads to 2 possible moves for our opponent and Both of those moves will reach a state with value 10. We have another move that leads to 2 possible moves for our opponent and one of them will reach a state with value 1000 and the other will reach a state with value 9. In minimax we choose the first move because if we choose the second move, an intelligent opponent will take us to a state with value 9 but if we know that our opponent is working randomly we can take a risk and choose the second move. We may be lucky and get 1000 or even we get unlucky we will get 9 which is not much lower that 10! So we can choose expectimax algorithm instead of minimax. in expectimax instead of finding the minimum in the opponent's layer, we calculate the expected value of all moves. Each move has a probability and its value will be multiplied by its probability and sum of these will be the value of the layer."
   ]
  },
  {
   "attachments": {},
   "cell_type": "markdown",
   "metadata": {},
   "source": [
    "### Sources I used for the project:\n",
    "* [A site about Othello and its AI](http://radagast.se//othello/index.html)\n",
    "* [An Analysis of Heuristics in Othello](https://courses.cs.washington.edu/courses/cse573/04au/Project/mini1/RUSSIA/Final_Paper.pdf)\n",
    "* [Minimax/ Alpha beta pruning Move Ordering](https://stackoverflow.com/questions/8906430/minimax-alpha-beta-pruning-move-ordering)"
   ]
  }
 ],
 "metadata": {
  "kernelspec": {
   "display_name": "Python 3",
   "language": "python",
   "name": "python3"
  },
  "language_info": {
   "codemirror_mode": {
    "name": "ipython",
    "version": 3
   },
   "file_extension": ".py",
   "mimetype": "text/x-python",
   "name": "python",
   "nbconvert_exporter": "python",
   "pygments_lexer": "ipython3",
   "version": "3.9.6"
  },
  "orig_nbformat": 4,
  "vscode": {
   "interpreter": {
    "hash": "1ae8d0b1473b3aa8e294c13df9da0dc8bf9073961d7dc75e8b80c0fac3be765e"
   }
  }
 },
 "nbformat": 4,
 "nbformat_minor": 2
}
